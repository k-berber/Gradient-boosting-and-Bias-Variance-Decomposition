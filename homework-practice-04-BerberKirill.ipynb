{
 "cells": [
  {
   "cell_type": "markdown",
   "metadata": {},
   "source": [
    "# Практическое задание 4. Разложение ошибки на смещение и разброс. Градиентный бустинг"
   ]
  },
  {
   "cell_type": "markdown",
   "metadata": {},
   "source": [
    "Бербер Кирилл, 317 группа, максимальный из возможных баллов - 11.2! "
   ]
  },
  {
   "cell_type": "markdown",
   "metadata": {},
   "source": [
    "## О задании ## \n",
    "В этом задании вам предстоит воспользоваться возможностями bootstraping для оценки смещения и разброса алгоритмов машинного обучения. Делать мы это будем на данных boston. Также в задании вам будет предложено пообучать готовые модели градиентного бустинга и CatBoost."
   ]
  },
  {
   "cell_type": "markdown",
   "metadata": {},
   "source": [
    "#  Часть 1. Bias-Variance Decomposition"
   ]
  },
  {
   "cell_type": "code",
   "execution_count": 200,
   "metadata": {},
   "outputs": [],
   "source": [
    "import numpy as np\n",
    "import pandas as pd\n",
    "from matplotlib import pyplot as plt\n",
    "%matplotlib inline"
   ]
  },
  {
   "cell_type": "code",
   "execution_count": 201,
   "metadata": {},
   "outputs": [],
   "source": [
    "from sklearn.datasets import load_boston\n"
   ]
  },
  {
   "cell_type": "code",
   "execution_count": 202,
   "metadata": {},
   "outputs": [],
   "source": [
    "boston = load_boston()\n"
   ]
  },
  {
   "cell_type": "code",
   "execution_count": 203,
   "metadata": {},
   "outputs": [],
   "source": [
    "X = boston[\"data\"]\n",
    "y = boston[\"target\"]"
   ]
  },
  {
   "cell_type": "code",
   "execution_count": 32,
   "metadata": {},
   "outputs": [
    {
     "data": {
      "text/plain": [
       "((506, 13), (506,))"
      ]
     },
     "execution_count": 32,
     "metadata": {},
     "output_type": "execute_result"
    }
   ],
   "source": [
    "X.shape, y.shape"
   ]
  },
  {
   "cell_type": "code",
   "execution_count": 40,
   "metadata": {},
   "outputs": [
    {
     "data": {
      "text/plain": [
       "array([[6.3200e-03, 1.8000e+01, 2.3100e+00, ..., 1.5300e+01, 3.9690e+02,\n",
       "        4.9800e+00],\n",
       "       [2.7310e-02, 0.0000e+00, 7.0700e+00, ..., 1.7800e+01, 3.9690e+02,\n",
       "        9.1400e+00],\n",
       "       [2.7290e-02, 0.0000e+00, 7.0700e+00, ..., 1.7800e+01, 3.9283e+02,\n",
       "        4.0300e+00],\n",
       "       ...,\n",
       "       [6.0760e-02, 0.0000e+00, 1.1930e+01, ..., 2.1000e+01, 3.9690e+02,\n",
       "        5.6400e+00],\n",
       "       [1.0959e-01, 0.0000e+00, 1.1930e+01, ..., 2.1000e+01, 3.9345e+02,\n",
       "        6.4800e+00],\n",
       "       [4.7410e-02, 0.0000e+00, 1.1930e+01, ..., 2.1000e+01, 3.9690e+02,\n",
       "        7.8800e+00]])"
      ]
     },
     "execution_count": 40,
     "metadata": {},
     "output_type": "execute_result"
    }
   ],
   "source": [
    "X"
   ]
  },
  {
   "cell_type": "code",
   "execution_count": 310,
   "metadata": {},
   "outputs": [],
   "source": [
    "#y"
   ]
  },
  {
   "cell_type": "markdown",
   "metadata": {},
   "source": [
    "## Вычисление bias и variance с помощью бутстрапа\n",
    "На лекции была выведено следующая формула, показывающая, как можно представить ошибку алгоритма регрессии в виде суммы трех компонент:$$\n",
    "L(\\mu) = \n",
    "    \\mathbb{E}_{x, y}\\bigl[\\mathbb{E}_{X}\\bigl[ (y - \\mu(X)(x))^2 \\bigr]\\bigr] = \n",
    "$$$$\n",
    "    \\underbrace{\\mathbb{E}_{x, y}\\bigl[(y - \\mathbb{E}[y|x] )^2\\bigr]}_{\\text{шум}} + \\underbrace{\\mathbb{E}_{x}\\bigl[(\\mathbb{E}_{X}[\\mu(X)(x)] - \\mathbb{E}[y|x] )^2\\bigr]}_{\\text{смещение}} +\n",
    "    \\underbrace{\\mathbb{E}_{x}\\bigl[\\mathbb{E}_{X}\\bigl[(\\mu(X)(x) - \\mathbb{E}_{X}[\\mu(X)(x)] )^2\\bigr]\\bigr]}_{\\text{разброс}},\n",
    "$$\n",
    "\n",
    "- $\\mu(X)$ — алгоритм, обученный по выборке $X = \\{(x_1, y_1), \\dots (x_\\ell, y_\\ell)\\}$;\n",
    "- $\\mu(X)(x)$ — ответ алгоритма, обученного по выборке $X$, на объекте $x$;\n",
    "- $\\mathbb{E}_{X}$ — мат. ожидание по всем возможным выборкам;\n",
    "- $\\mathbb{E}_{X}[\\mu(X)(x)]$ — \"средний\" ответ алгоритма, обученного по всем возможным выборкам $X$, на объекте $x$.\n",
    "\n",
    "\n",
    "С помощью этой формулы мы можем анализировать свойства алгоритма обучения модели $\\mu$, если зададим вероятностную модель порождения пар $p(x, y)$.\n",
    "\n",
    "В реальных задачах мы, конечно же, не знаем распределение на парах объект - правильный ответ. Однако у нас есть набор семплов из этого распределения (обучающую выборка), и мы можем использовать его, чтобы оценивать математические ожидания. Для оценки мат. ожиданий по выборкам мы будем пользоваться бутстрэпом - методом генерации \"новых\" выборок из одной с помощью выбора объектов с возвращением. Разберем несколько шагов на пути к оценке смещения и разброса.\n",
    "\n",
    "**Приближенное вычисление интегралов**\n",
    "\n",
    "На занятиях мы разбирали примеры аналитического вычисления смещения и разброса нескольких алгоритмов обучения. Для большинства моделей данных и алгоритмов обучения аналитически рассчитать математические ожидания в формулах не удастся. Однако мат. ожидания можно оценивать приближенно. Чтобы оценить математическое ожидание $\\mathbb{E}_{\\bar z} f(\\bar z)$ функции от многомерной случайной величины $\\bar z = (z_1, \\dots, z_d)$, $\\bar z \\sim p(\\bar z)$, можно сгенерировать выборку из распределения $p(\\bar z)$ и усреднить значение функции на элементах этой выборки:\n",
    "\n",
    "$$\\mathbb{E}_{\\bar z} f(z) = \\int f(\\bar z) p(\\bar z) d \\bar z \\approx \\frac 1 m \\sum_{i=1}^m f(\\bar z_i), \\, \\bar z_i \\sim p(\\bar z), i = 1, \\dots, m.$$\n",
    "\n",
    "Например, оценим $\\mathbb{E}_z z^2,$ $z \\sim \\mathcal{N}(\\mu=5, \\sigma=3)$ (из теории вероятностей мы знаем, что $\\mathbb{E}_z z^2 = \\sigma^2 + \\mu^2 = 34$):"
   ]
  },
  {
   "cell_type": "code",
   "execution_count": 9,
   "metadata": {},
   "outputs": [
    {
     "data": {
      "text/plain": [
       "33.58698972881974"
      ]
     },
     "execution_count": 9,
     "metadata": {},
     "output_type": "execute_result"
    }
   ],
   "source": [
    "z = np.random.normal(loc=5, scale=3, size=1000)\n",
    "(z**2).mean()"
   ]
  },
  {
   "cell_type": "markdown",
   "metadata": {},
   "source": [
    "**Оценивание $\\mathbb{E}_{x, y}$**\n",
    "\n",
    "Оценить мат. ожидания по $x$ и по $x, y$, встречающиеся во всех трех компонентах разложения, несложно, потому что у нас есть выборка объектов из распределения данных $p(x, y)$:\n",
    "\n",
    "$$ \\mathbb{E}_{x} f(x) \\approx \\frac 1 N \\sum_{i=1}^N f(x_i), \\quad\n",
    "\\mathbb{E}_{x, y} f(x, y) \\approx \\frac 1 N \\sum_{i=1}^N f(x_i, y_i),$$где $N$ - число объектов в выборке, $\\{(x_i, y_i)\\}_{i=1}^N$ - сама выборка."
   ]
  },
  {
   "cell_type": "markdown",
   "metadata": {},
   "source": [
    "**Оценивание $\\mathbb{E}_X$ с помощью бутстрапа**\n",
    "\n",
    "Чтобы оценить мат. ожидание по $X$, нам понадобится выборка из выборок:$$\\mathbb{E}_X f(X) \\approx \\frac 1 s \\sum_{j=1}^s f(X_j),$$где $X_j$ - $j$-я выборка. Чтобы их получить, мы можем воспользоваться бутстрапом - методом генерации выборок на основе выбора объектов с возвращением. Чтобы составить одну выборку, будем $N$ раз выбирать индекс объекта $i \\sim \\text{Uniform}(1 \\dots N)$ и добавлять $i$-ю пару (объект, целевая переменная) в выборку. В результате в каждой выборке могут появиться повторяющиеся объекты, а какие-то объекты могут вовсе не войти в некоторые выборки."
   ]
  },
  {
   "cell_type": "markdown",
   "metadata": {},
   "source": [
    "**Итоговый алгоритм оценки смещения и разброса алгоритма $a$**\n",
    "\n",
    "1. Сгенерировать $s$ выборок $X_j$ методом бутстрапа.\n",
    "2. На каждой выборке $X_j$ обучить алгоритм $a_j$.\n",
    "3. Для каждой выборки $X_j$ определить множество объектов $T_j$, не вошедших в нее (out-of-bag). Вычислить предсказания \n",
    "алгоритма $a_j$ на объектах $T_j$.\n",
    "\n",
    "\n",
    "Поскольку у нас есть только один ответ для каждого объекта, мы будем считать шум равным 0, а $\\mathbb{E}[y|x]$ равным имеющемуся правильному ответу для объекта $x$.\n",
    "\n",
    "Итоговые оценки:\n",
    "\n",
    "- Смещение: для одного объекта - квадрат разности среднего предсказания и правильного ответа. Среднее предсказание берется только по тем алгоритмам $a_j$, для которых этот объект входил в out-of-bag выборку $T_j$. Для получения общего смещения выполнить усреденение смещений по объектам.\n",
    "- Разброс: для одного объекта - выборочная дисперсия предсказаний алгоритмов $a_j$, для которых этот объект входил в out-of-bag выборку $T_j$. Для получения общего разброса выполнить усреденение разбросов по объектам.\n",
    "- Ошибка $L$: усреднить квадраты разностей предсказания и правильного ответа по всем выполненным предсказаниям для всех объектов.\n",
    "В результате должно получиться, что ошибка приблизительно равна сумме смещения и разброса!\n"
   ]
  },
  {
   "cell_type": "markdown",
   "metadata": {},
   "source": [
    "**Задание 1. (1.5 баллa)**\n",
    "\n",
    "Реализуйте описанный алгоритм. Обратите внимание, что если объект не вошел ни в одну из out-of-bag выборок, учитывать его в вычислении итоговых величин не нужно. Как обычно, разрешается использовать только один цикл - по выборкам (от 0 до num_runs-1)."
   ]
  },
  {
   "cell_type": "code",
   "execution_count": 2,
   "metadata": {},
   "outputs": [],
   "source": [
    "import numpy as np"
   ]
  },
  {
   "cell_type": "code",
   "execution_count": 293,
   "metadata": {},
   "outputs": [
    {
     "data": {
      "text/plain": [
       "array([[1., 1., 1., 1.],\n",
       "       [4., 4., 4., 4.],\n",
       "       [9., 9., 9., 9.]])"
      ]
     },
     "execution_count": 293,
     "metadata": {},
     "output_type": "execute_result"
    }
   ],
   "source": [
    "b = np.array([1, 2, 3])\n",
    "d = c - b[:, np.newaxis]\n",
    "d**2"
   ]
  },
  {
   "cell_type": "code",
   "execution_count": 282,
   "metadata": {},
   "outputs": [
    {
     "data": {
      "text/plain": [
       "array([nan, nan, nan])"
      ]
     },
     "execution_count": 282,
     "metadata": {},
     "output_type": "execute_result"
    }
   ],
   "source": [
    "a = np.empty((3,))\n",
    "a[:] = np.nan\n",
    "b = np.array([1, 2, 3])\n",
    "a+b"
   ]
  },
  {
   "cell_type": "code",
   "execution_count": 198,
   "metadata": {},
   "outputs": [],
   "source": [
    "import random\n",
    "def compute_biase_variance(regressor, X, y, num_runs=1000):\n",
    "    \"\"\"\n",
    "    :param regressor: sklearn estimator with fit(...) and predict(...) method\n",
    "    :param X: numpy-array representing training set ob objects, shape [n_obj, n_feat]\n",
    "    :param y: numpy-array representing target for training objects, shape [n_obj]\n",
    "    :param num_runs: int, number of samples (s in the description of the algorithm)\n",
    "    \n",
    "    :returns: bias (float), variance (float), error (float) \n",
    "    each value is computed using bootstrap\n",
    "    \"\"\"\n",
    "    matr_predict = np.empty((X.shape[0], num_runs))\n",
    "    matr_predict[:] = np.nan\n",
    "    set_of_selected = set()\n",
    "    for i in range(num_runs):\n",
    "        lst = np.arange(X.shape[0])\n",
    "        sampling = np.random.choice(lst, X.shape[0], replace = True)\n",
    "        regressor.fit(X[sampling], y[sampling])\n",
    "        derelict = list(set(lst) - set(sampling))\n",
    "        #if i == 0:\n",
    "        #    print(len(derelict))\n",
    "        set_of_selected.update(derelict)\n",
    "        matr_predict[derelict, i] = regressor.predict(X[derelict])\n",
    "        #end\n",
    "    #print(len(np.nanmean(matr_predict, axis=1)))\n",
    "    #print(len(y))\n",
    "\n",
    "    bias = np.nanmean((np.nanmean(matr_predict, axis=1)-y)**2)\n",
    "    \n",
    "    variance_1 = (matr_predict - np.nanmean(matr_predict, axis=1)[:, np.newaxis])**2\n",
    "    variance_2 =  np.nanmean(variance_1, axis = 1)\n",
    "    variance = np.nanmean(variance_2)\n",
    "    \n",
    "    error = np.nanmean(np.nanmean((matr_predict - y[:, np.newaxis])**2, axis=1))\n",
    "    return bias, variance, error"
   ]
  },
  {
   "cell_type": "code",
   "execution_count": 353,
   "metadata": {},
   "outputs": [
    {
     "data": {
      "text/plain": [
       "[8, 1, 7, 8, 3]"
      ]
     },
     "execution_count": 353,
     "metadata": {},
     "output_type": "execute_result"
    }
   ],
   "source": [
    "lll = np.arange(10)\n",
    "sampl = random.choices(lll, k = 5)\n",
    "sampl"
   ]
  },
  {
   "cell_type": "markdown",
   "metadata": {},
   "source": [
    "**Задание 2. (0.5 баллa)**\n",
    "\n",
    "Оцените смещение, разброс и ошибку для трех алгоритмов с гиперпараметрами по умолчанию: линейная регрессия, решающее дерево, случайный лес."
   ]
  },
  {
   "cell_type": "code",
   "execution_count": 354,
   "metadata": {},
   "outputs": [
    {
     "data": {
      "text/plain": [
       "(23.75032581606664, 0.9339875073067737, 24.68431332337341)"
      ]
     },
     "execution_count": 354,
     "metadata": {},
     "output_type": "execute_result"
    }
   ],
   "source": [
    "from sklearn.tree import DecisionTreeRegressor\n",
    "from sklearn.ensemble import RandomForestRegressor\n",
    "from sklearn.linear_model import LinearRegression\n",
    "lin = LinearRegression()\n",
    "randf = RandomForestRegressor(max_depth=2, random_state=0)\n",
    "destr = DecisionTreeRegressor(random_state=0)\n",
    "compute_biase_variance(lin, X, y, num_runs=1000)"
   ]
  },
  {
   "cell_type": "code",
   "execution_count": 355,
   "metadata": {},
   "outputs": [
    {
     "data": {
      "text/plain": [
       "(10.323746453452193, 12.996065389281696, 23.319811842733888)"
      ]
     },
     "execution_count": 355,
     "metadata": {},
     "output_type": "execute_result"
    }
   ],
   "source": [
    "compute_biase_variance(destr, X, y, num_runs=1000)"
   ]
  },
  {
   "cell_type": "code",
   "execution_count": 356,
   "metadata": {},
   "outputs": [
    {
     "data": {
      "text/plain": [
       "(21.83237183550323, 2.6675544099708, 24.499926245474033)"
      ]
     },
     "execution_count": 356,
     "metadata": {},
     "output_type": "execute_result"
    }
   ],
   "source": [
    "compute_biase_variance(randf, X, y, num_runs=1000)"
   ]
  },
  {
   "cell_type": "markdown",
   "metadata": {},
   "source": [
    "здесь было ограничение по глубине - 2, поэтому результаты хуже"
   ]
  },
  {
   "cell_type": "code",
   "execution_count": 196,
   "metadata": {},
   "outputs": [],
   "source": [
    "from sklearn.ensemble import RandomForestRegressor\n",
    "randf2 = RandomForestRegressor(random_state=0)"
   ]
  },
  {
   "cell_type": "code",
   "execution_count": 204,
   "metadata": {},
   "outputs": [
    {
     "data": {
      "text/plain": [
       "(10.631770978262953, 2.1913908591525706, 12.823161837415524)"
      ]
     },
     "execution_count": 204,
     "metadata": {},
     "output_type": "execute_result"
    }
   ],
   "source": [
    "compute_biase_variance(randf2, X, y, num_runs=1000)"
   ]
  },
  {
   "cell_type": "markdown",
   "metadata": {},
   "source": [
    "здесь ограничения нет"
   ]
  },
  {
   "cell_type": "markdown",
   "metadata": {},
   "source": [
    "**Проанализируйте полученный результат. Согласуются ли полученные результаты с теми, что мы обсуждали на семинарах?**"
   ]
  },
  {
   "cell_type": "markdown",
   "metadata": {},
   "source": [
    "резуотаты согласуются с тем, что мы получали\n",
    "\n",
    "\n",
    "в первом случае линейной регрессии разброс получился довольно маленьким, а смещение большим. \n",
    "\n",
    "В случае решающего дерева смещение меньше, но увеличивается разброс.\n",
    "\n",
    "Случайный лес показал лучшие показатели. Чуть меньше смещение как в решающем дереве, а разброс немного больше чем в линейной регрессии. То есть он взял лучшее из двух первых алгоритмов, но мы \"платим\" за это временем работы, которое очень большое по сравнению с первыми двумя алгоритмами.\n",
    "\n",
    "Сумма первых двух значений действительно во всех трех случаях равна третьему значение (ошибки).\n",
    "\n",
    "Что действительно обсуждалось на семинарах. Оба этих параметра вносят свой вклад в общую ошибку. Для получения хоошей точности недостаточно уменишить только один из них"
   ]
  },
  {
   "cell_type": "markdown",
   "metadata": {},
   "source": [
    "\n",
    "**Вспомните во сколько раз в теории бутстрап уменьшает разброс базового алгоритма**\n",
    "\n",
    "в наших экспериментах бутстрап уменьшает разброс в 5 раз. В теории сказано, что это значение должно уменьшиться в 1000 раз, потмоу что мы его прогоняли 1000 циклов. Но у нас тут нельзя добиться независимости данных, поэтому улучшение качества есть, но не 1000, а на 2 порядка меньше!"
   ]
  },
  {
   "cell_type": "markdown",
   "metadata": {},
   "source": [
    "\n",
    "### Визуализация предсказаний базовых алгоритмов бэггинга\n",
    "\n",
    "В материалах лекций можно найти изображение, похожее на мишень - визуализация алгоритмов с разным смещением и разным разбросом. В центре \"мишени\" - правильный ответ, а \"попадания\" - предсказания алгоритмов, обученных по разным выборкам. Построим похожее изображение на наших данных для трех алгоритмов. Наши \"мишени\" будут одномерными, потому что мы решаем задачу одномерной регрессии."
   ]
  },
  {
   "cell_type": "markdown",
   "metadata": {},
   "source": [
    "**Задание 3. (1.5 балла)**\n",
    "\n",
    "Реализуйте фукнцию plot_predictions. Она должна выполнять следующие действия:\n",
    "\n",
    "1. Случайно выбрать num_test_objects пар объект-целевая переменная из выборки X, y. Получится две выборки: маленькая X_test, y_test (выбранные тестовые объекты) и X_train, y_train (остальные объекты).\n",
    "2. Сгенерировать num_runs выборок методом бутстарапа из X_train, y_train. На каждой выборке обучить алгоритм regressor и сделать предсказания для X_test.\n",
    "3. Нарисовать scatter-график. По оси абсцисс - объекты тестовой выборки (номера от 0 до num_test_objects-1), по оси ординат - предсказания. В итоге получится num_test_objects столбиков с точками. Для каждого тестового объекта надо отметить одним цветом все предсказания для него, а также черным цветом отметить правильный ответ.\n",
    "4. Подпишите оси и название графика (аргумент title)."
   ]
  },
  {
   "cell_type": "code",
   "execution_count": 207,
   "metadata": {},
   "outputs": [],
   "source": [
    "import random\n",
    "import matplotlib.ticker as ticker\n",
    "def plot_predictions(param, regressor, X, y, num_runs=100, num_test_objects=10, title=\"\"):\n",
    "    \"\"\"\n",
    "    plot graphics described above\n",
    "    \"\"\"\n",
    "    lst1 = np.arange(X.shape[0])\n",
    "    sampling1 = np.random.choice(lst1, num_test_objects, replace=False, p=None)\n",
    "    derelict1 = list(set(lst1) - set(sampling1))\n",
    "    X_test = X[sampling1]\n",
    "    y_test = y[sampling1]\n",
    "    X_train = X[derelict1]\n",
    "    y_train = y[derelict1]\n",
    "    list_of_pred = []\n",
    "    for i in range(num_runs):\n",
    "        lst = np.arange(X_train.shape[0])\n",
    "        sampling = random.choices(lst, k = X_train.shape[0])\n",
    "        #print(np.array(X_train[sampling]))\n",
    "        #print(np.array([y_train[sampling]]))\n",
    "        regressor.fit(np.array(X_train[sampling]), y_train[sampling])\n",
    "        list_of_pred += [regressor.predict(X_test)]\n",
    "        #end\n",
    "    #print('here')\n",
    "    list_of_pred\n",
    "    #plt.figure(figsize = (10, 8))\n",
    "    #fig, ax = plt.subplots()\n",
    "    for i in range (num_test_objects):\n",
    "        #print(i*np.ones_like(list_of_pred[i]))\n",
    "        #print(list_of_pred[i])\n",
    "        #print(y_test[i])\n",
    "        axes[param].scatter(i*np.ones_like(list_of_pred[i]), list_of_pred[i], c = 'r', s = 15)\n",
    "        axes[param].scatter(i*np.ones_like(y_test[i]), y_test[i], c = 'black', s = 50)\n",
    "\n",
    "    axes[param].set_xlabel('test object')\n",
    "    axes[param].set_ylabel('predict')\n",
    "    axes[param].set_title(title)\n",
    "    axes[param].set_ylim(0, 54)\n",
    "    #ax.xaxis.set_major_locator(ticker.MultipleLocator(1))\n",
    "    axes[param].grid()\n",
    "    #plt.legend()\n",
    "    #plt.show()"
   ]
  },
  {
   "cell_type": "code",
   "execution_count": 168,
   "metadata": {},
   "outputs": [
    {
     "data": {
      "text/plain": [
       "array([0, 1, 2, 3, 4, 5, 6, 7, 8, 9])"
      ]
     },
     "execution_count": 168,
     "metadata": {},
     "output_type": "execute_result"
    }
   ],
   "source": [
    "np.arange(10)"
   ]
  },
  {
   "cell_type": "code",
   "execution_count": 169,
   "metadata": {},
   "outputs": [
    {
     "data": {
      "text/plain": [
       "array([7, 9, 0, 5, 6, 1, 2, 3])"
      ]
     },
     "execution_count": 169,
     "metadata": {},
     "output_type": "execute_result"
    }
   ],
   "source": [
    "np.random.choice(np.arange(10), 8, replace=False, p=None)"
   ]
  },
  {
   "cell_type": "code",
   "execution_count": 170,
   "metadata": {},
   "outputs": [
    {
     "data": {
      "text/plain": [
       "[2, 6]"
      ]
     },
     "execution_count": 170,
     "metadata": {},
     "output_type": "execute_result"
    }
   ],
   "source": [
    "list(set(np.arange(10)) - set(np.random.choice(np.arange(10), 8, replace=False, p=None)))"
   ]
  },
  {
   "cell_type": "markdown",
   "metadata": {},
   "source": [
    "Нарисуйте графики для линейной регрессии, решающего дерева и случайного леса. Нарисуйте три графика в строчку (это можно сделать с помощью plt.subplot) с одинаковой осью ординат (это важно для понимания масштаба разброса у разных алгоритмов):"
   ]
  },
  {
   "cell_type": "code",
   "execution_count": 217,
   "metadata": {},
   "outputs": [],
   "source": [
    "from sklearn.tree import DecisionTreeRegressor\n",
    "from sklearn.ensemble import RandomForestRegressor\n",
    "from sklearn.linear_model import LinearRegression\n",
    "reg = LinearRegression()\n",
    "regr = RandomForestRegressor(max_depth=2, random_state=0)\n",
    "clf = DecisionTreeRegressor(random_state=0)"
   ]
  },
  {
   "cell_type": "code",
   "execution_count": 205,
   "metadata": {},
   "outputs": [],
   "source": [
    "regr2 = RandomForestRegressor( random_state=0)"
   ]
  },
  {
   "cell_type": "code",
   "execution_count": null,
   "metadata": {},
   "outputs": [],
   "source": []
  },
  {
   "cell_type": "code",
   "execution_count": 214,
   "metadata": {},
   "outputs": [
    {
     "data": {
      "image/png": "[encoded data removed]",
      "text/plain": [
       "<Figure size 1224x504 with 3 Axes>"
      ]
     },
     "metadata": {
      "needs_background": "light"
     },
     "output_type": "display_data"
    }
   ],
   "source": [
    "fig, axes = plt.subplots(1, 3, figsize=(17, 7))\n",
    "plot_predictions(0, reg, X, y, num_runs=100, num_test_objects=10, title=\"Linear Regression\")\n",
    "plot_predictions(1, clf, X, y, num_runs=100, num_test_objects=10, title=\"DecisionTree\")\n",
    "plot_predictions(2, regr2, X, y, num_runs=100, num_test_objects=10, title=\"Random Forest\")\n",
    "#fig"
   ]
  },
  {
   "cell_type": "markdown",
   "metadata": {},
   "source": [
    "выше нарисованы три графика работы трех моделей"
   ]
  },
  {
   "cell_type": "markdown",
   "metadata": {},
   "source": [
    "\n",
    "**Для каждого графика прокомментируйте, как он характеризует смещение и разброс соответствующего алгоритма.**\n",
    "\n",
    "в первом случае линейной регрессии видно, что все ответы расположены близко друг к другу, что говорит о небольшом разбросе, но имеют какое-то смещение. То есть все ответы сконцентрированы, но удалены от истинного.\n",
    "\n",
    "В случае решающего дерева видно, что ответы расположены далеко друг от друга, что говорит о большом разбросе, но смещение там меньше, чем у линейной регрессии. истинные ответы расположены ближе (в среднем) чем на левом графике.\n",
    "\n",
    "В случае случайного леса ситуация выглядит лучше. Там меньше разброс, чем в случае решающего дерева, но присутствует небольшое смещение (часто ответы концентрируются вместе, но на отдалении от истинного значения). Видно, что его результаты лучше. "
   ]
  },
  {
   "cell_type": "markdown",
   "metadata": {},
   "source": [
    "# Часть 2. Градиентный бустинг"
   ]
  },
  {
   "cell_type": "markdown",
   "metadata": {},
   "source": [
    "**Задание 4 (1 балл)**\n",
    "\n",
    "Мы будем использовать данные из соревнования (вам нужны только данные, посылать туда ничего не надо).\n",
    "\n",
    "- Загрузите таблицу application_train.csv;\n",
    "- Запишите в Y столбец с целевой переменной (TARGET);\n",
    "- Удалите ненужные столбцы:\n",
    "  - Воспользуйтесь описанием соревнования\n",
    "  - При желании, воспользуйтесь методами feature selection/стат. методами, если хотите. Объясните, что использовали и почему решили выкинуть тот или иной признак.\n",
    "- Определите тип столбцов и заполните пропуски - стратегия произвольная;\n",
    "- Разбейте выборку в соотношении 70:30 с random_state=0. Если считаете нужным, сделайте сбалансированное по классам разбиение.\n",
    "\n",
    "Так как в данных имеется значительный дисбаланс классов, в качестве метрики качества везде будем использовать площадь под precision-recall кривой (AUC-PR)."
   ]
  },
  {
   "cell_type": "code",
   "execution_count": 3,
   "metadata": {},
   "outputs": [],
   "source": [
    "data = pd.read_csv(\"application_train.csv\")"
   ]
  },
  {
   "cell_type": "code",
   "execution_count": 4,
   "metadata": {},
   "outputs": [
    {
     "data": {
      "text/html": [
       "<div>\n",
       "<style scoped>\n",
       "    .dataframe tbody tr th:only-of-type {\n",
       "        vertical-align: middle;\n",
       "    }\n",
       "\n",
       "    .dataframe tbody tr th {\n",
       "        vertical-align: top;\n",
       "    }\n",
       "\n",
       "    .dataframe thead th {\n",
       "        text-align: right;\n",
       "    }\n",
       "</style>\n",
       "<table border=\"1\" class=\"dataframe\">\n",
       "  <thead>\n",
       "    <tr style=\"text-align: right;\">\n",
       "      <th></th>\n",
       "      <th>SK_ID_CURR</th>\n",
       "      <th>TARGET</th>\n",
       "      <th>NAME_CONTRACT_TYPE</th>\n",
       "      <th>CODE_GENDER</th>\n",
       "      <th>FLAG_OWN_CAR</th>\n",
       "      <th>FLAG_OWN_REALTY</th>\n",
       "      <th>CNT_CHILDREN</th>\n",
       "      <th>AMT_INCOME_TOTAL</th>\n",
       "      <th>AMT_CREDIT</th>\n",
       "      <th>AMT_ANNUITY</th>\n",
       "      <th>...</th>\n",
       "      <th>FLAG_DOCUMENT_18</th>\n",
       "      <th>FLAG_DOCUMENT_19</th>\n",
       "      <th>FLAG_DOCUMENT_20</th>\n",
       "      <th>FLAG_DOCUMENT_21</th>\n",
       "      <th>AMT_REQ_CREDIT_BUREAU_HOUR</th>\n",
       "      <th>AMT_REQ_CREDIT_BUREAU_DAY</th>\n",
       "      <th>AMT_REQ_CREDIT_BUREAU_WEEK</th>\n",
       "      <th>AMT_REQ_CREDIT_BUREAU_MON</th>\n",
       "      <th>AMT_REQ_CREDIT_BUREAU_QRT</th>\n",
       "      <th>AMT_REQ_CREDIT_BUREAU_YEAR</th>\n",
       "    </tr>\n",
       "  </thead>\n",
       "  <tbody>\n",
       "    <tr>\n",
       "      <th>0</th>\n",
       "      <td>247330</td>\n",
       "      <td>0</td>\n",
       "      <td>Cash loans</td>\n",
       "      <td>F</td>\n",
       "      <td>N</td>\n",
       "      <td>N</td>\n",
       "      <td>0</td>\n",
       "      <td>157500.0</td>\n",
       "      <td>706410.0</td>\n",
       "      <td>67072.5</td>\n",
       "      <td>...</td>\n",
       "      <td>0</td>\n",
       "      <td>0</td>\n",
       "      <td>0</td>\n",
       "      <td>0</td>\n",
       "      <td>0.0</td>\n",
       "      <td>0.0</td>\n",
       "      <td>0.0</td>\n",
       "      <td>0.0</td>\n",
       "      <td>0.0</td>\n",
       "      <td>1.0</td>\n",
       "    </tr>\n",
       "    <tr>\n",
       "      <th>1</th>\n",
       "      <td>425716</td>\n",
       "      <td>1</td>\n",
       "      <td>Cash loans</td>\n",
       "      <td>F</td>\n",
       "      <td>Y</td>\n",
       "      <td>Y</td>\n",
       "      <td>1</td>\n",
       "      <td>121500.0</td>\n",
       "      <td>545040.0</td>\n",
       "      <td>25407.0</td>\n",
       "      <td>...</td>\n",
       "      <td>0</td>\n",
       "      <td>0</td>\n",
       "      <td>0</td>\n",
       "      <td>0</td>\n",
       "      <td>0.0</td>\n",
       "      <td>0.0</td>\n",
       "      <td>0.0</td>\n",
       "      <td>0.0</td>\n",
       "      <td>0.0</td>\n",
       "      <td>0.0</td>\n",
       "    </tr>\n",
       "    <tr>\n",
       "      <th>2</th>\n",
       "      <td>331625</td>\n",
       "      <td>0</td>\n",
       "      <td>Cash loans</td>\n",
       "      <td>M</td>\n",
       "      <td>Y</td>\n",
       "      <td>Y</td>\n",
       "      <td>1</td>\n",
       "      <td>225000.0</td>\n",
       "      <td>942300.0</td>\n",
       "      <td>27679.5</td>\n",
       "      <td>...</td>\n",
       "      <td>0</td>\n",
       "      <td>0</td>\n",
       "      <td>0</td>\n",
       "      <td>0</td>\n",
       "      <td>0.0</td>\n",
       "      <td>0.0</td>\n",
       "      <td>0.0</td>\n",
       "      <td>0.0</td>\n",
       "      <td>0.0</td>\n",
       "      <td>1.0</td>\n",
       "    </tr>\n",
       "    <tr>\n",
       "      <th>3</th>\n",
       "      <td>455397</td>\n",
       "      <td>0</td>\n",
       "      <td>Revolving loans</td>\n",
       "      <td>F</td>\n",
       "      <td>N</td>\n",
       "      <td>Y</td>\n",
       "      <td>2</td>\n",
       "      <td>144000.0</td>\n",
       "      <td>180000.0</td>\n",
       "      <td>9000.0</td>\n",
       "      <td>...</td>\n",
       "      <td>0</td>\n",
       "      <td>0</td>\n",
       "      <td>0</td>\n",
       "      <td>0</td>\n",
       "      <td>0.0</td>\n",
       "      <td>0.0</td>\n",
       "      <td>0.0</td>\n",
       "      <td>0.0</td>\n",
       "      <td>1.0</td>\n",
       "      <td>2.0</td>\n",
       "    </tr>\n",
       "    <tr>\n",
       "      <th>4</th>\n",
       "      <td>449114</td>\n",
       "      <td>0</td>\n",
       "      <td>Cash loans</td>\n",
       "      <td>F</td>\n",
       "      <td>N</td>\n",
       "      <td>Y</td>\n",
       "      <td>0</td>\n",
       "      <td>112500.0</td>\n",
       "      <td>729792.0</td>\n",
       "      <td>37390.5</td>\n",
       "      <td>...</td>\n",
       "      <td>0</td>\n",
       "      <td>0</td>\n",
       "      <td>0</td>\n",
       "      <td>0</td>\n",
       "      <td>0.0</td>\n",
       "      <td>0.0</td>\n",
       "      <td>0.0</td>\n",
       "      <td>0.0</td>\n",
       "      <td>1.0</td>\n",
       "      <td>0.0</td>\n",
       "    </tr>\n",
       "    <tr>\n",
       "      <th>...</th>\n",
       "      <td>...</td>\n",
       "      <td>...</td>\n",
       "      <td>...</td>\n",
       "      <td>...</td>\n",
       "      <td>...</td>\n",
       "      <td>...</td>\n",
       "      <td>...</td>\n",
       "      <td>...</td>\n",
       "      <td>...</td>\n",
       "      <td>...</td>\n",
       "      <td>...</td>\n",
       "      <td>...</td>\n",
       "      <td>...</td>\n",
       "      <td>...</td>\n",
       "      <td>...</td>\n",
       "      <td>...</td>\n",
       "      <td>...</td>\n",
       "      <td>...</td>\n",
       "      <td>...</td>\n",
       "      <td>...</td>\n",
       "      <td>...</td>\n",
       "    </tr>\n",
       "    <tr>\n",
       "      <th>215252</th>\n",
       "      <td>239009</td>\n",
       "      <td>0</td>\n",
       "      <td>Cash loans</td>\n",
       "      <td>F</td>\n",
       "      <td>N</td>\n",
       "      <td>Y</td>\n",
       "      <td>0</td>\n",
       "      <td>121500.0</td>\n",
       "      <td>675000.0</td>\n",
       "      <td>32602.5</td>\n",
       "      <td>...</td>\n",
       "      <td>0</td>\n",
       "      <td>0</td>\n",
       "      <td>0</td>\n",
       "      <td>0</td>\n",
       "      <td>NaN</td>\n",
       "      <td>NaN</td>\n",
       "      <td>NaN</td>\n",
       "      <td>NaN</td>\n",
       "      <td>NaN</td>\n",
       "      <td>NaN</td>\n",
       "    </tr>\n",
       "    <tr>\n",
       "      <th>215253</th>\n",
       "      <td>399937</td>\n",
       "      <td>0</td>\n",
       "      <td>Cash loans</td>\n",
       "      <td>F</td>\n",
       "      <td>N</td>\n",
       "      <td>N</td>\n",
       "      <td>2</td>\n",
       "      <td>225000.0</td>\n",
       "      <td>509922.0</td>\n",
       "      <td>40419.0</td>\n",
       "      <td>...</td>\n",
       "      <td>0</td>\n",
       "      <td>0</td>\n",
       "      <td>0</td>\n",
       "      <td>0</td>\n",
       "      <td>0.0</td>\n",
       "      <td>0.0</td>\n",
       "      <td>0.0</td>\n",
       "      <td>0.0</td>\n",
       "      <td>1.0</td>\n",
       "      <td>4.0</td>\n",
       "    </tr>\n",
       "    <tr>\n",
       "      <th>215254</th>\n",
       "      <td>253016</td>\n",
       "      <td>0</td>\n",
       "      <td>Cash loans</td>\n",
       "      <td>M</td>\n",
       "      <td>Y</td>\n",
       "      <td>Y</td>\n",
       "      <td>0</td>\n",
       "      <td>450000.0</td>\n",
       "      <td>1125000.0</td>\n",
       "      <td>33025.5</td>\n",
       "      <td>...</td>\n",
       "      <td>0</td>\n",
       "      <td>0</td>\n",
       "      <td>0</td>\n",
       "      <td>0</td>\n",
       "      <td>0.0</td>\n",
       "      <td>0.0</td>\n",
       "      <td>0.0</td>\n",
       "      <td>2.0</td>\n",
       "      <td>0.0</td>\n",
       "      <td>3.0</td>\n",
       "    </tr>\n",
       "    <tr>\n",
       "      <th>215255</th>\n",
       "      <td>270275</td>\n",
       "      <td>0</td>\n",
       "      <td>Revolving loans</td>\n",
       "      <td>M</td>\n",
       "      <td>Y</td>\n",
       "      <td>Y</td>\n",
       "      <td>1</td>\n",
       "      <td>180000.0</td>\n",
       "      <td>270000.0</td>\n",
       "      <td>13500.0</td>\n",
       "      <td>...</td>\n",
       "      <td>0</td>\n",
       "      <td>0</td>\n",
       "      <td>0</td>\n",
       "      <td>0</td>\n",
       "      <td>0.0</td>\n",
       "      <td>0.0</td>\n",
       "      <td>0.0</td>\n",
       "      <td>0.0</td>\n",
       "      <td>0.0</td>\n",
       "      <td>1.0</td>\n",
       "    </tr>\n",
       "    <tr>\n",
       "      <th>215256</th>\n",
       "      <td>241394</td>\n",
       "      <td>1</td>\n",
       "      <td>Cash loans</td>\n",
       "      <td>M</td>\n",
       "      <td>Y</td>\n",
       "      <td>Y</td>\n",
       "      <td>0</td>\n",
       "      <td>157500.0</td>\n",
       "      <td>729792.0</td>\n",
       "      <td>35239.5</td>\n",
       "      <td>...</td>\n",
       "      <td>0</td>\n",
       "      <td>0</td>\n",
       "      <td>0</td>\n",
       "      <td>0</td>\n",
       "      <td>0.0</td>\n",
       "      <td>0.0</td>\n",
       "      <td>0.0</td>\n",
       "      <td>1.0</td>\n",
       "      <td>0.0</td>\n",
       "      <td>0.0</td>\n",
       "    </tr>\n",
       "  </tbody>\n",
       "</table>\n",
       "<p>215257 rows × 122 columns</p>\n",
       "</div>"
      ],
      "text/plain": [
       "        SK_ID_CURR  TARGET NAME_CONTRACT_TYPE CODE_GENDER FLAG_OWN_CAR  \\\n",
       "0           247330       0         Cash loans           F            N   \n",
       "1           425716       1         Cash loans           F            Y   \n",
       "2           331625       0         Cash loans           M            Y   \n",
       "3           455397       0    Revolving loans           F            N   \n",
       "4           449114       0         Cash loans           F            N   \n",
       "...            ...     ...                ...         ...          ...   \n",
       "215252      239009       0         Cash loans           F            N   \n",
       "215253      399937       0         Cash loans           F            N   \n",
       "215254      253016       0         Cash loans           M            Y   \n",
       "215255      270275       0    Revolving loans           M            Y   \n",
       "215256      241394       1         Cash loans           M            Y   \n",
       "\n",
       "       FLAG_OWN_REALTY  CNT_CHILDREN  AMT_INCOME_TOTAL  AMT_CREDIT  \\\n",
       "0                    N             0          157500.0    706410.0   \n",
       "1                    Y             1          121500.0    545040.0   \n",
       "2                    Y             1          225000.0    942300.0   \n",
       "3                    Y             2          144000.0    180000.0   \n",
       "4                    Y             0          112500.0    729792.0   \n",
       "...                ...           ...               ...         ...   \n",
       "215252               Y             0          121500.0    675000.0   \n",
       "215253               N             2          225000.0    509922.0   \n",
       "215254               Y             0          450000.0   1125000.0   \n",
       "215255               Y             1          180000.0    270000.0   \n",
       "215256               Y             0          157500.0    729792.0   \n",
       "\n",
       "        AMT_ANNUITY  ...  FLAG_DOCUMENT_18 FLAG_DOCUMENT_19 FLAG_DOCUMENT_20  \\\n",
       "0           67072.5  ...                 0                0                0   \n",
       "1           25407.0  ...                 0                0                0   \n",
       "2           27679.5  ...                 0                0                0   \n",
       "3            9000.0  ...                 0                0                0   \n",
       "4           37390.5  ...                 0                0                0   \n",
       "...             ...  ...               ...              ...              ...   \n",
       "215252      32602.5  ...                 0                0                0   \n",
       "215253      40419.0  ...                 0                0                0   \n",
       "215254      33025.5  ...                 0                0                0   \n",
       "215255      13500.0  ...                 0                0                0   \n",
       "215256      35239.5  ...                 0                0                0   \n",
       "\n",
       "       FLAG_DOCUMENT_21 AMT_REQ_CREDIT_BUREAU_HOUR AMT_REQ_CREDIT_BUREAU_DAY  \\\n",
       "0                     0                        0.0                       0.0   \n",
       "1                     0                        0.0                       0.0   \n",
       "2                     0                        0.0                       0.0   \n",
       "3                     0                        0.0                       0.0   \n",
       "4                     0                        0.0                       0.0   \n",
       "...                 ...                        ...                       ...   \n",
       "215252                0                        NaN                       NaN   \n",
       "215253                0                        0.0                       0.0   \n",
       "215254                0                        0.0                       0.0   \n",
       "215255                0                        0.0                       0.0   \n",
       "215256                0                        0.0                       0.0   \n",
       "\n",
       "        AMT_REQ_CREDIT_BUREAU_WEEK  AMT_REQ_CREDIT_BUREAU_MON  \\\n",
       "0                              0.0                        0.0   \n",
       "1                              0.0                        0.0   \n",
       "2                              0.0                        0.0   \n",
       "3                              0.0                        0.0   \n",
       "4                              0.0                        0.0   \n",
       "...                            ...                        ...   \n",
       "215252                         NaN                        NaN   \n",
       "215253                         0.0                        0.0   \n",
       "215254                         0.0                        2.0   \n",
       "215255                         0.0                        0.0   \n",
       "215256                         0.0                        1.0   \n",
       "\n",
       "        AMT_REQ_CREDIT_BUREAU_QRT  AMT_REQ_CREDIT_BUREAU_YEAR  \n",
       "0                             0.0                         1.0  \n",
       "1                             0.0                         0.0  \n",
       "2                             0.0                         1.0  \n",
       "3                             1.0                         2.0  \n",
       "4                             1.0                         0.0  \n",
       "...                           ...                         ...  \n",
       "215252                        NaN                         NaN  \n",
       "215253                        1.0                         4.0  \n",
       "215254                        0.0                         3.0  \n",
       "215255                        0.0                         1.0  \n",
       "215256                        0.0                         0.0  \n",
       "\n",
       "[215257 rows x 122 columns]"
      ]
     },
     "execution_count": 4,
     "metadata": {},
     "output_type": "execute_result"
    }
   ],
   "source": [
    "data"
   ]
  },
  {
   "cell_type": "code",
   "execution_count": 5,
   "metadata": {},
   "outputs": [],
   "source": [
    "y = data['TARGET']"
   ]
  },
  {
   "cell_type": "code",
   "execution_count": 6,
   "metadata": {},
   "outputs": [],
   "source": [
    "data = data.drop('TARGET', axis = 1)"
   ]
  },
  {
   "cell_type": "code",
   "execution_count": 7,
   "metadata": {},
   "outputs": [],
   "source": [
    "data = data.drop('SK_ID_CURR', axis = 1)"
   ]
  },
  {
   "cell_type": "code",
   "execution_count": 8,
   "metadata": {},
   "outputs": [],
   "source": [
    "list_data = data.columns\n",
    "#data.columns"
   ]
  },
  {
   "cell_type": "code",
   "execution_count": 9,
   "metadata": {},
   "outputs": [
    {
     "data": {
      "text/plain": [
       "41"
      ]
     },
     "execution_count": 9,
     "metadata": {},
     "output_type": "execute_result"
    }
   ],
   "source": [
    "s = 0\n",
    "for i in list_data:\n",
    "    if(data[i].isnull().sum()/len(data[i]) >= 0.5):\n",
    "        s += 1\n",
    "        data = data.drop(i, axis = 1)\n",
    "s"
   ]
  },
  {
   "cell_type": "code",
   "execution_count": 10,
   "metadata": {},
   "outputs": [
    {
     "data": {
      "text/html": [
       "<div>\n",
       "<style scoped>\n",
       "    .dataframe tbody tr th:only-of-type {\n",
       "        vertical-align: middle;\n",
       "    }\n",
       "\n",
       "    .dataframe tbody tr th {\n",
       "        vertical-align: top;\n",
       "    }\n",
       "\n",
       "    .dataframe thead th {\n",
       "        text-align: right;\n",
       "    }\n",
       "</style>\n",
       "<table border=\"1\" class=\"dataframe\">\n",
       "  <thead>\n",
       "    <tr style=\"text-align: right;\">\n",
       "      <th></th>\n",
       "      <th>NAME_CONTRACT_TYPE</th>\n",
       "      <th>CODE_GENDER</th>\n",
       "      <th>FLAG_OWN_CAR</th>\n",
       "      <th>FLAG_OWN_REALTY</th>\n",
       "      <th>CNT_CHILDREN</th>\n",
       "      <th>AMT_INCOME_TOTAL</th>\n",
       "      <th>AMT_CREDIT</th>\n",
       "      <th>AMT_ANNUITY</th>\n",
       "      <th>AMT_GOODS_PRICE</th>\n",
       "      <th>NAME_TYPE_SUITE</th>\n",
       "      <th>...</th>\n",
       "      <th>FLAG_DOCUMENT_18</th>\n",
       "      <th>FLAG_DOCUMENT_19</th>\n",
       "      <th>FLAG_DOCUMENT_20</th>\n",
       "      <th>FLAG_DOCUMENT_21</th>\n",
       "      <th>AMT_REQ_CREDIT_BUREAU_HOUR</th>\n",
       "      <th>AMT_REQ_CREDIT_BUREAU_DAY</th>\n",
       "      <th>AMT_REQ_CREDIT_BUREAU_WEEK</th>\n",
       "      <th>AMT_REQ_CREDIT_BUREAU_MON</th>\n",
       "      <th>AMT_REQ_CREDIT_BUREAU_QRT</th>\n",
       "      <th>AMT_REQ_CREDIT_BUREAU_YEAR</th>\n",
       "    </tr>\n",
       "  </thead>\n",
       "  <tbody>\n",
       "    <tr>\n",
       "      <th>0</th>\n",
       "      <td>Cash loans</td>\n",
       "      <td>F</td>\n",
       "      <td>N</td>\n",
       "      <td>N</td>\n",
       "      <td>0</td>\n",
       "      <td>157500.0</td>\n",
       "      <td>706410.0</td>\n",
       "      <td>67072.5</td>\n",
       "      <td>679500.0</td>\n",
       "      <td>Unaccompanied</td>\n",
       "      <td>...</td>\n",
       "      <td>0</td>\n",
       "      <td>0</td>\n",
       "      <td>0</td>\n",
       "      <td>0</td>\n",
       "      <td>0.0</td>\n",
       "      <td>0.0</td>\n",
       "      <td>0.0</td>\n",
       "      <td>0.0</td>\n",
       "      <td>0.0</td>\n",
       "      <td>1.0</td>\n",
       "    </tr>\n",
       "    <tr>\n",
       "      <th>1</th>\n",
       "      <td>Cash loans</td>\n",
       "      <td>F</td>\n",
       "      <td>Y</td>\n",
       "      <td>Y</td>\n",
       "      <td>1</td>\n",
       "      <td>121500.0</td>\n",
       "      <td>545040.0</td>\n",
       "      <td>25407.0</td>\n",
       "      <td>450000.0</td>\n",
       "      <td>Unaccompanied</td>\n",
       "      <td>...</td>\n",
       "      <td>0</td>\n",
       "      <td>0</td>\n",
       "      <td>0</td>\n",
       "      <td>0</td>\n",
       "      <td>0.0</td>\n",
       "      <td>0.0</td>\n",
       "      <td>0.0</td>\n",
       "      <td>0.0</td>\n",
       "      <td>0.0</td>\n",
       "      <td>0.0</td>\n",
       "    </tr>\n",
       "    <tr>\n",
       "      <th>2</th>\n",
       "      <td>Cash loans</td>\n",
       "      <td>M</td>\n",
       "      <td>Y</td>\n",
       "      <td>Y</td>\n",
       "      <td>1</td>\n",
       "      <td>225000.0</td>\n",
       "      <td>942300.0</td>\n",
       "      <td>27679.5</td>\n",
       "      <td>675000.0</td>\n",
       "      <td>Unaccompanied</td>\n",
       "      <td>...</td>\n",
       "      <td>0</td>\n",
       "      <td>0</td>\n",
       "      <td>0</td>\n",
       "      <td>0</td>\n",
       "      <td>0.0</td>\n",
       "      <td>0.0</td>\n",
       "      <td>0.0</td>\n",
       "      <td>0.0</td>\n",
       "      <td>0.0</td>\n",
       "      <td>1.0</td>\n",
       "    </tr>\n",
       "    <tr>\n",
       "      <th>3</th>\n",
       "      <td>Revolving loans</td>\n",
       "      <td>F</td>\n",
       "      <td>N</td>\n",
       "      <td>Y</td>\n",
       "      <td>2</td>\n",
       "      <td>144000.0</td>\n",
       "      <td>180000.0</td>\n",
       "      <td>9000.0</td>\n",
       "      <td>180000.0</td>\n",
       "      <td>Unaccompanied</td>\n",
       "      <td>...</td>\n",
       "      <td>0</td>\n",
       "      <td>0</td>\n",
       "      <td>0</td>\n",
       "      <td>0</td>\n",
       "      <td>0.0</td>\n",
       "      <td>0.0</td>\n",
       "      <td>0.0</td>\n",
       "      <td>0.0</td>\n",
       "      <td>1.0</td>\n",
       "      <td>2.0</td>\n",
       "    </tr>\n",
       "    <tr>\n",
       "      <th>4</th>\n",
       "      <td>Cash loans</td>\n",
       "      <td>F</td>\n",
       "      <td>N</td>\n",
       "      <td>Y</td>\n",
       "      <td>0</td>\n",
       "      <td>112500.0</td>\n",
       "      <td>729792.0</td>\n",
       "      <td>37390.5</td>\n",
       "      <td>630000.0</td>\n",
       "      <td>Unaccompanied</td>\n",
       "      <td>...</td>\n",
       "      <td>0</td>\n",
       "      <td>0</td>\n",
       "      <td>0</td>\n",
       "      <td>0</td>\n",
       "      <td>0.0</td>\n",
       "      <td>0.0</td>\n",
       "      <td>0.0</td>\n",
       "      <td>0.0</td>\n",
       "      <td>1.0</td>\n",
       "      <td>0.0</td>\n",
       "    </tr>\n",
       "    <tr>\n",
       "      <th>...</th>\n",
       "      <td>...</td>\n",
       "      <td>...</td>\n",
       "      <td>...</td>\n",
       "      <td>...</td>\n",
       "      <td>...</td>\n",
       "      <td>...</td>\n",
       "      <td>...</td>\n",
       "      <td>...</td>\n",
       "      <td>...</td>\n",
       "      <td>...</td>\n",
       "      <td>...</td>\n",
       "      <td>...</td>\n",
       "      <td>...</td>\n",
       "      <td>...</td>\n",
       "      <td>...</td>\n",
       "      <td>...</td>\n",
       "      <td>...</td>\n",
       "      <td>...</td>\n",
       "      <td>...</td>\n",
       "      <td>...</td>\n",
       "      <td>...</td>\n",
       "    </tr>\n",
       "    <tr>\n",
       "      <th>215252</th>\n",
       "      <td>Cash loans</td>\n",
       "      <td>F</td>\n",
       "      <td>N</td>\n",
       "      <td>Y</td>\n",
       "      <td>0</td>\n",
       "      <td>121500.0</td>\n",
       "      <td>675000.0</td>\n",
       "      <td>32602.5</td>\n",
       "      <td>675000.0</td>\n",
       "      <td>Unaccompanied</td>\n",
       "      <td>...</td>\n",
       "      <td>0</td>\n",
       "      <td>0</td>\n",
       "      <td>0</td>\n",
       "      <td>0</td>\n",
       "      <td>NaN</td>\n",
       "      <td>NaN</td>\n",
       "      <td>NaN</td>\n",
       "      <td>NaN</td>\n",
       "      <td>NaN</td>\n",
       "      <td>NaN</td>\n",
       "    </tr>\n",
       "    <tr>\n",
       "      <th>215253</th>\n",
       "      <td>Cash loans</td>\n",
       "      <td>F</td>\n",
       "      <td>N</td>\n",
       "      <td>N</td>\n",
       "      <td>2</td>\n",
       "      <td>225000.0</td>\n",
       "      <td>509922.0</td>\n",
       "      <td>40419.0</td>\n",
       "      <td>472500.0</td>\n",
       "      <td>Spouse, partner</td>\n",
       "      <td>...</td>\n",
       "      <td>0</td>\n",
       "      <td>0</td>\n",
       "      <td>0</td>\n",
       "      <td>0</td>\n",
       "      <td>0.0</td>\n",
       "      <td>0.0</td>\n",
       "      <td>0.0</td>\n",
       "      <td>0.0</td>\n",
       "      <td>1.0</td>\n",
       "      <td>4.0</td>\n",
       "    </tr>\n",
       "    <tr>\n",
       "      <th>215254</th>\n",
       "      <td>Cash loans</td>\n",
       "      <td>M</td>\n",
       "      <td>Y</td>\n",
       "      <td>Y</td>\n",
       "      <td>0</td>\n",
       "      <td>450000.0</td>\n",
       "      <td>1125000.0</td>\n",
       "      <td>33025.5</td>\n",
       "      <td>1125000.0</td>\n",
       "      <td>Unaccompanied</td>\n",
       "      <td>...</td>\n",
       "      <td>0</td>\n",
       "      <td>0</td>\n",
       "      <td>0</td>\n",
       "      <td>0</td>\n",
       "      <td>0.0</td>\n",
       "      <td>0.0</td>\n",
       "      <td>0.0</td>\n",
       "      <td>2.0</td>\n",
       "      <td>0.0</td>\n",
       "      <td>3.0</td>\n",
       "    </tr>\n",
       "    <tr>\n",
       "      <th>215255</th>\n",
       "      <td>Revolving loans</td>\n",
       "      <td>M</td>\n",
       "      <td>Y</td>\n",
       "      <td>Y</td>\n",
       "      <td>1</td>\n",
       "      <td>180000.0</td>\n",
       "      <td>270000.0</td>\n",
       "      <td>13500.0</td>\n",
       "      <td>270000.0</td>\n",
       "      <td>Unaccompanied</td>\n",
       "      <td>...</td>\n",
       "      <td>0</td>\n",
       "      <td>0</td>\n",
       "      <td>0</td>\n",
       "      <td>0</td>\n",
       "      <td>0.0</td>\n",
       "      <td>0.0</td>\n",
       "      <td>0.0</td>\n",
       "      <td>0.0</td>\n",
       "      <td>0.0</td>\n",
       "      <td>1.0</td>\n",
       "    </tr>\n",
       "    <tr>\n",
       "      <th>215256</th>\n",
       "      <td>Cash loans</td>\n",
       "      <td>M</td>\n",
       "      <td>Y</td>\n",
       "      <td>Y</td>\n",
       "      <td>0</td>\n",
       "      <td>157500.0</td>\n",
       "      <td>729792.0</td>\n",
       "      <td>35239.5</td>\n",
       "      <td>630000.0</td>\n",
       "      <td>Family</td>\n",
       "      <td>...</td>\n",
       "      <td>0</td>\n",
       "      <td>0</td>\n",
       "      <td>0</td>\n",
       "      <td>0</td>\n",
       "      <td>0.0</td>\n",
       "      <td>0.0</td>\n",
       "      <td>0.0</td>\n",
       "      <td>1.0</td>\n",
       "      <td>0.0</td>\n",
       "      <td>0.0</td>\n",
       "    </tr>\n",
       "  </tbody>\n",
       "</table>\n",
       "<p>215257 rows × 79 columns</p>\n",
       "</div>"
      ],
      "text/plain": [
       "       NAME_CONTRACT_TYPE CODE_GENDER FLAG_OWN_CAR FLAG_OWN_REALTY  \\\n",
       "0              Cash loans           F            N               N   \n",
       "1              Cash loans           F            Y               Y   \n",
       "2              Cash loans           M            Y               Y   \n",
       "3         Revolving loans           F            N               Y   \n",
       "4              Cash loans           F            N               Y   \n",
       "...                   ...         ...          ...             ...   \n",
       "215252         Cash loans           F            N               Y   \n",
       "215253         Cash loans           F            N               N   \n",
       "215254         Cash loans           M            Y               Y   \n",
       "215255    Revolving loans           M            Y               Y   \n",
       "215256         Cash loans           M            Y               Y   \n",
       "\n",
       "        CNT_CHILDREN  AMT_INCOME_TOTAL  AMT_CREDIT  AMT_ANNUITY  \\\n",
       "0                  0          157500.0    706410.0      67072.5   \n",
       "1                  1          121500.0    545040.0      25407.0   \n",
       "2                  1          225000.0    942300.0      27679.5   \n",
       "3                  2          144000.0    180000.0       9000.0   \n",
       "4                  0          112500.0    729792.0      37390.5   \n",
       "...              ...               ...         ...          ...   \n",
       "215252             0          121500.0    675000.0      32602.5   \n",
       "215253             2          225000.0    509922.0      40419.0   \n",
       "215254             0          450000.0   1125000.0      33025.5   \n",
       "215255             1          180000.0    270000.0      13500.0   \n",
       "215256             0          157500.0    729792.0      35239.5   \n",
       "\n",
       "        AMT_GOODS_PRICE  NAME_TYPE_SUITE  ... FLAG_DOCUMENT_18  \\\n",
       "0              679500.0    Unaccompanied  ...                0   \n",
       "1              450000.0    Unaccompanied  ...                0   \n",
       "2              675000.0    Unaccompanied  ...                0   \n",
       "3              180000.0    Unaccompanied  ...                0   \n",
       "4              630000.0    Unaccompanied  ...                0   \n",
       "...                 ...              ...  ...              ...   \n",
       "215252         675000.0    Unaccompanied  ...                0   \n",
       "215253         472500.0  Spouse, partner  ...                0   \n",
       "215254        1125000.0    Unaccompanied  ...                0   \n",
       "215255         270000.0    Unaccompanied  ...                0   \n",
       "215256         630000.0           Family  ...                0   \n",
       "\n",
       "       FLAG_DOCUMENT_19 FLAG_DOCUMENT_20 FLAG_DOCUMENT_21  \\\n",
       "0                     0                0                0   \n",
       "1                     0                0                0   \n",
       "2                     0                0                0   \n",
       "3                     0                0                0   \n",
       "4                     0                0                0   \n",
       "...                 ...              ...              ...   \n",
       "215252                0                0                0   \n",
       "215253                0                0                0   \n",
       "215254                0                0                0   \n",
       "215255                0                0                0   \n",
       "215256                0                0                0   \n",
       "\n",
       "        AMT_REQ_CREDIT_BUREAU_HOUR  AMT_REQ_CREDIT_BUREAU_DAY  \\\n",
       "0                              0.0                        0.0   \n",
       "1                              0.0                        0.0   \n",
       "2                              0.0                        0.0   \n",
       "3                              0.0                        0.0   \n",
       "4                              0.0                        0.0   \n",
       "...                            ...                        ...   \n",
       "215252                         NaN                        NaN   \n",
       "215253                         0.0                        0.0   \n",
       "215254                         0.0                        0.0   \n",
       "215255                         0.0                        0.0   \n",
       "215256                         0.0                        0.0   \n",
       "\n",
       "        AMT_REQ_CREDIT_BUREAU_WEEK  AMT_REQ_CREDIT_BUREAU_MON  \\\n",
       "0                              0.0                        0.0   \n",
       "1                              0.0                        0.0   \n",
       "2                              0.0                        0.0   \n",
       "3                              0.0                        0.0   \n",
       "4                              0.0                        0.0   \n",
       "...                            ...                        ...   \n",
       "215252                         NaN                        NaN   \n",
       "215253                         0.0                        0.0   \n",
       "215254                         0.0                        2.0   \n",
       "215255                         0.0                        0.0   \n",
       "215256                         0.0                        1.0   \n",
       "\n",
       "        AMT_REQ_CREDIT_BUREAU_QRT  AMT_REQ_CREDIT_BUREAU_YEAR  \n",
       "0                             0.0                         1.0  \n",
       "1                             0.0                         0.0  \n",
       "2                             0.0                         1.0  \n",
       "3                             1.0                         2.0  \n",
       "4                             1.0                         0.0  \n",
       "...                           ...                         ...  \n",
       "215252                        NaN                         NaN  \n",
       "215253                        1.0                         4.0  \n",
       "215254                        0.0                         3.0  \n",
       "215255                        0.0                         1.0  \n",
       "215256                        0.0                         0.0  \n",
       "\n",
       "[215257 rows x 79 columns]"
      ]
     },
     "execution_count": 10,
     "metadata": {},
     "output_type": "execute_result"
    }
   ],
   "source": [
    "data"
   ]
  },
  {
   "cell_type": "markdown",
   "metadata": {},
   "source": [
    "выкинули те столбцы, в которых знаачения NaN в столбце встречалось больше чем в половине случаев. Выкинули 41 столбец из 122. Так же убрали столбец таргет и id"
   ]
  },
  {
   "cell_type": "code",
   "execution_count": 11,
   "metadata": {},
   "outputs": [
    {
     "data": {
      "text/plain": [
       "True"
      ]
     },
     "execution_count": 11,
     "metadata": {},
     "output_type": "execute_result"
    }
   ],
   "source": [
    "data['FLAG_OWN_CAR'].dtype == 'O'"
   ]
  },
  {
   "cell_type": "code",
   "execution_count": 12,
   "metadata": {},
   "outputs": [
    {
     "name": "stdout",
     "output_type": "stream",
     "text": [
      "columns object 13\n"
     ]
    }
   ],
   "source": [
    "list_data_new = data.columns\n",
    "s = 0\n",
    "for i in list_data_new:\n",
    "    if data[i].dtype == 'float64' or data[i].dtype == 'int64':\n",
    "        data[i].fillna((data[i].mean()), inplace=True)\n",
    "    if data[i].dtype == 'O':\n",
    "        s += 1\n",
    "        data[i].fillna((data[i][0]), inplace=True)\n",
    "print('columns object', s)"
   ]
  },
  {
   "cell_type": "markdown",
   "metadata": {},
   "source": [
    "всего 13 столбцов с текстом"
   ]
  },
  {
   "cell_type": "code",
   "execution_count": 13,
   "metadata": {},
   "outputs": [
    {
     "data": {
      "text/plain": [
       "0"
      ]
     },
     "execution_count": 13,
     "metadata": {},
     "output_type": "execute_result"
    }
   ],
   "source": [
    "s = 0\n",
    "list_data_new = data.columns\n",
    "for i in list_data_new:\n",
    "    if(data[i].isnull().sum() > 0):\n",
    "        s += 1\n",
    "s"
   ]
  },
  {
   "cell_type": "code",
   "execution_count": 14,
   "metadata": {},
   "outputs": [
    {
     "data": {
      "text/html": [
       "<div>\n",
       "<style scoped>\n",
       "    .dataframe tbody tr th:only-of-type {\n",
       "        vertical-align: middle;\n",
       "    }\n",
       "\n",
       "    .dataframe tbody tr th {\n",
       "        vertical-align: top;\n",
       "    }\n",
       "\n",
       "    .dataframe thead th {\n",
       "        text-align: right;\n",
       "    }\n",
       "</style>\n",
       "<table border=\"1\" class=\"dataframe\">\n",
       "  <thead>\n",
       "    <tr style=\"text-align: right;\">\n",
       "      <th></th>\n",
       "      <th>NAME_CONTRACT_TYPE</th>\n",
       "      <th>CODE_GENDER</th>\n",
       "      <th>FLAG_OWN_CAR</th>\n",
       "      <th>FLAG_OWN_REALTY</th>\n",
       "      <th>CNT_CHILDREN</th>\n",
       "      <th>AMT_INCOME_TOTAL</th>\n",
       "      <th>AMT_CREDIT</th>\n",
       "      <th>AMT_ANNUITY</th>\n",
       "      <th>AMT_GOODS_PRICE</th>\n",
       "      <th>NAME_TYPE_SUITE</th>\n",
       "      <th>...</th>\n",
       "      <th>FLAG_DOCUMENT_18</th>\n",
       "      <th>FLAG_DOCUMENT_19</th>\n",
       "      <th>FLAG_DOCUMENT_20</th>\n",
       "      <th>FLAG_DOCUMENT_21</th>\n",
       "      <th>AMT_REQ_CREDIT_BUREAU_HOUR</th>\n",
       "      <th>AMT_REQ_CREDIT_BUREAU_DAY</th>\n",
       "      <th>AMT_REQ_CREDIT_BUREAU_WEEK</th>\n",
       "      <th>AMT_REQ_CREDIT_BUREAU_MON</th>\n",
       "      <th>AMT_REQ_CREDIT_BUREAU_QRT</th>\n",
       "      <th>AMT_REQ_CREDIT_BUREAU_YEAR</th>\n",
       "    </tr>\n",
       "  </thead>\n",
       "  <tbody>\n",
       "    <tr>\n",
       "      <th>0</th>\n",
       "      <td>Cash loans</td>\n",
       "      <td>F</td>\n",
       "      <td>N</td>\n",
       "      <td>N</td>\n",
       "      <td>0</td>\n",
       "      <td>157500.0</td>\n",
       "      <td>706410.0</td>\n",
       "      <td>67072.5</td>\n",
       "      <td>679500.0</td>\n",
       "      <td>Unaccompanied</td>\n",
       "      <td>...</td>\n",
       "      <td>0</td>\n",
       "      <td>0</td>\n",
       "      <td>0</td>\n",
       "      <td>0</td>\n",
       "      <td>0.000000</td>\n",
       "      <td>0.000000</td>\n",
       "      <td>0.00000</td>\n",
       "      <td>0.000000</td>\n",
       "      <td>0.00000</td>\n",
       "      <td>1.000000</td>\n",
       "    </tr>\n",
       "    <tr>\n",
       "      <th>1</th>\n",
       "      <td>Cash loans</td>\n",
       "      <td>F</td>\n",
       "      <td>Y</td>\n",
       "      <td>Y</td>\n",
       "      <td>1</td>\n",
       "      <td>121500.0</td>\n",
       "      <td>545040.0</td>\n",
       "      <td>25407.0</td>\n",
       "      <td>450000.0</td>\n",
       "      <td>Unaccompanied</td>\n",
       "      <td>...</td>\n",
       "      <td>0</td>\n",
       "      <td>0</td>\n",
       "      <td>0</td>\n",
       "      <td>0</td>\n",
       "      <td>0.000000</td>\n",
       "      <td>0.000000</td>\n",
       "      <td>0.00000</td>\n",
       "      <td>0.000000</td>\n",
       "      <td>0.00000</td>\n",
       "      <td>0.000000</td>\n",
       "    </tr>\n",
       "    <tr>\n",
       "      <th>2</th>\n",
       "      <td>Cash loans</td>\n",
       "      <td>M</td>\n",
       "      <td>Y</td>\n",
       "      <td>Y</td>\n",
       "      <td>1</td>\n",
       "      <td>225000.0</td>\n",
       "      <td>942300.0</td>\n",
       "      <td>27679.5</td>\n",
       "      <td>675000.0</td>\n",
       "      <td>Unaccompanied</td>\n",
       "      <td>...</td>\n",
       "      <td>0</td>\n",
       "      <td>0</td>\n",
       "      <td>0</td>\n",
       "      <td>0</td>\n",
       "      <td>0.000000</td>\n",
       "      <td>0.000000</td>\n",
       "      <td>0.00000</td>\n",
       "      <td>0.000000</td>\n",
       "      <td>0.00000</td>\n",
       "      <td>1.000000</td>\n",
       "    </tr>\n",
       "    <tr>\n",
       "      <th>3</th>\n",
       "      <td>Revolving loans</td>\n",
       "      <td>F</td>\n",
       "      <td>N</td>\n",
       "      <td>Y</td>\n",
       "      <td>2</td>\n",
       "      <td>144000.0</td>\n",
       "      <td>180000.0</td>\n",
       "      <td>9000.0</td>\n",
       "      <td>180000.0</td>\n",
       "      <td>Unaccompanied</td>\n",
       "      <td>...</td>\n",
       "      <td>0</td>\n",
       "      <td>0</td>\n",
       "      <td>0</td>\n",
       "      <td>0</td>\n",
       "      <td>0.000000</td>\n",
       "      <td>0.000000</td>\n",
       "      <td>0.00000</td>\n",
       "      <td>0.000000</td>\n",
       "      <td>1.00000</td>\n",
       "      <td>2.000000</td>\n",
       "    </tr>\n",
       "    <tr>\n",
       "      <th>4</th>\n",
       "      <td>Cash loans</td>\n",
       "      <td>F</td>\n",
       "      <td>N</td>\n",
       "      <td>Y</td>\n",
       "      <td>0</td>\n",
       "      <td>112500.0</td>\n",
       "      <td>729792.0</td>\n",
       "      <td>37390.5</td>\n",
       "      <td>630000.0</td>\n",
       "      <td>Unaccompanied</td>\n",
       "      <td>...</td>\n",
       "      <td>0</td>\n",
       "      <td>0</td>\n",
       "      <td>0</td>\n",
       "      <td>0</td>\n",
       "      <td>0.000000</td>\n",
       "      <td>0.000000</td>\n",
       "      <td>0.00000</td>\n",
       "      <td>0.000000</td>\n",
       "      <td>1.00000</td>\n",
       "      <td>0.000000</td>\n",
       "    </tr>\n",
       "    <tr>\n",
       "      <th>...</th>\n",
       "      <td>...</td>\n",
       "      <td>...</td>\n",
       "      <td>...</td>\n",
       "      <td>...</td>\n",
       "      <td>...</td>\n",
       "      <td>...</td>\n",
       "      <td>...</td>\n",
       "      <td>...</td>\n",
       "      <td>...</td>\n",
       "      <td>...</td>\n",
       "      <td>...</td>\n",
       "      <td>...</td>\n",
       "      <td>...</td>\n",
       "      <td>...</td>\n",
       "      <td>...</td>\n",
       "      <td>...</td>\n",
       "      <td>...</td>\n",
       "      <td>...</td>\n",
       "      <td>...</td>\n",
       "      <td>...</td>\n",
       "      <td>...</td>\n",
       "    </tr>\n",
       "    <tr>\n",
       "      <th>215252</th>\n",
       "      <td>Cash loans</td>\n",
       "      <td>F</td>\n",
       "      <td>N</td>\n",
       "      <td>Y</td>\n",
       "      <td>0</td>\n",
       "      <td>121500.0</td>\n",
       "      <td>675000.0</td>\n",
       "      <td>32602.5</td>\n",
       "      <td>675000.0</td>\n",
       "      <td>Unaccompanied</td>\n",
       "      <td>...</td>\n",
       "      <td>0</td>\n",
       "      <td>0</td>\n",
       "      <td>0</td>\n",
       "      <td>0</td>\n",
       "      <td>0.006416</td>\n",
       "      <td>0.006647</td>\n",
       "      <td>0.03426</td>\n",
       "      <td>0.267319</td>\n",
       "      <td>0.26603</td>\n",
       "      <td>1.899429</td>\n",
       "    </tr>\n",
       "    <tr>\n",
       "      <th>215253</th>\n",
       "      <td>Cash loans</td>\n",
       "      <td>F</td>\n",
       "      <td>N</td>\n",
       "      <td>N</td>\n",
       "      <td>2</td>\n",
       "      <td>225000.0</td>\n",
       "      <td>509922.0</td>\n",
       "      <td>40419.0</td>\n",
       "      <td>472500.0</td>\n",
       "      <td>Spouse, partner</td>\n",
       "      <td>...</td>\n",
       "      <td>0</td>\n",
       "      <td>0</td>\n",
       "      <td>0</td>\n",
       "      <td>0</td>\n",
       "      <td>0.000000</td>\n",
       "      <td>0.000000</td>\n",
       "      <td>0.00000</td>\n",
       "      <td>0.000000</td>\n",
       "      <td>1.00000</td>\n",
       "      <td>4.000000</td>\n",
       "    </tr>\n",
       "    <tr>\n",
       "      <th>215254</th>\n",
       "      <td>Cash loans</td>\n",
       "      <td>M</td>\n",
       "      <td>Y</td>\n",
       "      <td>Y</td>\n",
       "      <td>0</td>\n",
       "      <td>450000.0</td>\n",
       "      <td>1125000.0</td>\n",
       "      <td>33025.5</td>\n",
       "      <td>1125000.0</td>\n",
       "      <td>Unaccompanied</td>\n",
       "      <td>...</td>\n",
       "      <td>0</td>\n",
       "      <td>0</td>\n",
       "      <td>0</td>\n",
       "      <td>0</td>\n",
       "      <td>0.000000</td>\n",
       "      <td>0.000000</td>\n",
       "      <td>0.00000</td>\n",
       "      <td>2.000000</td>\n",
       "      <td>0.00000</td>\n",
       "      <td>3.000000</td>\n",
       "    </tr>\n",
       "    <tr>\n",
       "      <th>215255</th>\n",
       "      <td>Revolving loans</td>\n",
       "      <td>M</td>\n",
       "      <td>Y</td>\n",
       "      <td>Y</td>\n",
       "      <td>1</td>\n",
       "      <td>180000.0</td>\n",
       "      <td>270000.0</td>\n",
       "      <td>13500.0</td>\n",
       "      <td>270000.0</td>\n",
       "      <td>Unaccompanied</td>\n",
       "      <td>...</td>\n",
       "      <td>0</td>\n",
       "      <td>0</td>\n",
       "      <td>0</td>\n",
       "      <td>0</td>\n",
       "      <td>0.000000</td>\n",
       "      <td>0.000000</td>\n",
       "      <td>0.00000</td>\n",
       "      <td>0.000000</td>\n",
       "      <td>0.00000</td>\n",
       "      <td>1.000000</td>\n",
       "    </tr>\n",
       "    <tr>\n",
       "      <th>215256</th>\n",
       "      <td>Cash loans</td>\n",
       "      <td>M</td>\n",
       "      <td>Y</td>\n",
       "      <td>Y</td>\n",
       "      <td>0</td>\n",
       "      <td>157500.0</td>\n",
       "      <td>729792.0</td>\n",
       "      <td>35239.5</td>\n",
       "      <td>630000.0</td>\n",
       "      <td>Family</td>\n",
       "      <td>...</td>\n",
       "      <td>0</td>\n",
       "      <td>0</td>\n",
       "      <td>0</td>\n",
       "      <td>0</td>\n",
       "      <td>0.000000</td>\n",
       "      <td>0.000000</td>\n",
       "      <td>0.00000</td>\n",
       "      <td>1.000000</td>\n",
       "      <td>0.00000</td>\n",
       "      <td>0.000000</td>\n",
       "    </tr>\n",
       "  </tbody>\n",
       "</table>\n",
       "<p>215257 rows × 79 columns</p>\n",
       "</div>"
      ],
      "text/plain": [
       "       NAME_CONTRACT_TYPE CODE_GENDER FLAG_OWN_CAR FLAG_OWN_REALTY  \\\n",
       "0              Cash loans           F            N               N   \n",
       "1              Cash loans           F            Y               Y   \n",
       "2              Cash loans           M            Y               Y   \n",
       "3         Revolving loans           F            N               Y   \n",
       "4              Cash loans           F            N               Y   \n",
       "...                   ...         ...          ...             ...   \n",
       "215252         Cash loans           F            N               Y   \n",
       "215253         Cash loans           F            N               N   \n",
       "215254         Cash loans           M            Y               Y   \n",
       "215255    Revolving loans           M            Y               Y   \n",
       "215256         Cash loans           M            Y               Y   \n",
       "\n",
       "        CNT_CHILDREN  AMT_INCOME_TOTAL  AMT_CREDIT  AMT_ANNUITY  \\\n",
       "0                  0          157500.0    706410.0      67072.5   \n",
       "1                  1          121500.0    545040.0      25407.0   \n",
       "2                  1          225000.0    942300.0      27679.5   \n",
       "3                  2          144000.0    180000.0       9000.0   \n",
       "4                  0          112500.0    729792.0      37390.5   \n",
       "...              ...               ...         ...          ...   \n",
       "215252             0          121500.0    675000.0      32602.5   \n",
       "215253             2          225000.0    509922.0      40419.0   \n",
       "215254             0          450000.0   1125000.0      33025.5   \n",
       "215255             1          180000.0    270000.0      13500.0   \n",
       "215256             0          157500.0    729792.0      35239.5   \n",
       "\n",
       "        AMT_GOODS_PRICE  NAME_TYPE_SUITE  ... FLAG_DOCUMENT_18  \\\n",
       "0              679500.0    Unaccompanied  ...                0   \n",
       "1              450000.0    Unaccompanied  ...                0   \n",
       "2              675000.0    Unaccompanied  ...                0   \n",
       "3              180000.0    Unaccompanied  ...                0   \n",
       "4              630000.0    Unaccompanied  ...                0   \n",
       "...                 ...              ...  ...              ...   \n",
       "215252         675000.0    Unaccompanied  ...                0   \n",
       "215253         472500.0  Spouse, partner  ...                0   \n",
       "215254        1125000.0    Unaccompanied  ...                0   \n",
       "215255         270000.0    Unaccompanied  ...                0   \n",
       "215256         630000.0           Family  ...                0   \n",
       "\n",
       "       FLAG_DOCUMENT_19 FLAG_DOCUMENT_20 FLAG_DOCUMENT_21  \\\n",
       "0                     0                0                0   \n",
       "1                     0                0                0   \n",
       "2                     0                0                0   \n",
       "3                     0                0                0   \n",
       "4                     0                0                0   \n",
       "...                 ...              ...              ...   \n",
       "215252                0                0                0   \n",
       "215253                0                0                0   \n",
       "215254                0                0                0   \n",
       "215255                0                0                0   \n",
       "215256                0                0                0   \n",
       "\n",
       "        AMT_REQ_CREDIT_BUREAU_HOUR  AMT_REQ_CREDIT_BUREAU_DAY  \\\n",
       "0                         0.000000                   0.000000   \n",
       "1                         0.000000                   0.000000   \n",
       "2                         0.000000                   0.000000   \n",
       "3                         0.000000                   0.000000   \n",
       "4                         0.000000                   0.000000   \n",
       "...                            ...                        ...   \n",
       "215252                    0.006416                   0.006647   \n",
       "215253                    0.000000                   0.000000   \n",
       "215254                    0.000000                   0.000000   \n",
       "215255                    0.000000                   0.000000   \n",
       "215256                    0.000000                   0.000000   \n",
       "\n",
       "        AMT_REQ_CREDIT_BUREAU_WEEK  AMT_REQ_CREDIT_BUREAU_MON  \\\n",
       "0                          0.00000                   0.000000   \n",
       "1                          0.00000                   0.000000   \n",
       "2                          0.00000                   0.000000   \n",
       "3                          0.00000                   0.000000   \n",
       "4                          0.00000                   0.000000   \n",
       "...                            ...                        ...   \n",
       "215252                     0.03426                   0.267319   \n",
       "215253                     0.00000                   0.000000   \n",
       "215254                     0.00000                   2.000000   \n",
       "215255                     0.00000                   0.000000   \n",
       "215256                     0.00000                   1.000000   \n",
       "\n",
       "        AMT_REQ_CREDIT_BUREAU_QRT  AMT_REQ_CREDIT_BUREAU_YEAR  \n",
       "0                         0.00000                    1.000000  \n",
       "1                         0.00000                    0.000000  \n",
       "2                         0.00000                    1.000000  \n",
       "3                         1.00000                    2.000000  \n",
       "4                         1.00000                    0.000000  \n",
       "...                           ...                         ...  \n",
       "215252                    0.26603                    1.899429  \n",
       "215253                    1.00000                    4.000000  \n",
       "215254                    0.00000                    3.000000  \n",
       "215255                    0.00000                    1.000000  \n",
       "215256                    0.00000                    0.000000  \n",
       "\n",
       "[215257 rows x 79 columns]"
      ]
     },
     "execution_count": 14,
     "metadata": {},
     "output_type": "execute_result"
    }
   ],
   "source": [
    "data"
   ]
  },
  {
   "cell_type": "code",
   "execution_count": 15,
   "metadata": {},
   "outputs": [],
   "source": [
    "from sklearn.model_selection import train_test_split\n",
    "X_train, X_test, y_train, y_test = train_test_split(data, y, train_size=0.7, random_state=0)"
   ]
  },
  {
   "cell_type": "code",
   "execution_count": 16,
   "metadata": {},
   "outputs": [
    {
     "data": {
      "text/plain": [
       "((150679, 79), (64578, 79), (150679,), (64578,))"
      ]
     },
     "execution_count": 16,
     "metadata": {},
     "output_type": "execute_result"
    }
   ],
   "source": [
    "X_train.shape, X_test.shape, y_train.shape, y_test.shape"
   ]
  },
  {
   "cell_type": "markdown",
   "metadata": {},
   "source": [
    "**Задание 5 (1 балл)**\n",
    "\n",
    "Обучите реализации градиентного бустинга LightGBM и Catboost на вещественных признаках без подбора параметров. Получилась ли заметная разница в качестве? Как вы думаете, почему?\n",
    "\n",
    "**Замечание:**\n",
    "\n",
    "- В этом и последующих экспериментах необходимо измерять время обучения моделей."
   ]
  },
  {
   "cell_type": "code",
   "execution_count": 17,
   "metadata": {},
   "outputs": [
    {
     "name": "stdout",
     "output_type": "stream",
     "text": [
      "float columns 66\n"
     ]
    }
   ],
   "source": [
    "list_data_float = data.columns\n",
    "s = 0\n",
    "data_float = pd.DataFrame()\n",
    "for i in list_data_float:\n",
    "    if data[i].dtype == 'float64' or data[i].dtype == 'int64':\n",
    "        s += 1\n",
    "        data_float[i] = data[i]\n",
    "print('float columns', s)"
   ]
  },
  {
   "cell_type": "code",
   "execution_count": 18,
   "metadata": {},
   "outputs": [
    {
     "data": {
      "text/plain": [
       "13"
      ]
     },
     "execution_count": 18,
     "metadata": {},
     "output_type": "execute_result"
    }
   ],
   "source": [
    "t = 0\n",
    "for i in list_data_float:\n",
    "    if data[i].dtype == 'O':\n",
    "        t += 1\n",
    "t"
   ]
  },
  {
   "cell_type": "markdown",
   "metadata": {},
   "source": [
    "66 + 13 = 79, все хорошо"
   ]
  },
  {
   "cell_type": "code",
   "execution_count": 19,
   "metadata": {},
   "outputs": [
    {
     "data": {
      "text/html": [
       "<div>\n",
       "<style scoped>\n",
       "    .dataframe tbody tr th:only-of-type {\n",
       "        vertical-align: middle;\n",
       "    }\n",
       "\n",
       "    .dataframe tbody tr th {\n",
       "        vertical-align: top;\n",
       "    }\n",
       "\n",
       "    .dataframe thead th {\n",
       "        text-align: right;\n",
       "    }\n",
       "</style>\n",
       "<table border=\"1\" class=\"dataframe\">\n",
       "  <thead>\n",
       "    <tr style=\"text-align: right;\">\n",
       "      <th></th>\n",
       "      <th>CNT_CHILDREN</th>\n",
       "      <th>AMT_INCOME_TOTAL</th>\n",
       "      <th>AMT_CREDIT</th>\n",
       "      <th>AMT_ANNUITY</th>\n",
       "      <th>AMT_GOODS_PRICE</th>\n",
       "      <th>REGION_POPULATION_RELATIVE</th>\n",
       "      <th>DAYS_BIRTH</th>\n",
       "      <th>DAYS_EMPLOYED</th>\n",
       "      <th>DAYS_REGISTRATION</th>\n",
       "      <th>DAYS_ID_PUBLISH</th>\n",
       "      <th>...</th>\n",
       "      <th>FLAG_DOCUMENT_18</th>\n",
       "      <th>FLAG_DOCUMENT_19</th>\n",
       "      <th>FLAG_DOCUMENT_20</th>\n",
       "      <th>FLAG_DOCUMENT_21</th>\n",
       "      <th>AMT_REQ_CREDIT_BUREAU_HOUR</th>\n",
       "      <th>AMT_REQ_CREDIT_BUREAU_DAY</th>\n",
       "      <th>AMT_REQ_CREDIT_BUREAU_WEEK</th>\n",
       "      <th>AMT_REQ_CREDIT_BUREAU_MON</th>\n",
       "      <th>AMT_REQ_CREDIT_BUREAU_QRT</th>\n",
       "      <th>AMT_REQ_CREDIT_BUREAU_YEAR</th>\n",
       "    </tr>\n",
       "  </thead>\n",
       "  <tbody>\n",
       "    <tr>\n",
       "      <th>0</th>\n",
       "      <td>0</td>\n",
       "      <td>157500.0</td>\n",
       "      <td>706410.0</td>\n",
       "      <td>67072.5</td>\n",
       "      <td>679500.0</td>\n",
       "      <td>0.032561</td>\n",
       "      <td>-14653</td>\n",
       "      <td>-2062</td>\n",
       "      <td>-8599.0</td>\n",
       "      <td>-2087</td>\n",
       "      <td>...</td>\n",
       "      <td>0</td>\n",
       "      <td>0</td>\n",
       "      <td>0</td>\n",
       "      <td>0</td>\n",
       "      <td>0.000000</td>\n",
       "      <td>0.000000</td>\n",
       "      <td>0.00000</td>\n",
       "      <td>0.000000</td>\n",
       "      <td>0.00000</td>\n",
       "      <td>1.000000</td>\n",
       "    </tr>\n",
       "    <tr>\n",
       "      <th>1</th>\n",
       "      <td>1</td>\n",
       "      <td>121500.0</td>\n",
       "      <td>545040.0</td>\n",
       "      <td>25407.0</td>\n",
       "      <td>450000.0</td>\n",
       "      <td>0.007114</td>\n",
       "      <td>-13995</td>\n",
       "      <td>-2246</td>\n",
       "      <td>-348.0</td>\n",
       "      <td>-172</td>\n",
       "      <td>...</td>\n",
       "      <td>0</td>\n",
       "      <td>0</td>\n",
       "      <td>0</td>\n",
       "      <td>0</td>\n",
       "      <td>0.000000</td>\n",
       "      <td>0.000000</td>\n",
       "      <td>0.00000</td>\n",
       "      <td>0.000000</td>\n",
       "      <td>0.00000</td>\n",
       "      <td>0.000000</td>\n",
       "    </tr>\n",
       "    <tr>\n",
       "      <th>2</th>\n",
       "      <td>1</td>\n",
       "      <td>225000.0</td>\n",
       "      <td>942300.0</td>\n",
       "      <td>27679.5</td>\n",
       "      <td>675000.0</td>\n",
       "      <td>0.022625</td>\n",
       "      <td>-21687</td>\n",
       "      <td>-1335</td>\n",
       "      <td>-6306.0</td>\n",
       "      <td>-4026</td>\n",
       "      <td>...</td>\n",
       "      <td>0</td>\n",
       "      <td>0</td>\n",
       "      <td>0</td>\n",
       "      <td>0</td>\n",
       "      <td>0.000000</td>\n",
       "      <td>0.000000</td>\n",
       "      <td>0.00000</td>\n",
       "      <td>0.000000</td>\n",
       "      <td>0.00000</td>\n",
       "      <td>1.000000</td>\n",
       "    </tr>\n",
       "    <tr>\n",
       "      <th>3</th>\n",
       "      <td>2</td>\n",
       "      <td>144000.0</td>\n",
       "      <td>180000.0</td>\n",
       "      <td>9000.0</td>\n",
       "      <td>180000.0</td>\n",
       "      <td>0.006629</td>\n",
       "      <td>-13071</td>\n",
       "      <td>-2292</td>\n",
       "      <td>-742.0</td>\n",
       "      <td>-1201</td>\n",
       "      <td>...</td>\n",
       "      <td>0</td>\n",
       "      <td>0</td>\n",
       "      <td>0</td>\n",
       "      <td>0</td>\n",
       "      <td>0.000000</td>\n",
       "      <td>0.000000</td>\n",
       "      <td>0.00000</td>\n",
       "      <td>0.000000</td>\n",
       "      <td>1.00000</td>\n",
       "      <td>2.000000</td>\n",
       "    </tr>\n",
       "    <tr>\n",
       "      <th>4</th>\n",
       "      <td>0</td>\n",
       "      <td>112500.0</td>\n",
       "      <td>729792.0</td>\n",
       "      <td>37390.5</td>\n",
       "      <td>630000.0</td>\n",
       "      <td>0.046220</td>\n",
       "      <td>-19666</td>\n",
       "      <td>365243</td>\n",
       "      <td>-169.0</td>\n",
       "      <td>-3112</td>\n",
       "      <td>...</td>\n",
       "      <td>0</td>\n",
       "      <td>0</td>\n",
       "      <td>0</td>\n",
       "      <td>0</td>\n",
       "      <td>0.000000</td>\n",
       "      <td>0.000000</td>\n",
       "      <td>0.00000</td>\n",
       "      <td>0.000000</td>\n",
       "      <td>1.00000</td>\n",
       "      <td>0.000000</td>\n",
       "    </tr>\n",
       "    <tr>\n",
       "      <th>...</th>\n",
       "      <td>...</td>\n",
       "      <td>...</td>\n",
       "      <td>...</td>\n",
       "      <td>...</td>\n",
       "      <td>...</td>\n",
       "      <td>...</td>\n",
       "      <td>...</td>\n",
       "      <td>...</td>\n",
       "      <td>...</td>\n",
       "      <td>...</td>\n",
       "      <td>...</td>\n",
       "      <td>...</td>\n",
       "      <td>...</td>\n",
       "      <td>...</td>\n",
       "      <td>...</td>\n",
       "      <td>...</td>\n",
       "      <td>...</td>\n",
       "      <td>...</td>\n",
       "      <td>...</td>\n",
       "      <td>...</td>\n",
       "      <td>...</td>\n",
       "    </tr>\n",
       "    <tr>\n",
       "      <th>215252</th>\n",
       "      <td>0</td>\n",
       "      <td>121500.0</td>\n",
       "      <td>675000.0</td>\n",
       "      <td>32602.5</td>\n",
       "      <td>675000.0</td>\n",
       "      <td>0.006305</td>\n",
       "      <td>-14481</td>\n",
       "      <td>-1124</td>\n",
       "      <td>-3813.0</td>\n",
       "      <td>-4134</td>\n",
       "      <td>...</td>\n",
       "      <td>0</td>\n",
       "      <td>0</td>\n",
       "      <td>0</td>\n",
       "      <td>0</td>\n",
       "      <td>0.006416</td>\n",
       "      <td>0.006647</td>\n",
       "      <td>0.03426</td>\n",
       "      <td>0.267319</td>\n",
       "      <td>0.26603</td>\n",
       "      <td>1.899429</td>\n",
       "    </tr>\n",
       "    <tr>\n",
       "      <th>215253</th>\n",
       "      <td>2</td>\n",
       "      <td>225000.0</td>\n",
       "      <td>509922.0</td>\n",
       "      <td>40419.0</td>\n",
       "      <td>472500.0</td>\n",
       "      <td>0.003069</td>\n",
       "      <td>-15492</td>\n",
       "      <td>-292</td>\n",
       "      <td>-1613.0</td>\n",
       "      <td>-4465</td>\n",
       "      <td>...</td>\n",
       "      <td>0</td>\n",
       "      <td>0</td>\n",
       "      <td>0</td>\n",
       "      <td>0</td>\n",
       "      <td>0.000000</td>\n",
       "      <td>0.000000</td>\n",
       "      <td>0.00000</td>\n",
       "      <td>0.000000</td>\n",
       "      <td>1.00000</td>\n",
       "      <td>4.000000</td>\n",
       "    </tr>\n",
       "    <tr>\n",
       "      <th>215254</th>\n",
       "      <td>0</td>\n",
       "      <td>450000.0</td>\n",
       "      <td>1125000.0</td>\n",
       "      <td>33025.5</td>\n",
       "      <td>1125000.0</td>\n",
       "      <td>0.014520</td>\n",
       "      <td>-14309</td>\n",
       "      <td>-5929</td>\n",
       "      <td>-5038.0</td>\n",
       "      <td>-5123</td>\n",
       "      <td>...</td>\n",
       "      <td>0</td>\n",
       "      <td>0</td>\n",
       "      <td>0</td>\n",
       "      <td>0</td>\n",
       "      <td>0.000000</td>\n",
       "      <td>0.000000</td>\n",
       "      <td>0.00000</td>\n",
       "      <td>2.000000</td>\n",
       "      <td>0.00000</td>\n",
       "      <td>3.000000</td>\n",
       "    </tr>\n",
       "    <tr>\n",
       "      <th>215255</th>\n",
       "      <td>1</td>\n",
       "      <td>180000.0</td>\n",
       "      <td>270000.0</td>\n",
       "      <td>13500.0</td>\n",
       "      <td>270000.0</td>\n",
       "      <td>0.010006</td>\n",
       "      <td>-12706</td>\n",
       "      <td>-1868</td>\n",
       "      <td>-923.0</td>\n",
       "      <td>-4406</td>\n",
       "      <td>...</td>\n",
       "      <td>0</td>\n",
       "      <td>0</td>\n",
       "      <td>0</td>\n",
       "      <td>0</td>\n",
       "      <td>0.000000</td>\n",
       "      <td>0.000000</td>\n",
       "      <td>0.00000</td>\n",
       "      <td>0.000000</td>\n",
       "      <td>0.00000</td>\n",
       "      <td>1.000000</td>\n",
       "    </tr>\n",
       "    <tr>\n",
       "      <th>215256</th>\n",
       "      <td>0</td>\n",
       "      <td>157500.0</td>\n",
       "      <td>729792.0</td>\n",
       "      <td>35239.5</td>\n",
       "      <td>630000.0</td>\n",
       "      <td>0.009630</td>\n",
       "      <td>-13176</td>\n",
       "      <td>-733</td>\n",
       "      <td>-3034.0</td>\n",
       "      <td>-4449</td>\n",
       "      <td>...</td>\n",
       "      <td>0</td>\n",
       "      <td>0</td>\n",
       "      <td>0</td>\n",
       "      <td>0</td>\n",
       "      <td>0.000000</td>\n",
       "      <td>0.000000</td>\n",
       "      <td>0.00000</td>\n",
       "      <td>1.000000</td>\n",
       "      <td>0.00000</td>\n",
       "      <td>0.000000</td>\n",
       "    </tr>\n",
       "  </tbody>\n",
       "</table>\n",
       "<p>215257 rows × 66 columns</p>\n",
       "</div>"
      ],
      "text/plain": [
       "        CNT_CHILDREN  AMT_INCOME_TOTAL  AMT_CREDIT  AMT_ANNUITY  \\\n",
       "0                  0          157500.0    706410.0      67072.5   \n",
       "1                  1          121500.0    545040.0      25407.0   \n",
       "2                  1          225000.0    942300.0      27679.5   \n",
       "3                  2          144000.0    180000.0       9000.0   \n",
       "4                  0          112500.0    729792.0      37390.5   \n",
       "...              ...               ...         ...          ...   \n",
       "215252             0          121500.0    675000.0      32602.5   \n",
       "215253             2          225000.0    509922.0      40419.0   \n",
       "215254             0          450000.0   1125000.0      33025.5   \n",
       "215255             1          180000.0    270000.0      13500.0   \n",
       "215256             0          157500.0    729792.0      35239.5   \n",
       "\n",
       "        AMT_GOODS_PRICE  REGION_POPULATION_RELATIVE  DAYS_BIRTH  \\\n",
       "0              679500.0                    0.032561      -14653   \n",
       "1              450000.0                    0.007114      -13995   \n",
       "2              675000.0                    0.022625      -21687   \n",
       "3              180000.0                    0.006629      -13071   \n",
       "4              630000.0                    0.046220      -19666   \n",
       "...                 ...                         ...         ...   \n",
       "215252         675000.0                    0.006305      -14481   \n",
       "215253         472500.0                    0.003069      -15492   \n",
       "215254        1125000.0                    0.014520      -14309   \n",
       "215255         270000.0                    0.010006      -12706   \n",
       "215256         630000.0                    0.009630      -13176   \n",
       "\n",
       "        DAYS_EMPLOYED  DAYS_REGISTRATION  DAYS_ID_PUBLISH  ...  \\\n",
       "0               -2062            -8599.0            -2087  ...   \n",
       "1               -2246             -348.0             -172  ...   \n",
       "2               -1335            -6306.0            -4026  ...   \n",
       "3               -2292             -742.0            -1201  ...   \n",
       "4              365243             -169.0            -3112  ...   \n",
       "...               ...                ...              ...  ...   \n",
       "215252          -1124            -3813.0            -4134  ...   \n",
       "215253           -292            -1613.0            -4465  ...   \n",
       "215254          -5929            -5038.0            -5123  ...   \n",
       "215255          -1868             -923.0            -4406  ...   \n",
       "215256           -733            -3034.0            -4449  ...   \n",
       "\n",
       "        FLAG_DOCUMENT_18  FLAG_DOCUMENT_19  FLAG_DOCUMENT_20  \\\n",
       "0                      0                 0                 0   \n",
       "1                      0                 0                 0   \n",
       "2                      0                 0                 0   \n",
       "3                      0                 0                 0   \n",
       "4                      0                 0                 0   \n",
       "...                  ...               ...               ...   \n",
       "215252                 0                 0                 0   \n",
       "215253                 0                 0                 0   \n",
       "215254                 0                 0                 0   \n",
       "215255                 0                 0                 0   \n",
       "215256                 0                 0                 0   \n",
       "\n",
       "        FLAG_DOCUMENT_21  AMT_REQ_CREDIT_BUREAU_HOUR  \\\n",
       "0                      0                    0.000000   \n",
       "1                      0                    0.000000   \n",
       "2                      0                    0.000000   \n",
       "3                      0                    0.000000   \n",
       "4                      0                    0.000000   \n",
       "...                  ...                         ...   \n",
       "215252                 0                    0.006416   \n",
       "215253                 0                    0.000000   \n",
       "215254                 0                    0.000000   \n",
       "215255                 0                    0.000000   \n",
       "215256                 0                    0.000000   \n",
       "\n",
       "        AMT_REQ_CREDIT_BUREAU_DAY  AMT_REQ_CREDIT_BUREAU_WEEK  \\\n",
       "0                        0.000000                     0.00000   \n",
       "1                        0.000000                     0.00000   \n",
       "2                        0.000000                     0.00000   \n",
       "3                        0.000000                     0.00000   \n",
       "4                        0.000000                     0.00000   \n",
       "...                           ...                         ...   \n",
       "215252                   0.006647                     0.03426   \n",
       "215253                   0.000000                     0.00000   \n",
       "215254                   0.000000                     0.00000   \n",
       "215255                   0.000000                     0.00000   \n",
       "215256                   0.000000                     0.00000   \n",
       "\n",
       "        AMT_REQ_CREDIT_BUREAU_MON  AMT_REQ_CREDIT_BUREAU_QRT  \\\n",
       "0                        0.000000                    0.00000   \n",
       "1                        0.000000                    0.00000   \n",
       "2                        0.000000                    0.00000   \n",
       "3                        0.000000                    1.00000   \n",
       "4                        0.000000                    1.00000   \n",
       "...                           ...                        ...   \n",
       "215252                   0.267319                    0.26603   \n",
       "215253                   0.000000                    1.00000   \n",
       "215254                   2.000000                    0.00000   \n",
       "215255                   0.000000                    0.00000   \n",
       "215256                   1.000000                    0.00000   \n",
       "\n",
       "        AMT_REQ_CREDIT_BUREAU_YEAR  \n",
       "0                         1.000000  \n",
       "1                         0.000000  \n",
       "2                         1.000000  \n",
       "3                         2.000000  \n",
       "4                         0.000000  \n",
       "...                            ...  \n",
       "215252                    1.899429  \n",
       "215253                    4.000000  \n",
       "215254                    3.000000  \n",
       "215255                    1.000000  \n",
       "215256                    0.000000  \n",
       "\n",
       "[215257 rows x 66 columns]"
      ]
     },
     "execution_count": 19,
     "metadata": {},
     "output_type": "execute_result"
    }
   ],
   "source": [
    "data_float"
   ]
  },
  {
   "cell_type": "code",
   "execution_count": 443,
   "metadata": {},
   "outputs": [
    {
     "name": "stdout",
     "output_type": "stream",
     "text": [
      "Collecting lightgbm\n",
      "  Downloading lightgbm-3.1.1-py2.py3-none-win_amd64.whl (754 kB)\n",
      "Requirement already satisfied: wheel in c:\\users\\user\\anaconda3\\lib\\site-packages (from lightgbm) (0.34.2)\n",
      "Requirement already satisfied: scipy in c:\\users\\user\\anaconda3\\lib\\site-packages (from lightgbm) (1.5.0)\n",
      "Requirement already satisfied: numpy in c:\\users\\user\\anaconda3\\lib\\site-packages (from lightgbm) (1.18.5)\n",
      "Requirement already satisfied: scikit-learn!=0.22.0 in c:\\users\\user\\anaconda3\\lib\\site-packages (from lightgbm) (0.23.1)\n",
      "Requirement already satisfied: joblib>=0.11 in c:\\users\\user\\anaconda3\\lib\\site-packages (from scikit-learn!=0.22.0->lightgbm) (0.16.0)\n",
      "Requirement already satisfied: threadpoolctl>=2.0.0 in c:\\users\\user\\anaconda3\\lib\\site-packages (from scikit-learn!=0.22.0->lightgbm) (2.1.0)\n",
      "Installing collected packages: lightgbm\n",
      "Successfully installed lightgbm-3.1.1\n",
      "Note: you may need to restart the kernel to use updated packages.\n"
     ]
    }
   ],
   "source": [
    "pip install lightgbm\n"
   ]
  },
  {
   "cell_type": "code",
   "execution_count": 444,
   "metadata": {},
   "outputs": [],
   "source": [
    "import lightgbm as lgb"
   ]
  },
  {
   "cell_type": "code",
   "execution_count": 449,
   "metadata": {},
   "outputs": [
    {
     "name": "stderr",
     "output_type": "stream",
     "text": [
      "  WARNING: Retrying (Retry(total=4, connect=None, read=None, redirect=None, status=None)) after connection broken by 'ProtocolError('Connection aborted.', ConnectionResetError(10054, 'Удаленный хост принудительно разорвал существующее подключение', None, 10054, None))': /packages/a2/06/b5614d3e1d4474e3e033f0c9cd68ff274d2e7b4f6b1fed15cffcddcdcd64/catboost-0.24.3-cp38-none-win_amd64.whl\n"
     ]
    },
    {
     "name": "stdout",
     "output_type": "stream",
     "text": [
      "Collecting catboost\n",
      "  Downloading catboost-0.24.3-cp38-none-win_amd64.whl (65.4 MB)\n",
      "Collecting graphviz\n",
      "  Downloading graphviz-0.15-py2.py3-none-any.whl (18 kB)\n",
      "Collecting plotly\n",
      "  Downloading plotly-4.14.1-py2.py3-none-any.whl (13.2 MB)\n",
      "Requirement already satisfied: six in c:\\users\\user\\anaconda3\\lib\\site-packages (from catboost) (1.15.0)\n",
      "Requirement already satisfied: scipy in c:\\users\\user\\anaconda3\\lib\\site-packages (from catboost) (1.5.0)\n",
      "Requirement already satisfied: matplotlib in c:\\users\\user\\anaconda3\\lib\\site-packages (from catboost) (3.2.2)\n",
      "Requirement already satisfied: pandas>=0.24.0 in c:\\users\\user\\anaconda3\\lib\\site-packages (from catboost) (1.0.5)\n",
      "Requirement already satisfied: numpy>=1.16.0 in c:\\users\\user\\anaconda3\\lib\\site-packages (from catboost) (1.18.5)\n",
      "Collecting retrying>=1.3.3\n",
      "  Downloading retrying-1.3.3.tar.gz (10 kB)\n",
      "Requirement already satisfied: kiwisolver>=1.0.1 in c:\\users\\user\\anaconda3\\lib\\site-packages (from matplotlib->catboost) (1.2.0)\n",
      "Requirement already satisfied: python-dateutil>=2.1 in c:\\users\\user\\anaconda3\\lib\\site-packages (from matplotlib->catboost) (2.8.1)\n",
      "Requirement already satisfied: cycler>=0.10 in c:\\users\\user\\anaconda3\\lib\\site-packages (from matplotlib->catboost) (0.10.0)\n",
      "Requirement already satisfied: pyparsing!=2.0.4,!=2.1.2,!=2.1.6,>=2.0.1 in c:\\users\\user\\anaconda3\\lib\\site-packages (from matplotlib->catboost) (2.4.7)\n",
      "Requirement already satisfied: pytz>=2017.2 in c:\\users\\user\\anaconda3\\lib\\site-packages (from pandas>=0.24.0->catboost) (2020.1)\n",
      "Building wheels for collected packages: retrying\n",
      "  Building wheel for retrying (setup.py): started\n",
      "  Building wheel for retrying (setup.py): finished with status 'done'\n",
      "  Created wheel for retrying: filename=retrying-1.3.3-py3-none-any.whl size=11435 sha256=62c33317d568e7105ccde9ba856ec74b7b6e7888239a743c8069052d81b6ad18\n",
      "  Stored in directory: c:\\users\\user\\appdata\\local\\pip\\cache\\wheels\\c4\\a7\\48\\0a434133f6d56e878ca511c0e6c38326907c0792f67b476e56\n",
      "Successfully built retrying\n",
      "Installing collected packages: graphviz, retrying, plotly, catboost\n",
      "Successfully installed catboost-0.24.3 graphviz-0.15 plotly-4.14.1 retrying-1.3.3\n",
      "Collecting catboost\n",
      "  Using cached catboost-0.24.3-cp38-none-win_amd64.whl (65.4 MB)\n",
      "Requirement already satisfied: graphviz in c:\\users\\user\\anaconda3\\lib\\site-packages (from catboost) (0.15)\n",
      "Requirement already satisfied: numpy>=1.16.0 in c:\\users\\user\\anaconda3\\lib\\site-packages (from catboost) (1.18.5)\n",
      "Collecting plotly\n",
      "  Using cached plotly-4.14.1-py2.py3-none-any.whl (13.2 MB)\n",
      "Requirement already satisfied: scipy in c:\\users\\user\\anaconda3\\lib\\site-packages (from catboost) (1.5.0)\n",
      "Requirement already satisfied: matplotlib in c:\\users\\user\\anaconda3\\lib\\site-packages (from catboost) (3.2.2)\n",
      "Requirement already satisfied: six in c:\\users\\user\\anaconda3\\lib\\site-packages (from catboost) (1.15.0)\n",
      "Requirement already satisfied: pandas>=0.24.0 in c:\\users\\user\\anaconda3\\lib\\site-packages (from catboost) (1.0.5)\n",
      "Requirement already satisfied: retrying>=1.3.3 in c:\\users\\user\\anaconda3\\lib\\site-packages (from plotly->catboost) (1.3.3)\n",
      "Requirement already satisfied: cycler>=0.10 in c:\\users\\user\\anaconda3\\lib\\site-packages (from matplotlib->catboost) (0.10.0)\n",
      "Requirement already satisfied: python-dateutil>=2.1 in c:\\users\\user\\anaconda3\\lib\\site-packages (from matplotlib->catboost) (2.8.1)\n",
      "Requirement already satisfied: kiwisolver>=1.0.1 in c:\\users\\user\\anaconda3\\lib\\site-packages (from matplotlib->catboost) (1.2.0)\n",
      "Requirement already satisfied: pyparsing!=2.0.4,!=2.1.2,!=2.1.6,>=2.0.1 in c:\\users\\user\\anaconda3\\lib\\site-packages (from matplotlib->catboost) (2.4.7)\n",
      "Requirement already satisfied: pytz>=2017.2 in c:\\users\\user\\anaconda3\\lib\\site-packages (from pandas>=0.24.0->catboost) (2020.1)\n",
      "Installing collected packages: plotly, catboost\n",
      "Successfully installed catboost-0.24.3 plotly-4.14.1\n",
      "Note: you may need to restart the kernel to use updated packages.\n"
     ]
    }
   ],
   "source": [
    "pip install catboost"
   ]
  },
  {
   "cell_type": "markdown",
   "metadata": {},
   "source": [
    "### CatBoost"
   ]
  },
  {
   "cell_type": "code",
   "execution_count": 49,
   "metadata": {},
   "outputs": [],
   "source": [
    "from catboost import CatBoostRegressor"
   ]
  },
  {
   "cell_type": "code",
   "execution_count": 50,
   "metadata": {},
   "outputs": [],
   "source": [
    "from sklearn.model_selection import train_test_split\n",
    "X_train_float, X_test_float, y_train, y_test = train_test_split(data_float, y, train_size=0.7, random_state=0)"
   ]
  },
  {
   "cell_type": "code",
   "execution_count": 51,
   "metadata": {},
   "outputs": [],
   "source": [
    "\n",
    "from sklearn.datasets import make_classification\n",
    "from matplotlib.colors import ListedColormap\n",
    "from sklearn.model_selection import train_test_split\n",
    "from sklearn.metrics import roc_auc_score\n",
    "from catboost import CatBoostClassifier "
   ]
  },
  {
   "cell_type": "code",
   "execution_count": 120,
   "metadata": {},
   "outputs": [
    {
     "data": {
      "text/plain": [
       "(150679, 66)"
      ]
     },
     "execution_count": 120,
     "metadata": {},
     "output_type": "execute_result"
    }
   ],
   "source": [
    "X_train_float.shape"
   ]
  },
  {
   "cell_type": "code",
   "execution_count": 121,
   "metadata": {},
   "outputs": [
    {
     "name": "stdout",
     "output_type": "stream",
     "text": [
      "Cat_Boost running time 49.618475675582886 seconds ---\n"
     ]
    }
   ],
   "source": [
    "from catboost import CatBoostClassifier \n",
    "import time\n",
    "clf = CatBoostClassifier( logging_level='Silent')\n",
    "def time_fit_Cat_Boost():\n",
    "    start_time = time.time()\n",
    "    clf.fit(X_train_float, y_train)\n",
    "    return (time.time() - start_time)\n",
    "print(\"Cat_Boost running time %s seconds ---\" % time_fit_Cat_Boost())"
   ]
  },
  {
   "cell_type": "markdown",
   "metadata": {},
   "source": [
    "50 секунд..."
   ]
  },
  {
   "cell_type": "code",
   "execution_count": 474,
   "metadata": {},
   "outputs": [
    {
     "name": "stdout",
     "output_type": "stream",
     "text": [
      "0.7400413783842654\n"
     ]
    }
   ],
   "source": [
    "print(roc_auc_score(y_test, clf.predict_proba(X_test_float)[:, 1]))"
   ]
  },
  {
   "cell_type": "markdown",
   "metadata": {},
   "source": [
    "Но нам нужна площадь под precision-recall"
   ]
  },
  {
   "cell_type": "code",
   "execution_count": 31,
   "metadata": {},
   "outputs": [],
   "source": [
    "from sklearn.multiclass import OneVsRestClassifier\n",
    "from sklearn import svm, datasets\n",
    "from sklearn.preprocessing import label_binarize\n",
    "from sklearn.metrics import roc_curve, auc\n",
    "from sklearn.metrics import roc_auc_score\n",
    "from sklearn.metrics import average_precision_score\n",
    "from sklearn.metrics import precision_recall_curve\n",
    "from sklearn.metrics import plot_precision_recall_curve"
   ]
  },
  {
   "cell_type": "code",
   "execution_count": 476,
   "metadata": {},
   "outputs": [],
   "source": [
    "y_score_pr = clf.predict_proba(X_test_float)"
   ]
  },
  {
   "cell_type": "code",
   "execution_count": 477,
   "metadata": {},
   "outputs": [
    {
     "data": {
      "text/plain": [
       "0.22448830027909078"
      ]
     },
     "execution_count": 477,
     "metadata": {},
     "output_type": "execute_result"
    }
   ],
   "source": [
    "from sklearn import metrics\n",
    "\n",
    "precision, recall, third = precision_recall_curve(y_test, y_score_pr[:,1])\n",
    "metrics.auc(recall, precision)"
   ]
  },
  {
   "cell_type": "markdown",
   "metadata": {},
   "source": [
    "это площадь под графиком precision-recall кривой"
   ]
  },
  {
   "cell_type": "markdown",
   "metadata": {},
   "source": [
    "Теперь проделаем то же самое с LightGBM"
   ]
  },
  {
   "cell_type": "markdown",
   "metadata": {},
   "source": [
    "### LightGBM"
   ]
  },
  {
   "cell_type": "code",
   "execution_count": 483,
   "metadata": {},
   "outputs": [
    {
     "name": "stdout",
     "output_type": "stream",
     "text": [
      "LGBM running time 1.4204320907592773 seconds ---\n"
     ]
    }
   ],
   "source": [
    "from lightgbm import LGBMClassifier\n",
    "\n",
    "clf2 = LGBMClassifier()\n",
    "\n",
    "def time_fit_LGBM():\n",
    "    start_time = time.time()\n",
    "    clf2.fit(X_train_float, y_train)\n",
    "    return (time.time() - start_time)\n",
    "print(\"LGBM running time %s seconds ---\" % time_fit_LGBM())\n"
   ]
  },
  {
   "cell_type": "markdown",
   "metadata": {},
   "source": [
    "меньше двух секунд"
   ]
  },
  {
   "cell_type": "code",
   "execution_count": 484,
   "metadata": {},
   "outputs": [
    {
     "name": "stdout",
     "output_type": "stream",
     "text": [
      "0.7408920533873434\n"
     ]
    }
   ],
   "source": [
    "print(roc_auc_score(y_test, clf2.predict_proba(X_test_float)[:, 1]))"
   ]
  },
  {
   "cell_type": "code",
   "execution_count": 485,
   "metadata": {},
   "outputs": [],
   "source": [
    "y_score_pr2 = clf2.predict_proba(X_test_float)"
   ]
  },
  {
   "cell_type": "code",
   "execution_count": 33,
   "metadata": {},
   "outputs": [],
   "source": [
    "from sklearn import metrics"
   ]
  },
  {
   "cell_type": "code",
   "execution_count": 486,
   "metadata": {},
   "outputs": [
    {
     "data": {
      "text/plain": [
       "0.22647241026885723"
      ]
     },
     "execution_count": 486,
     "metadata": {},
     "output_type": "execute_result"
    }
   ],
   "source": [
    "from sklearn import metrics\n",
    "\n",
    "precision2, recall2, third2 = precision_recall_curve(y_test, y_score_pr2[:,1])\n",
    "metrics.auc(recall2, precision2)"
   ]
  },
  {
   "cell_type": "markdown",
   "metadata": {},
   "source": [
    "Площадь получилась примерно одинаковая. Заметной разницы в качестве не наблюдается.\n",
    "\n",
    "Вероятно, это связано с тем, что эти алгоритмы схожи по реализации и здесь мы выбирали все параметры ппо умолчанию."
   ]
  },
  {
   "cell_type": "markdown",
   "metadata": {},
   "source": [
    "**Задание 6. (2 балла)**\n",
    "\n",
    "Подберите оптимальные с точки зрения метрики качества параметры алгоритмов, изменяя:\n",
    "\n",
    "- глубину деревьев;\n",
    "- количество деревьев;\n",
    "- темп обучения;\n",
    "- оптимизируемый функционал.\n",
    "\n",
    "\n",
    "Масштаб значений предлагается посмотреть тут.\n",
    "\n",
    "**Проанализируйте соотношения получившихся оптимальных глубины и количества деревьев в зависимости от алгоритма.**\n",
    "\n",
    "\n",
    "**Если на перебор гиперпараметров уходит много времени, то переберите значениях каких-нибудь 1-2 гиперпараметров, а не всех предложенных 4**"
   ]
  },
  {
   "cell_type": "markdown",
   "metadata": {},
   "source": [
    "### глубина LGBM"
   ]
  },
  {
   "cell_type": "code",
   "execution_count": 527,
   "metadata": {},
   "outputs": [
    {
     "name": "stdout",
     "output_type": "stream",
     "text": [
      "i am working 1\n",
      "i am working 2\n",
      "i am working 3\n",
      "i am working 4\n",
      "i am working 5\n",
      "i am working 6\n",
      "i am working 7\n",
      "i am working 8\n",
      "i am working 9\n",
      "i am working 10\n"
     ]
    }
   ],
   "source": [
    "from lightgbm import LGBMClassifier\n",
    "list_time = []\n",
    "list_of_accur = []\n",
    "list_of_max_depth = [1, 2, 3, 4, 5, 6, 7, 8, 9, 10]\n",
    "for i in list_of_max_depth:\n",
    "    print('i am working', i)\n",
    "    start_time = time.time()\n",
    "    clf_param = LGBMClassifier(max_depth = i, num_leaves= 1024)\n",
    "    clf_param.fit(X_train_float, y_train)\n",
    "    t = time.time() - start_time\n",
    "    list_time += [t]\n",
    "    y_score_pr_param = clf_param.predict_proba(X_test_float)\n",
    "    precision, recall, third = precision_recall_curve(y_test, y_score_pr_param[:,1])\n",
    "    list_of_accur += [metrics.auc(recall, precision)]"
   ]
  },
  {
   "cell_type": "code",
   "execution_count": 496,
   "metadata": {},
   "outputs": [],
   "source": [
    "#list_of_accur"
   ]
  },
  {
   "cell_type": "code",
   "execution_count": 528,
   "metadata": {},
   "outputs": [
    {
     "data": {
      "image/png": "[encoded data removed]",
      "text/plain": [
       "<Figure size 720x576 with 1 Axes>"
      ]
     },
     "metadata": {
      "needs_background": "light"
     },
     "output_type": "display_data"
    }
   ],
   "source": [
    "fig, ax = plt.subplots(figsize = (10, 8))\n",
    "\n",
    "ax.scatter(list_of_max_depth, list_of_accur, color = 'r')\n",
    "ax.set_ylabel('AUC-P-R', size = 16)\n",
    "ax.set_xlabel('max_depth', size = 16)\n",
    "ax.grid()\n",
    "ax.set_title('LGBM')\n",
    "plt.show()"
   ]
  },
  {
   "cell_type": "markdown",
   "metadata": {},
   "source": [
    "**Лучшие показатели LGBM при глубине равной 4**"
   ]
  },
  {
   "cell_type": "code",
   "execution_count": 526,
   "metadata": {},
   "outputs": [
    {
     "data": {
      "image/png": "[encoded data removed]",
      "text/plain": [
       "<Figure size 720x576 with 1 Axes>"
      ]
     },
     "metadata": {
      "needs_background": "light"
     },
     "output_type": "display_data"
    }
   ],
   "source": [
    "fig, ax = plt.subplots(figsize = (10, 8))\n",
    "\n",
    "ax.scatter(list_of_max_depth, list_time, color = 'g')\n",
    "ax.set_ylabel('working time, sec', size = 16)\n",
    "ax.set_xlabel('max_depth', size = 16)\n",
    "ax.grid()\n",
    "ax.set_title('LGBM')\n",
    "plt.show()"
   ]
  },
  {
   "cell_type": "markdown",
   "metadata": {},
   "source": [
    "время работы на лучшем значении не самое большое."
   ]
  },
  {
   "cell_type": "markdown",
   "metadata": {},
   "source": [
    "### глубина Cat_boost"
   ]
  },
  {
   "cell_type": "code",
   "execution_count": 519,
   "metadata": {},
   "outputs": [
    {
     "name": "stdout",
     "output_type": "stream",
     "text": [
      "i am working 1\n",
      "i am working 2\n",
      "i am working 3\n",
      "i am working 4\n",
      "i am working 5\n",
      "i am working 6\n",
      "i am working 7\n",
      "i am working 8\n",
      "i am working 9\n",
      "i am working 10\n"
     ]
    }
   ],
   "source": [
    "from catboost import CatBoostClassifier \n",
    "list_time = []\n",
    "list_of_accur = []\n",
    "list_of_max_depth = [1, 2, 3, 4, 5, 6, 7, 8, 9, 10]\n",
    "for i in list_of_max_depth:\n",
    "    print('i am working', i)\n",
    "    start_time = time.time()\n",
    "    clf_param = CatBoostClassifier(max_depth = i, logging_level='Silent')\n",
    "    clf_param.fit(X_train_float, y_train)\n",
    "    t = time.time() - start_time\n",
    "    list_time += [t]\n",
    "    y_score_pr_param = clf_param.predict_proba(X_test_float)\n",
    "    precision, recall, third = precision_recall_curve(y_test, y_score_pr_param[:,1])\n",
    "    list_of_accur += [metrics.auc(recall, precision)]"
   ]
  },
  {
   "cell_type": "code",
   "execution_count": 520,
   "metadata": {},
   "outputs": [
    {
     "data": {
      "image/png": "[encoded data removed]",
      "text/plain": [
       "<Figure size 720x576 with 1 Axes>"
      ]
     },
     "metadata": {
      "needs_background": "light"
     },
     "output_type": "display_data"
    }
   ],
   "source": [
    "fig, ax = plt.subplots(figsize = (10, 8))\n",
    "\n",
    "ax.scatter(list_of_max_depth, list_of_accur, color = 'r')\n",
    "ax.set_ylabel('AUC-P-R', size = 16)\n",
    "ax.set_xlabel('max_depth', size = 16)\n",
    "ax.grid()\n",
    "ax.set_title('Cat_Boost')\n",
    "plt.show()"
   ]
  },
  {
   "cell_type": "markdown",
   "metadata": {},
   "source": [
    "**Лучшие результаты Cat_Boost достигает при глубине 3**"
   ]
  },
  {
   "cell_type": "code",
   "execution_count": 521,
   "metadata": {},
   "outputs": [
    {
     "data": {
      "image/png": "[encoded data removed]",
      "text/plain": [
       "<Figure size 720x576 with 1 Axes>"
      ]
     },
     "metadata": {
      "needs_background": "light"
     },
     "output_type": "display_data"
    }
   ],
   "source": [
    "fig, ax = plt.subplots(figsize = (10, 8))\n",
    "\n",
    "ax.scatter(list_of_max_depth, list_time, color = 'g')\n",
    "ax.set_ylabel('working time, sec', size = 16)\n",
    "ax.set_xlabel('max_depth', size = 16)\n",
    "ax.grid()\n",
    "ax.set_title('Cat_Boost')\n",
    "plt.show()"
   ]
  },
  {
   "cell_type": "markdown",
   "metadata": {},
   "source": [
    "время работы при наилучшем результате небольшое. Стоит отметить, что при уведичении глубины время работы возрастает, а качество падает."
   ]
  },
  {
   "cell_type": "code",
   "execution_count": 522,
   "metadata": {},
   "outputs": [
    {
     "name": "stdout",
     "output_type": "stream",
     "text": [
      "i am working 1\n",
      "i am working 2\n",
      "i am working 3\n",
      "i am working 4\n",
      "i am working 5\n",
      "i am working 6\n",
      "i am working 7\n",
      "i am working 8\n",
      "i am working 9\n",
      "i am working 10\n"
     ]
    }
   ],
   "source": [
    "from catboost import CatBoostClassifier \n",
    "list_time = []\n",
    "list_of_accur = []\n",
    "list_of_max_depth = [1, 2, 3, 4, 5, 6, 7, 8, 9, 10]\n",
    "for i in list_of_max_depth:\n",
    "    print('i am working', i)\n",
    "    start_time = time.time()\n",
    "    clf_param = CatBoostClassifier(max_depth = i, n_estimators = 500, logging_level='Silent')\n",
    "    clf_param.fit(X_train_float, y_train)\n",
    "    t = time.time() - start_time\n",
    "    list_time += [t]\n",
    "    y_score_pr_param = clf_param.predict_proba(X_test_float)\n",
    "    precision, recall, third = precision_recall_curve(y_test, y_score_pr_param[:,1])\n",
    "    list_of_accur += [metrics.auc(recall, precision)]"
   ]
  },
  {
   "cell_type": "code",
   "execution_count": 523,
   "metadata": {},
   "outputs": [
    {
     "data": {
      "text/plain": [
       "[8.826900482177734,\n",
       " 11.94880986213684,\n",
       " 13.545079469680786,\n",
       " 14.068893432617188,\n",
       " 20.07734489440918,\n",
       " 25.561068058013916,\n",
       " 30.31310725212097,\n",
       " 36.75887489318848,\n",
       " 40.62406349182129,\n",
       " 72.05118012428284]"
      ]
     },
     "execution_count": 523,
     "metadata": {},
     "output_type": "execute_result"
    }
   ],
   "source": [
    "list_time"
   ]
  },
  {
   "cell_type": "markdown",
   "metadata": {},
   "source": [
    "### количество деревьев для LGBM"
   ]
  },
  {
   "cell_type": "code",
   "execution_count": 533,
   "metadata": {},
   "outputs": [
    {
     "name": "stdout",
     "output_type": "stream",
     "text": [
      "i am working 1\n",
      "i am working 5\n",
      "i am working 10\n",
      "i am working 20\n",
      "i am working 50\n",
      "i am working 100\n",
      "i am working 200\n",
      "i am working 400\n",
      "i am working 600\n",
      "i am working 1000\n",
      "i am working 1300\n",
      "i am working 1700\n",
      "i am working 2200\n",
      "i am working 2500\n",
      "i am working 3000\n"
     ]
    }
   ],
   "source": [
    "from lightgbm import LGBMClassifier\n",
    "list_time = []\n",
    "list_of_accur = []\n",
    "list_of_trees = [1, 5, 10, 20, 50, 100, 200, 400, 600, 1000, 1300, 1700, 2200, 2500, 3000]\n",
    "for i in list_of_trees:\n",
    "    print('i am working', i)\n",
    "    start_time = time.time()\n",
    "    clf_param = LGBMClassifier(n_estimators  = i)\n",
    "    clf_param.fit(X_train_float, y_train)\n",
    "    t = time.time() - start_time\n",
    "    list_time += [t]\n",
    "    y_score_pr_param = clf_param.predict_proba(X_test_float)\n",
    "    precision, recall, third = precision_recall_curve(y_test, y_score_pr_param[:,1])\n",
    "    list_of_accur += [metrics.auc(recall, precision)]"
   ]
  },
  {
   "cell_type": "code",
   "execution_count": 539,
   "metadata": {},
   "outputs": [
    {
     "data": {
      "image/png": "[encoded data removed]",
      "text/plain": [
       "<Figure size 720x576 with 1 Axes>"
      ]
     },
     "metadata": {
      "needs_background": "light"
     },
     "output_type": "display_data"
    }
   ],
   "source": [
    "fig, ax = plt.subplots(figsize = (10, 8))\n",
    "\n",
    "ax.scatter(list_of_trees, list_of_accur, color = 'r')\n",
    "ax.set_ylabel('AUC-P-R', size = 16)\n",
    "ax.set_xlabel('n_estimators', size = 16)\n",
    "ax.grid()\n",
    "plt.xscale(\"log\")\n",
    "ax.set_title('LGBM количество деревьев')\n",
    "plt.show()"
   ]
  },
  {
   "cell_type": "markdown",
   "metadata": {},
   "source": [
    "**лучшая точность LGBM на значениях количества деревьев 50, 100, 200**"
   ]
  },
  {
   "cell_type": "code",
   "execution_count": 540,
   "metadata": {},
   "outputs": [
    {
     "data": {
      "image/png": "[encoded data removed]",
      "text/plain": [
       "<Figure size 720x576 with 1 Axes>"
      ]
     },
     "metadata": {
      "needs_background": "light"
     },
     "output_type": "display_data"
    }
   ],
   "source": [
    "fig, ax = plt.subplots(figsize = (10, 8))\n",
    "\n",
    "ax.scatter(list_of_trees, list_time, color = 'g')\n",
    "ax.set_ylabel('working time, sec', size = 16)\n",
    "ax.set_xlabel('n_estimators', size = 16)\n",
    "ax.grid()\n",
    "plt.xscale(\"log\")\n",
    "ax.set_title('LGBM количество деревьев')\n",
    "plt.show()"
   ]
  },
  {
   "cell_type": "markdown",
   "metadata": {},
   "source": [
    "видна та же тенденция, что при увеличении количества деревьев точность падает, а время работы увеличивается."
   ]
  },
  {
   "cell_type": "markdown",
   "metadata": {},
   "source": [
    "### количество деревьев для Cat_Boost"
   ]
  },
  {
   "cell_type": "code",
   "execution_count": 542,
   "metadata": {},
   "outputs": [
    {
     "name": "stdout",
     "output_type": "stream",
     "text": [
      "i am working 1\n",
      "i am working 5\n",
      "i am working 10\n",
      "i am working 20\n",
      "i am working 50\n",
      "i am working 100\n",
      "i am working 200\n",
      "i am working 400\n",
      "i am working 600\n",
      "i am working 1000\n",
      "i am working 1300\n",
      "i am working 1700\n",
      "i am working 2200\n",
      "i am working 2500\n",
      "i am working 3000\n"
     ]
    }
   ],
   "source": [
    "from lightgbm import LGBMClassifier\n",
    "list_time = []\n",
    "list_of_accur = []\n",
    "list_of_trees = [1, 5, 10, 20, 50, 100, 200, 400, 600, 1000, 1300, 1700, 2200, 2500, 3000]\n",
    "for i in list_of_trees:\n",
    "    print('i am working', i)\n",
    "    start_time = time.time()\n",
    "    clf_param = CatBoostClassifier(n_estimators  = i, logging_level='Silent')\n",
    "    clf_param.fit(X_train_float, y_train)\n",
    "    t = time.time() - start_time\n",
    "    list_time += [t]\n",
    "    y_score_pr_param = clf_param.predict_proba(X_test_float)\n",
    "    precision, recall, third = precision_recall_curve(y_test, y_score_pr_param[:,1])\n",
    "    list_of_accur += [metrics.auc(recall, precision)]"
   ]
  },
  {
   "cell_type": "code",
   "execution_count": 543,
   "metadata": {},
   "outputs": [
    {
     "data": {
      "image/png": "[encoded data removed]",
      "text/plain": [
       "<Figure size 720x576 with 1 Axes>"
      ]
     },
     "metadata": {
      "needs_background": "light"
     },
     "output_type": "display_data"
    }
   ],
   "source": [
    "fig, ax = plt.subplots(figsize = (10, 8))\n",
    "\n",
    "ax.scatter(list_of_trees, list_of_accur, color = 'r')\n",
    "ax.set_ylabel('AUC-P-R', size = 16)\n",
    "ax.set_xlabel('n_estimators', size = 16)\n",
    "ax.grid()\n",
    "plt.xscale(\"log\")\n",
    "ax.set_title('Cat_Boost количество деревьев')\n",
    "plt.show()"
   ]
  },
  {
   "cell_type": "markdown",
   "metadata": {},
   "source": [
    "**здесь же лучшие показатели при значениях бОльших 1000, причем качество перестает расти, а время работы (ниже), резко возрастает**"
   ]
  },
  {
   "cell_type": "code",
   "execution_count": 544,
   "metadata": {},
   "outputs": [
    {
     "data": {
      "image/png": "[encoded data removed]",
      "text/plain": [
       "<Figure size 720x576 with 1 Axes>"
      ]
     },
     "metadata": {
      "needs_background": "light"
     },
     "output_type": "display_data"
    }
   ],
   "source": [
    "fig, ax = plt.subplots(figsize = (10, 8))\n",
    "\n",
    "ax.scatter(list_of_trees, list_time, color = 'g')\n",
    "ax.set_ylabel('working time, sec', size = 16)\n",
    "ax.set_xlabel('n_estimators', size = 16)\n",
    "ax.grid()\n",
    "plt.xscale(\"log\")\n",
    "ax.set_title('Cat_Boost количество деревьев')\n",
    "plt.show()"
   ]
  },
  {
   "cell_type": "markdown",
   "metadata": {},
   "source": [
    "## темп обучения для LGBM"
   ]
  },
  {
   "cell_type": "code",
   "execution_count": 554,
   "metadata": {},
   "outputs": [
    {
     "name": "stdout",
     "output_type": "stream",
     "text": [
      "i am working 0.01\n",
      "i am working 0.02\n",
      "i am working 0.03\n",
      "i am working 0.05\n",
      "i am working 0.08\n",
      "i am working 0.1\n",
      "i am working 0.15\n",
      "i am working 0.2\n",
      "i am working 0.3\n",
      "i am working 0.5\n",
      "i am working 0.7\n",
      "i am working 0.99\n"
     ]
    }
   ],
   "source": [
    "from lightgbm import LGBMClassifier\n",
    "list_time = []\n",
    "list_of_accur = []\n",
    "list_of_learning_rate  = [0.01, 0.02, 0.03, 0.05, 0.08, 0.1, 0.15, 0.2, 0.3, 0.5, 0.7, 0.99]\n",
    "for i in list_of_learning_rate:\n",
    "    print('i am working', i)\n",
    "    start_time = time.time()\n",
    "    clf_param = LGBMClassifier(learning_rate = i)\n",
    "    clf_param.fit(X_train_float, y_train)\n",
    "    t = time.time() - start_time\n",
    "    list_time += [t]\n",
    "    y_score_pr_param = clf_param.predict_proba(X_test_float)\n",
    "    precision, recall, third = precision_recall_curve(y_test, y_score_pr_param[:,1])\n",
    "    list_of_accur += [metrics.auc(recall, precision)]"
   ]
  },
  {
   "cell_type": "code",
   "execution_count": 555,
   "metadata": {},
   "outputs": [
    {
     "data": {
      "image/png": "[encoded data removed]",
      "text/plain": [
       "<Figure size 720x576 with 1 Axes>"
      ]
     },
     "metadata": {
      "needs_background": "light"
     },
     "output_type": "display_data"
    }
   ],
   "source": [
    "fig, ax = plt.subplots(figsize = (10, 8))\n",
    "\n",
    "ax.scatter(list_of_learning_rate, list_of_accur, color = 'r')\n",
    "ax.set_ylabel('AUC-P-R', size = 16)\n",
    "ax.set_xlabel('n_estimators', size = 16)\n",
    "ax.grid()\n",
    "plt.xscale(\"log\")\n",
    "ax.set_title('LGBM темп обучения')\n",
    "plt.show()"
   ]
  },
  {
   "cell_type": "markdown",
   "metadata": {},
   "source": [
    "по оси х должно быть темп обучения, описка\n",
    "\n",
    "**лучшие показатели LGBM показывает при значении learning_rate = 0.05**"
   ]
  },
  {
   "cell_type": "code",
   "execution_count": 556,
   "metadata": {},
   "outputs": [
    {
     "data": {
      "image/png": "[encoded data removed]",
      "text/plain": [
       "<Figure size 720x576 with 1 Axes>"
      ]
     },
     "metadata": {
      "needs_background": "light"
     },
     "output_type": "display_data"
    }
   ],
   "source": [
    "fig, ax = plt.subplots(figsize = (10, 8))\n",
    "\n",
    "ax.scatter(list_of_learning_rate, list_time, color = 'g')\n",
    "ax.set_ylabel('working time, sec', size = 16)\n",
    "ax.set_xlabel('темп обучения', size = 16)\n",
    "ax.grid()\n",
    "plt.xscale(\"log\")\n",
    "ax.set_title('LGBM темп обучения')\n",
    "plt.show()"
   ]
  },
  {
   "cell_type": "markdown",
   "metadata": {},
   "source": [
    "время ведет себя немного странно, но видна тенденция на уменьшение"
   ]
  },
  {
   "cell_type": "markdown",
   "metadata": {},
   "source": [
    "### Темп обучения Cat_Boost"
   ]
  },
  {
   "cell_type": "code",
   "execution_count": 557,
   "metadata": {},
   "outputs": [
    {
     "name": "stdout",
     "output_type": "stream",
     "text": [
      "i am working 0.01\n",
      "i am working 0.02\n",
      "i am working 0.05\n",
      "i am working 0.08\n",
      "i am working 0.1\n",
      "i am working 0.15\n",
      "i am working 0.2\n",
      "i am working 0.3\n",
      "i am working 0.5\n",
      "i am working 0.7\n",
      "i am working 0.99\n"
     ]
    }
   ],
   "source": [
    "from lightgbm import LGBMClassifier\n",
    "list_time = []\n",
    "list_of_accur = []\n",
    "list_of_learning_rate  = [0.01, 0.02, 0.05, 0.08, 0.1, 0.15, 0.2, 0.3, 0.5, 0.7, 0.99]\n",
    "for i in list_of_learning_rate:\n",
    "    print('i am working', i)\n",
    "    start_time = time.time()\n",
    "    clf_param = CatBoostClassifier(learning_rate = i, logging_level='Silent')\n",
    "    clf_param.fit(X_train_float, y_train)\n",
    "    t = time.time() - start_time\n",
    "    list_time += [t]\n",
    "    y_score_pr_param = clf_param.predict_proba(X_test_float)\n",
    "    precision, recall, third = precision_recall_curve(y_test, y_score_pr_param[:,1])\n",
    "    list_of_accur += [metrics.auc(recall, precision)]"
   ]
  },
  {
   "cell_type": "code",
   "execution_count": 558,
   "metadata": {},
   "outputs": [
    {
     "data": {
      "image/png": "[encoded data removed]",
      "text/plain": [
       "<Figure size 720x576 with 1 Axes>"
      ]
     },
     "metadata": {
      "needs_background": "light"
     },
     "output_type": "display_data"
    }
   ],
   "source": [
    "fig, ax = plt.subplots(figsize = (10, 8))\n",
    "\n",
    "ax.scatter(list_of_learning_rate, list_of_accur, color = 'r')\n",
    "ax.set_ylabel('AUC-P-R', size = 16)\n",
    "ax.set_xlabel('n_estimators', size = 16)\n",
    "ax.grid()\n",
    "plt.xscale(\"log\")\n",
    "ax.set_title('Cat_Boost темп обучения')\n",
    "plt.show()"
   ]
  },
  {
   "cell_type": "markdown",
   "metadata": {},
   "source": [
    "по оси х должно быть темп обучения, тут тоже просто скопировал неудачно ( не стал исправлять из-за большого времени работы)\n",
    "\n",
    "**У Cat_Boost лучшие показатели точности получаются при learning_rate = 0.02, зависимости от времени работы особо не наблюдается**"
   ]
  },
  {
   "cell_type": "code",
   "execution_count": 559,
   "metadata": {},
   "outputs": [
    {
     "data": {
      "image/png": "[encoded data removed]",
      "text/plain": [
       "<Figure size 720x576 with 1 Axes>"
      ]
     },
     "metadata": {
      "needs_background": "light"
     },
     "output_type": "display_data"
    }
   ],
   "source": [
    "fig, ax = plt.subplots(figsize = (10, 8))\n",
    "\n",
    "ax.scatter(list_of_learning_rate, list_time, color = 'g')\n",
    "ax.set_ylabel('working time, sec', size = 16)\n",
    "ax.set_xlabel('темп обучения', size = 16)\n",
    "ax.grid()\n",
    "plt.xscale(\"log\")\n",
    "ax.set_title('Cat_Boost темп обучения')\n",
    "plt.show()"
   ]
  },
  {
   "cell_type": "markdown",
   "metadata": {},
   "source": [
    "### Оптимизируемый функционал для LGBM"
   ]
  },
  {
   "cell_type": "code",
   "execution_count": 77,
   "metadata": {},
   "outputs": [
    {
     "name": "stdout",
     "output_type": "stream",
     "text": [
      "i am working binary\n",
      "i am working cross_entropy\n"
     ]
    }
   ],
   "source": [
    "import time\n",
    "from lightgbm import LGBMClassifier\n",
    "list_time = []\n",
    "list_of_accur = []\n",
    "list_of_objective = ['binary', 'cross_entropy']\n",
    "for i in list_of_objective:\n",
    "    print('i am working', i)\n",
    "    start_time = time.time()\n",
    "    clf_param = LGBMClassifier(objective = i)\n",
    "    clf_param.fit(X_train_float, y_train)\n",
    "    t = time.time() - start_time\n",
    "    list_time += [t]\n",
    "    y_score_pr_param = clf_param.predict_proba(X_test_float)\n",
    "    precision, recall, third = precision_recall_curve(y_test, y_score_pr_param[:,1])\n",
    "    list_of_accur += [metrics.auc(recall, precision)]"
   ]
  },
  {
   "cell_type": "code",
   "execution_count": 82,
   "metadata": {},
   "outputs": [
    {
     "data": {
      "text/plain": [
       "[0.22647241026885723, 0.22647241026885723]"
      ]
     },
     "execution_count": 82,
     "metadata": {},
     "output_type": "execute_result"
    }
   ],
   "source": [
    "list_of_accur"
   ]
  },
  {
   "cell_type": "code",
   "execution_count": 80,
   "metadata": {},
   "outputs": [
    {
     "data": {
      "image/png": "[encoded data removed]",
      "text/plain": [
       "<Figure size 720x576 with 1 Axes>"
      ]
     },
     "metadata": {
      "needs_background": "light"
     },
     "output_type": "display_data"
    }
   ],
   "source": [
    "fig, ax = plt.subplots(figsize = (10, 8))\n",
    "\n",
    "ax.bar(list_of_objective, list_of_accur, color = 'r', width = 0.2)\n",
    "ax.set_ylabel('AUC-P-R', size = 16)\n",
    "ax.set_xlabel('objective', size = 16)\n",
    "ax.grid()\n",
    "#plt.xscale(\"log\")\n",
    "ax.set_title('LGBM оптимизируемый функционал')\n",
    "plt.show()"
   ]
  },
  {
   "cell_type": "markdown",
   "metadata": {},
   "source": [
    "**У LGBM получились 2 равных значения точности, но время работы cross-entropy немного ниже**"
   ]
  },
  {
   "cell_type": "code",
   "execution_count": 81,
   "metadata": {},
   "outputs": [
    {
     "data": {
      "image/png": "[encoded data removed]",
      "text/plain": [
       "<Figure size 720x576 with 1 Axes>"
      ]
     },
     "metadata": {
      "needs_background": "light"
     },
     "output_type": "display_data"
    }
   ],
   "source": [
    "fig, ax = plt.subplots(figsize = (10, 8))\n",
    "\n",
    "ax.bar(list_of_objective, list_time, color = 'g', width = 0.2)\n",
    "ax.set_ylabel('working time, sec', size = 16)\n",
    "ax.set_xlabel('objective', size = 16)\n",
    "ax.grid()\n",
    "ax.set_title('LGBM оптимизируемый функционал')\n",
    "plt.show()"
   ]
  },
  {
   "cell_type": "markdown",
   "metadata": {},
   "source": [
    "### Оптимизируемый функционал для Cat_Boost"
   ]
  },
  {
   "cell_type": "code",
   "execution_count": 70,
   "metadata": {},
   "outputs": [
    {
     "name": "stdout",
     "output_type": "stream",
     "text": [
      "i am working Logloss\n",
      "i am working CrossEntropy\n",
      "i am working MultiClass\n",
      "i am working MultiClassOneVsAll\n"
     ]
    }
   ],
   "source": [
    "import time\n",
    "from lightgbm import LGBMClassifier\n",
    "list_time = []\n",
    "list_of_accur = []\n",
    "#list_of_objective = ['regression', 'regression_l1', 'huber', 'fair', 'poisson', 'quantile', 'mape']\n",
    "list_of_objective = [ 'Logloss', 'CrossEntropy', 'MultiClass', 'MultiClassOneVsAll']\n",
    "for i in list_of_objective:\n",
    "    print('i am working', i)\n",
    "    start_time = time.time()\n",
    "    clf_param = CatBoostClassifier(objective = i, logging_level='Silent')\n",
    "    clf_param.fit(X_train_float, y_train)\n",
    "    t = time.time() - start_time\n",
    "    list_time += [t]\n",
    "    y_score_pr_param = clf_param.predict_proba(X_test_float)\n",
    "    precision, recall, third = precision_recall_curve(y_test, y_score_pr_param[:,1])\n",
    "    list_of_accur += [metrics.auc(recall, precision)]"
   ]
  },
  {
   "cell_type": "code",
   "execution_count": 71,
   "metadata": {},
   "outputs": [
    {
     "data": {
      "image/png": "[encoded data removed]",
      "text/plain": [
       "<Figure size 720x576 with 1 Axes>"
      ]
     },
     "metadata": {
      "needs_background": "light"
     },
     "output_type": "display_data"
    }
   ],
   "source": [
    "fig, ax = plt.subplots(figsize = (10, 8))\n",
    "\n",
    "ax.bar(list_of_objective, list_of_accur, color = 'r', width = 0.4)\n",
    "ax.set_ylabel('AUC-P-R', size = 16)\n",
    "ax.set_xlabel('objective', size = 16)\n",
    "ax.grid()\n",
    "#plt.xscale(\"log\")\n",
    "ax.set_title('Cat_Boost оптимизируемый функционал')\n",
    "plt.show()"
   ]
  },
  {
   "cell_type": "markdown",
   "metadata": {},
   "source": [
    "**Cat_Boost показал лучшую точность на Cross-Entropy и так же почти самое маленькое время работы, хотя у MultiClassOneVsAll при примерно той же точности время работы значительно выше**"
   ]
  },
  {
   "cell_type": "code",
   "execution_count": 72,
   "metadata": {},
   "outputs": [
    {
     "data": {
      "image/png": "[encoded data removed]",
      "text/plain": [
       "<Figure size 720x576 with 1 Axes>"
      ]
     },
     "metadata": {
      "needs_background": "light"
     },
     "output_type": "display_data"
    }
   ],
   "source": [
    "fig, ax = plt.subplots(figsize = (10, 8))\n",
    "\n",
    "ax.bar(list_of_objective, list_time, color = 'g', width = 0.4)\n",
    "ax.set_ylabel('time, sec', size = 16)\n",
    "ax.set_xlabel('objective', size = 16)\n",
    "ax.grid()\n",
    "#plt.xscale(\"log\")\n",
    "ax.set_title('Cat_Boost оптимизируемый функционал')\n",
    "plt.show()"
   ]
  },
  {
   "cell_type": "markdown",
   "metadata": {},
   "source": [
    "**Your answer here:**"
   ]
  },
  {
   "cell_type": "markdown",
   "metadata": {},
   "source": [
    "**Задание 7 (1.5 баллa)**\n",
    "\n",
    "Добавьте категориальные признаки к вещественным следующими способами:\n",
    "\n",
    "- как OHE признаки;\n",
    "- как счетчики со сглаживанием.\n",
    "\n",
    "Можно использовать библиотечные реализации; при подсчете счетчиков нельзя использовать циклы.\n",
    "\n",
    "Как меняется время, необходимое для обучения моделей в зависимости от способа кодирования? (Параметры можно не подбирать)."
   ]
  },
  {
   "cell_type": "code",
   "execution_count": 110,
   "metadata": {},
   "outputs": [],
   "source": [
    "#data"
   ]
  },
  {
   "cell_type": "code",
   "execution_count": 111,
   "metadata": {},
   "outputs": [
    {
     "data": {
      "text/plain": [
       "(215257, 66)"
      ]
     },
     "execution_count": 111,
     "metadata": {},
     "output_type": "execute_result"
    }
   ],
   "source": [
    "data_float.shape"
   ]
  },
  {
   "cell_type": "markdown",
   "metadata": {},
   "source": [
    "### OHE"
   ]
  },
  {
   "cell_type": "code",
   "execution_count": 86,
   "metadata": {},
   "outputs": [],
   "source": [
    "from sklearn.preprocessing import OneHotEncoder"
   ]
  },
  {
   "cell_type": "code",
   "execution_count": 88,
   "metadata": {},
   "outputs": [
    {
     "name": "stdout",
     "output_type": "stream",
     "text": [
      "cat columns 13\n"
     ]
    }
   ],
   "source": [
    "list_data_cat = data.columns\n",
    "s = 0\n",
    "data_cat = pd.DataFrame()\n",
    "for i in list_data_cat:\n",
    "    if data[i].dtype == 'O':\n",
    "        s += 1\n",
    "        data_cat[i] = data[i]\n",
    "print('cat columns', s)"
   ]
  },
  {
   "cell_type": "code",
   "execution_count": 112,
   "metadata": {},
   "outputs": [
    {
     "data": {
      "text/plain": [
       "(215257, 13)"
      ]
     },
     "execution_count": 112,
     "metadata": {},
     "output_type": "execute_result"
    }
   ],
   "source": [
    "data_cat.shape"
   ]
  },
  {
   "cell_type": "code",
   "execution_count": 99,
   "metadata": {},
   "outputs": [
    {
     "data": {
      "text/plain": [
       "126"
      ]
     },
     "execution_count": 99,
     "metadata": {},
     "output_type": "execute_result"
    }
   ],
   "source": [
    "list_unique = data_cat.columns\n",
    "un = 0\n",
    "for i in list_unique:\n",
    "    un += len(data_cat[i].unique())\n",
    "un"
   ]
  },
  {
   "cell_type": "code",
   "execution_count": 91,
   "metadata": {},
   "outputs": [],
   "source": [
    "enc = OneHotEncoder(handle_unknown='ignore')"
   ]
  },
  {
   "cell_type": "code",
   "execution_count": 92,
   "metadata": {},
   "outputs": [
    {
     "data": {
      "text/plain": [
       "OneHotEncoder(handle_unknown='ignore')"
      ]
     },
     "execution_count": 92,
     "metadata": {},
     "output_type": "execute_result"
    }
   ],
   "source": [
    "enc.fit(data_cat)"
   ]
  },
  {
   "cell_type": "code",
   "execution_count": 94,
   "metadata": {},
   "outputs": [
    {
     "data": {
      "text/plain": [
       "<215257x126 sparse matrix of type '<class 'numpy.float64'>'\n",
       "\twith 2798341 stored elements in Compressed Sparse Row format>"
      ]
     },
     "execution_count": 94,
     "metadata": {},
     "output_type": "execute_result"
    }
   ],
   "source": [
    "enc.transform(data_cat)"
   ]
  },
  {
   "cell_type": "code",
   "execution_count": 106,
   "metadata": {},
   "outputs": [
    {
     "data": {
      "text/plain": [
       "<215257x126 sparse matrix of type '<class 'numpy.float64'>'\n",
       "\twith 2798341 stored elements in Compressed Sparse Row format>"
      ]
     },
     "execution_count": 106,
     "metadata": {},
     "output_type": "execute_result"
    }
   ],
   "source": [
    "sprace_cat = enc.fit_transform(data_cat)\n",
    "sprace_cat"
   ]
  },
  {
   "cell_type": "code",
   "execution_count": 105,
   "metadata": {},
   "outputs": [
    {
     "data": {
      "text/plain": [
       "<215257x66 sparse matrix of type '<class 'numpy.float64'>'\n",
       "\twith 6660960 stored elements in Compressed Sparse Row format>"
      ]
     },
     "execution_count": 105,
     "metadata": {},
     "output_type": "execute_result"
    }
   ],
   "source": [
    "import scipy\n",
    "sprace_data_float = scipy.sparse.csr_matrix(data_float.values)\n",
    "sprace_data_float"
   ]
  },
  {
   "cell_type": "code",
   "execution_count": 107,
   "metadata": {},
   "outputs": [
    {
     "data": {
      "text/plain": [
       "(215257, 66)"
      ]
     },
     "execution_count": 107,
     "metadata": {},
     "output_type": "execute_result"
    }
   ],
   "source": [
    "data_float.shape"
   ]
  },
  {
   "cell_type": "code",
   "execution_count": 108,
   "metadata": {},
   "outputs": [
    {
     "data": {
      "text/plain": [
       "<215257x192 sparse matrix of type '<class 'numpy.float64'>'\n",
       "\twith 9459301 stored elements in Compressed Sparse Row format>"
      ]
     },
     "execution_count": 108,
     "metadata": {},
     "output_type": "execute_result"
    }
   ],
   "source": [
    "import scipy.sparse as sp\n",
    "\n",
    "sprace_OHE = sp.hstack((sprace_data_float, sprace_cat), format='csr')\n",
    "sprace_OHE"
   ]
  },
  {
   "cell_type": "code",
   "execution_count": 114,
   "metadata": {},
   "outputs": [],
   "source": [
    "from sklearn.model_selection import train_test_split\n",
    "X_train_OHE, X_test_OHE, y_train, y_test = train_test_split(sprace_OHE, y, train_size=0.7, random_state=0)"
   ]
  },
  {
   "cell_type": "code",
   "execution_count": 133,
   "metadata": {},
   "outputs": [
    {
     "data": {
      "text/plain": [
       "((150679, 192), (64578, 192))"
      ]
     },
     "execution_count": 133,
     "metadata": {},
     "output_type": "execute_result"
    }
   ],
   "source": [
    "X_train_OHE.shape, X_test_OHE.shape"
   ]
  },
  {
   "cell_type": "markdown",
   "metadata": {},
   "source": [
    "создали OHE матрицу"
   ]
  },
  {
   "cell_type": "markdown",
   "metadata": {},
   "source": [
    "### время для OHE"
   ]
  },
  {
   "cell_type": "code",
   "execution_count": 118,
   "metadata": {},
   "outputs": [
    {
     "name": "stdout",
     "output_type": "stream",
     "text": [
      "Cat_Boost OHE running time 50.2687726020813 seconds ---\n"
     ]
    }
   ],
   "source": [
    "from lightgbm import LGBMClassifier\n",
    "clf = CatBoostClassifier(logging_level='Silent')\n",
    "def time_fit_OHE_Cat_Boost():\n",
    "    start_time = time.time()\n",
    "    clf.fit(X_train_OHE, y_train)\n",
    "    return (time.time() - start_time)\n",
    "print(\"Cat_Boost OHE running time %s seconds ---\" % time_fit_OHE_Cat_Boost())"
   ]
  },
  {
   "cell_type": "code",
   "execution_count": 138,
   "metadata": {},
   "outputs": [
    {
     "name": "stdout",
     "output_type": "stream",
     "text": [
      "LGBM OHE running time 1.6812593936920166 seconds ---\n"
     ]
    }
   ],
   "source": [
    "from lightgbm import LGBMClassifier\n",
    "clf = LGBMClassifier()\n",
    "def time_fit_OHE_LGBM():\n",
    "    start_time = time.time()\n",
    "    clf.fit(X_train_OHE, y_train)\n",
    "    return (time.time() - start_time)\n",
    "print(\"LGBM OHE running time %s seconds ---\" % time_fit_OHE_LGBM())"
   ]
  },
  {
   "cell_type": "markdown",
   "metadata": {},
   "source": [
    "### Счетчики"
   ]
  },
  {
   "cell_type": "code",
   "execution_count": 122,
   "metadata": {},
   "outputs": [
    {
     "name": "stdout",
     "output_type": "stream",
     "text": [
      "Collecting category_encoders\n",
      "  Downloading category_encoders-2.2.2-py2.py3-none-any.whl (80 kB)\n",
      "Requirement already satisfied: pandas>=0.21.1 in c:\\users\\user\\anaconda3\\lib\\site-packages (from category_encoders) (1.0.5)\n",
      "Requirement already satisfied: patsy>=0.5.1 in c:\\users\\user\\anaconda3\\lib\\site-packages (from category_encoders) (0.5.1)\n",
      "Requirement already satisfied: scikit-learn>=0.20.0 in c:\\users\\user\\anaconda3\\lib\\site-packages (from category_encoders) (0.23.1)\n",
      "Requirement already satisfied: numpy>=1.14.0 in c:\\users\\user\\anaconda3\\lib\\site-packages (from category_encoders) (1.18.5)\n",
      "Requirement already satisfied: scipy>=1.0.0 in c:\\users\\user\\anaconda3\\lib\\site-packages (from category_encoders) (1.5.0)\n",
      "Requirement already satisfied: statsmodels>=0.9.0 in c:\\users\\user\\anaconda3\\lib\\site-packages (from category_encoders) (0.11.1)\n",
      "Requirement already satisfied: pytz>=2017.2 in c:\\users\\user\\anaconda3\\lib\\site-packages (from pandas>=0.21.1->category_encoders) (2020.1)\n",
      "Requirement already satisfied: python-dateutil>=2.6.1 in c:\\users\\user\\anaconda3\\lib\\site-packages (from pandas>=0.21.1->category_encoders) (2.8.1)\n",
      "Requirement already satisfied: six in c:\\users\\user\\anaconda3\\lib\\site-packages (from patsy>=0.5.1->category_encoders) (1.15.0)\n",
      "Requirement already satisfied: threadpoolctl>=2.0.0 in c:\\users\\user\\anaconda3\\lib\\site-packages (from scikit-learn>=0.20.0->category_encoders) (2.1.0)\n",
      "Requirement already satisfied: joblib>=0.11 in c:\\users\\user\\anaconda3\\lib\\site-packages (from scikit-learn>=0.20.0->category_encoders) (0.16.0)\n",
      "Installing collected packages: category-encoders\n",
      "Successfully installed category-encoders-2.2.2\n",
      "Note: you may need to restart the kernel to use updated packages.\n"
     ]
    }
   ],
   "source": [
    "pip install category_encoders\n"
   ]
  },
  {
   "cell_type": "code",
   "execution_count": 123,
   "metadata": {},
   "outputs": [],
   "source": [
    "from category_encoders.count import CountEncoder"
   ]
  },
  {
   "cell_type": "code",
   "execution_count": 126,
   "metadata": {},
   "outputs": [
    {
     "data": {
      "text/plain": [
       "(215257, 13)"
      ]
     },
     "execution_count": 126,
     "metadata": {},
     "output_type": "execute_result"
    }
   ],
   "source": [
    "data_cat.shape"
   ]
  },
  {
   "cell_type": "code",
   "execution_count": 128,
   "metadata": {},
   "outputs": [
    {
     "data": {
      "text/html": [
       "<div>\n",
       "<style scoped>\n",
       "    .dataframe tbody tr th:only-of-type {\n",
       "        vertical-align: middle;\n",
       "    }\n",
       "\n",
       "    .dataframe tbody tr th {\n",
       "        vertical-align: top;\n",
       "    }\n",
       "\n",
       "    .dataframe thead th {\n",
       "        text-align: right;\n",
       "    }\n",
       "</style>\n",
       "<table border=\"1\" class=\"dataframe\">\n",
       "  <thead>\n",
       "    <tr style=\"text-align: right;\">\n",
       "      <th></th>\n",
       "      <th>NAME_CONTRACT_TYPE</th>\n",
       "      <th>CODE_GENDER</th>\n",
       "      <th>FLAG_OWN_CAR</th>\n",
       "      <th>FLAG_OWN_REALTY</th>\n",
       "      <th>NAME_TYPE_SUITE</th>\n",
       "      <th>NAME_INCOME_TYPE</th>\n",
       "      <th>NAME_EDUCATION_TYPE</th>\n",
       "      <th>NAME_FAMILY_STATUS</th>\n",
       "      <th>NAME_HOUSING_TYPE</th>\n",
       "      <th>OCCUPATION_TYPE</th>\n",
       "      <th>WEEKDAY_APPR_PROCESS_START</th>\n",
       "      <th>ORGANIZATION_TYPE</th>\n",
       "      <th>EMERGENCYSTATE_MODE</th>\n",
       "    </tr>\n",
       "  </thead>\n",
       "  <tbody>\n",
       "    <tr>\n",
       "      <th>0</th>\n",
       "      <td>194663</td>\n",
       "      <td>141565</td>\n",
       "      <td>141832</td>\n",
       "      <td>65738</td>\n",
       "      <td>174704</td>\n",
       "      <td>50219</td>\n",
       "      <td>52664</td>\n",
       "      <td>137750</td>\n",
       "      <td>191042</td>\n",
       "      <td>69271</td>\n",
       "      <td>36443</td>\n",
       "      <td>1077</td>\n",
       "      <td>213630</td>\n",
       "    </tr>\n",
       "    <tr>\n",
       "      <th>1</th>\n",
       "      <td>194663</td>\n",
       "      <td>141565</td>\n",
       "      <td>73425</td>\n",
       "      <td>149519</td>\n",
       "      <td>174704</td>\n",
       "      <td>111082</td>\n",
       "      <td>152634</td>\n",
       "      <td>137750</td>\n",
       "      <td>191042</td>\n",
       "      <td>929</td>\n",
       "      <td>35452</td>\n",
       "      <td>47560</td>\n",
       "      <td>213630</td>\n",
       "    </tr>\n",
       "    <tr>\n",
       "      <th>2</th>\n",
       "      <td>194663</td>\n",
       "      <td>73689</td>\n",
       "      <td>73425</td>\n",
       "      <td>149519</td>\n",
       "      <td>174704</td>\n",
       "      <td>111082</td>\n",
       "      <td>152634</td>\n",
       "      <td>137750</td>\n",
       "      <td>7744</td>\n",
       "      <td>38710</td>\n",
       "      <td>35534</td>\n",
       "      <td>26852</td>\n",
       "      <td>213630</td>\n",
       "    </tr>\n",
       "    <tr>\n",
       "      <th>3</th>\n",
       "      <td>20594</td>\n",
       "      <td>141565</td>\n",
       "      <td>141832</td>\n",
       "      <td>149519</td>\n",
       "      <td>174704</td>\n",
       "      <td>50219</td>\n",
       "      <td>152634</td>\n",
       "      <td>13745</td>\n",
       "      <td>191042</td>\n",
       "      <td>4090</td>\n",
       "      <td>35452</td>\n",
       "      <td>1255</td>\n",
       "      <td>213630</td>\n",
       "    </tr>\n",
       "    <tr>\n",
       "      <th>4</th>\n",
       "      <td>194663</td>\n",
       "      <td>141565</td>\n",
       "      <td>141832</td>\n",
       "      <td>149519</td>\n",
       "      <td>174704</td>\n",
       "      <td>38709</td>\n",
       "      <td>152634</td>\n",
       "      <td>20780</td>\n",
       "      <td>191042</td>\n",
       "      <td>69271</td>\n",
       "      <td>35111</td>\n",
       "      <td>38716</td>\n",
       "      <td>213630</td>\n",
       "    </tr>\n",
       "    <tr>\n",
       "      <th>...</th>\n",
       "      <td>...</td>\n",
       "      <td>...</td>\n",
       "      <td>...</td>\n",
       "      <td>...</td>\n",
       "      <td>...</td>\n",
       "      <td>...</td>\n",
       "      <td>...</td>\n",
       "      <td>...</td>\n",
       "      <td>...</td>\n",
       "      <td>...</td>\n",
       "      <td>...</td>\n",
       "      <td>...</td>\n",
       "      <td>...</td>\n",
       "    </tr>\n",
       "    <tr>\n",
       "      <th>215252</th>\n",
       "      <td>194663</td>\n",
       "      <td>141565</td>\n",
       "      <td>141832</td>\n",
       "      <td>149519</td>\n",
       "      <td>174704</td>\n",
       "      <td>111082</td>\n",
       "      <td>152634</td>\n",
       "      <td>31782</td>\n",
       "      <td>191042</td>\n",
       "      <td>4090</td>\n",
       "      <td>35452</td>\n",
       "      <td>26852</td>\n",
       "      <td>213630</td>\n",
       "    </tr>\n",
       "    <tr>\n",
       "      <th>215253</th>\n",
       "      <td>194663</td>\n",
       "      <td>141565</td>\n",
       "      <td>141832</td>\n",
       "      <td>65738</td>\n",
       "      <td>7954</td>\n",
       "      <td>50219</td>\n",
       "      <td>152634</td>\n",
       "      <td>137750</td>\n",
       "      <td>191042</td>\n",
       "      <td>22344</td>\n",
       "      <td>37706</td>\n",
       "      <td>5459</td>\n",
       "      <td>213630</td>\n",
       "    </tr>\n",
       "    <tr>\n",
       "      <th>215254</th>\n",
       "      <td>194663</td>\n",
       "      <td>73689</td>\n",
       "      <td>73425</td>\n",
       "      <td>149519</td>\n",
       "      <td>174704</td>\n",
       "      <td>111082</td>\n",
       "      <td>52664</td>\n",
       "      <td>31782</td>\n",
       "      <td>191042</td>\n",
       "      <td>14976</td>\n",
       "      <td>35452</td>\n",
       "      <td>26852</td>\n",
       "      <td>213630</td>\n",
       "    </tr>\n",
       "    <tr>\n",
       "      <th>215255</th>\n",
       "      <td>20594</td>\n",
       "      <td>73689</td>\n",
       "      <td>73425</td>\n",
       "      <td>149519</td>\n",
       "      <td>174704</td>\n",
       "      <td>111082</td>\n",
       "      <td>152634</td>\n",
       "      <td>137750</td>\n",
       "      <td>191042</td>\n",
       "      <td>13030</td>\n",
       "      <td>35452</td>\n",
       "      <td>7449</td>\n",
       "      <td>213630</td>\n",
       "    </tr>\n",
       "    <tr>\n",
       "      <th>215256</th>\n",
       "      <td>194663</td>\n",
       "      <td>73689</td>\n",
       "      <td>73425</td>\n",
       "      <td>149519</td>\n",
       "      <td>28238</td>\n",
       "      <td>111082</td>\n",
       "      <td>52664</td>\n",
       "      <td>137750</td>\n",
       "      <td>191042</td>\n",
       "      <td>69271</td>\n",
       "      <td>23740</td>\n",
       "      <td>2261</td>\n",
       "      <td>213630</td>\n",
       "    </tr>\n",
       "  </tbody>\n",
       "</table>\n",
       "<p>215257 rows × 13 columns</p>\n",
       "</div>"
      ],
      "text/plain": [
       "        NAME_CONTRACT_TYPE  CODE_GENDER  FLAG_OWN_CAR  FLAG_OWN_REALTY  \\\n",
       "0                   194663       141565        141832            65738   \n",
       "1                   194663       141565         73425           149519   \n",
       "2                   194663        73689         73425           149519   \n",
       "3                    20594       141565        141832           149519   \n",
       "4                   194663       141565        141832           149519   \n",
       "...                    ...          ...           ...              ...   \n",
       "215252              194663       141565        141832           149519   \n",
       "215253              194663       141565        141832            65738   \n",
       "215254              194663        73689         73425           149519   \n",
       "215255               20594        73689         73425           149519   \n",
       "215256              194663        73689         73425           149519   \n",
       "\n",
       "        NAME_TYPE_SUITE  NAME_INCOME_TYPE  NAME_EDUCATION_TYPE  \\\n",
       "0                174704             50219                52664   \n",
       "1                174704            111082               152634   \n",
       "2                174704            111082               152634   \n",
       "3                174704             50219               152634   \n",
       "4                174704             38709               152634   \n",
       "...                 ...               ...                  ...   \n",
       "215252           174704            111082               152634   \n",
       "215253             7954             50219               152634   \n",
       "215254           174704            111082                52664   \n",
       "215255           174704            111082               152634   \n",
       "215256            28238            111082                52664   \n",
       "\n",
       "        NAME_FAMILY_STATUS  NAME_HOUSING_TYPE  OCCUPATION_TYPE  \\\n",
       "0                   137750             191042            69271   \n",
       "1                   137750             191042              929   \n",
       "2                   137750               7744            38710   \n",
       "3                    13745             191042             4090   \n",
       "4                    20780             191042            69271   \n",
       "...                    ...                ...              ...   \n",
       "215252               31782             191042             4090   \n",
       "215253              137750             191042            22344   \n",
       "215254               31782             191042            14976   \n",
       "215255              137750             191042            13030   \n",
       "215256              137750             191042            69271   \n",
       "\n",
       "        WEEKDAY_APPR_PROCESS_START  ORGANIZATION_TYPE  EMERGENCYSTATE_MODE  \n",
       "0                            36443               1077               213630  \n",
       "1                            35452              47560               213630  \n",
       "2                            35534              26852               213630  \n",
       "3                            35452               1255               213630  \n",
       "4                            35111              38716               213630  \n",
       "...                            ...                ...                  ...  \n",
       "215252                       35452              26852               213630  \n",
       "215253                       37706               5459               213630  \n",
       "215254                       35452              26852               213630  \n",
       "215255                       35452               7449               213630  \n",
       "215256                       23740               2261               213630  \n",
       "\n",
       "[215257 rows x 13 columns]"
      ]
     },
     "execution_count": 128,
     "metadata": {},
     "output_type": "execute_result"
    }
   ],
   "source": [
    "encc = CountEncoder()\n",
    "cat_count_enc = encc.fit_transform(data_cat)\n",
    "cat_count_enc"
   ]
  },
  {
   "cell_type": "code",
   "execution_count": 129,
   "metadata": {},
   "outputs": [
    {
     "data": {
      "text/plain": [
       "<215257x13 sparse matrix of type '<class 'numpy.int64'>'\n",
       "\twith 2798341 stored elements in Compressed Sparse Row format>"
      ]
     },
     "execution_count": 129,
     "metadata": {},
     "output_type": "execute_result"
    }
   ],
   "source": [
    "import scipy\n",
    "sprace_cat_count_enc = scipy.sparse.csr_matrix(cat_count_enc.values)\n",
    "sprace_cat_count_enc"
   ]
  },
  {
   "cell_type": "code",
   "execution_count": 130,
   "metadata": {},
   "outputs": [
    {
     "data": {
      "text/plain": [
       "<215257x79 sparse matrix of type '<class 'numpy.float64'>'\n",
       "\twith 9459301 stored elements in Compressed Sparse Row format>"
      ]
     },
     "execution_count": 130,
     "metadata": {},
     "output_type": "execute_result"
    }
   ],
   "source": [
    "import scipy.sparse as sp\n",
    "\n",
    "sprace_count = sp.hstack((sprace_data_float, sprace_cat_count_enc), format='csr')\n",
    "sprace_count"
   ]
  },
  {
   "cell_type": "code",
   "execution_count": 131,
   "metadata": {},
   "outputs": [],
   "source": [
    "from sklearn.model_selection import train_test_split\n",
    "X_train_count, X_test_count, y_train, y_test = train_test_split(sprace_count, y, train_size=0.7, random_state=0)"
   ]
  },
  {
   "cell_type": "code",
   "execution_count": 132,
   "metadata": {},
   "outputs": [
    {
     "data": {
      "text/plain": [
       "((150679, 79), (64578, 79))"
      ]
     },
     "execution_count": 132,
     "metadata": {},
     "output_type": "execute_result"
    }
   ],
   "source": [
    "X_train_count.shape, X_test_count.shape"
   ]
  },
  {
   "cell_type": "markdown",
   "metadata": {},
   "source": [
    "### Время для счетчиков"
   ]
  },
  {
   "cell_type": "code",
   "execution_count": 134,
   "metadata": {},
   "outputs": [
    {
     "name": "stdout",
     "output_type": "stream",
     "text": [
      "Cat_Boost Counters running time 47.24519324302673 seconds ---\n"
     ]
    }
   ],
   "source": [
    "from lightgbm import LGBMClassifier\n",
    "clf = CatBoostClassifier(logging_level='Silent')\n",
    "def time_fit_Counters_Cat_Boost():\n",
    "    start_time = time.time()\n",
    "    clf.fit(X_train_count, y_train)\n",
    "    return (time.time() - start_time)\n",
    "print(\"Cat_Boost Counters running time %s seconds ---\" % time_fit_Counters_Cat_Boost())"
   ]
  },
  {
   "cell_type": "code",
   "execution_count": 137,
   "metadata": {},
   "outputs": [
    {
     "name": "stdout",
     "output_type": "stream",
     "text": [
      "LGBM Counters running time 1.6666264533996582 seconds ---\n"
     ]
    }
   ],
   "source": [
    "from lightgbm import LGBMClassifier\n",
    "clf = LGBMClassifier()\n",
    "def time_fit_Counters_LGBM():\n",
    "    start_time = time.time()\n",
    "    clf.fit(X_train_OHE, y_train)\n",
    "    return (time.time() - start_time)\n",
    "print(\"LGBM Counters running time %s seconds ---\" % time_fit_Counters_LGBM())"
   ]
  },
  {
   "cell_type": "markdown",
   "metadata": {},
   "source": [
    "**Из экспериментов видно, что время обучения и для OHE и для счетчиков со сглаживанием в обоих случаях (LGBM и Cat Boost) время работы различается несущественно, хотя количество признаков различается в 2.5 раза (Для OHE это 192, для счетчиков 79)**"
   ]
  },
  {
   "cell_type": "markdown",
   "metadata": {},
   "source": [
    "**Задание 8 (1 балл)**\n",
    "\n",
    "Для CatBoost можно не делать ручную обработку категориальных признаков, а подавать как есть. Обучите модель CatBoost, не обрабатывая специально категориальные признаки, замерьте время обучения (параметры возьмите из предыдущего пункта). Сравните с временем обучения модели CatBoost из предыдущего пункта. Как изменилось время? Почему?"
   ]
  },
  {
   "cell_type": "code",
   "execution_count": 139,
   "metadata": {},
   "outputs": [
    {
     "data": {
      "text/html": [
       "<div>\n",
       "<style scoped>\n",
       "    .dataframe tbody tr th:only-of-type {\n",
       "        vertical-align: middle;\n",
       "    }\n",
       "\n",
       "    .dataframe tbody tr th {\n",
       "        vertical-align: top;\n",
       "    }\n",
       "\n",
       "    .dataframe thead th {\n",
       "        text-align: right;\n",
       "    }\n",
       "</style>\n",
       "<table border=\"1\" class=\"dataframe\">\n",
       "  <thead>\n",
       "    <tr style=\"text-align: right;\">\n",
       "      <th></th>\n",
       "      <th>NAME_CONTRACT_TYPE</th>\n",
       "      <th>CODE_GENDER</th>\n",
       "      <th>FLAG_OWN_CAR</th>\n",
       "      <th>FLAG_OWN_REALTY</th>\n",
       "      <th>CNT_CHILDREN</th>\n",
       "      <th>AMT_INCOME_TOTAL</th>\n",
       "      <th>AMT_CREDIT</th>\n",
       "      <th>AMT_ANNUITY</th>\n",
       "      <th>AMT_GOODS_PRICE</th>\n",
       "      <th>NAME_TYPE_SUITE</th>\n",
       "      <th>...</th>\n",
       "      <th>FLAG_DOCUMENT_18</th>\n",
       "      <th>FLAG_DOCUMENT_19</th>\n",
       "      <th>FLAG_DOCUMENT_20</th>\n",
       "      <th>FLAG_DOCUMENT_21</th>\n",
       "      <th>AMT_REQ_CREDIT_BUREAU_HOUR</th>\n",
       "      <th>AMT_REQ_CREDIT_BUREAU_DAY</th>\n",
       "      <th>AMT_REQ_CREDIT_BUREAU_WEEK</th>\n",
       "      <th>AMT_REQ_CREDIT_BUREAU_MON</th>\n",
       "      <th>AMT_REQ_CREDIT_BUREAU_QRT</th>\n",
       "      <th>AMT_REQ_CREDIT_BUREAU_YEAR</th>\n",
       "    </tr>\n",
       "  </thead>\n",
       "  <tbody>\n",
       "    <tr>\n",
       "      <th>0</th>\n",
       "      <td>Cash loans</td>\n",
       "      <td>F</td>\n",
       "      <td>N</td>\n",
       "      <td>N</td>\n",
       "      <td>0</td>\n",
       "      <td>157500.0</td>\n",
       "      <td>706410.0</td>\n",
       "      <td>67072.5</td>\n",
       "      <td>679500.0</td>\n",
       "      <td>Unaccompanied</td>\n",
       "      <td>...</td>\n",
       "      <td>0</td>\n",
       "      <td>0</td>\n",
       "      <td>0</td>\n",
       "      <td>0</td>\n",
       "      <td>0.000000</td>\n",
       "      <td>0.000000</td>\n",
       "      <td>0.00000</td>\n",
       "      <td>0.000000</td>\n",
       "      <td>0.00000</td>\n",
       "      <td>1.000000</td>\n",
       "    </tr>\n",
       "    <tr>\n",
       "      <th>1</th>\n",
       "      <td>Cash loans</td>\n",
       "      <td>F</td>\n",
       "      <td>Y</td>\n",
       "      <td>Y</td>\n",
       "      <td>1</td>\n",
       "      <td>121500.0</td>\n",
       "      <td>545040.0</td>\n",
       "      <td>25407.0</td>\n",
       "      <td>450000.0</td>\n",
       "      <td>Unaccompanied</td>\n",
       "      <td>...</td>\n",
       "      <td>0</td>\n",
       "      <td>0</td>\n",
       "      <td>0</td>\n",
       "      <td>0</td>\n",
       "      <td>0.000000</td>\n",
       "      <td>0.000000</td>\n",
       "      <td>0.00000</td>\n",
       "      <td>0.000000</td>\n",
       "      <td>0.00000</td>\n",
       "      <td>0.000000</td>\n",
       "    </tr>\n",
       "    <tr>\n",
       "      <th>2</th>\n",
       "      <td>Cash loans</td>\n",
       "      <td>M</td>\n",
       "      <td>Y</td>\n",
       "      <td>Y</td>\n",
       "      <td>1</td>\n",
       "      <td>225000.0</td>\n",
       "      <td>942300.0</td>\n",
       "      <td>27679.5</td>\n",
       "      <td>675000.0</td>\n",
       "      <td>Unaccompanied</td>\n",
       "      <td>...</td>\n",
       "      <td>0</td>\n",
       "      <td>0</td>\n",
       "      <td>0</td>\n",
       "      <td>0</td>\n",
       "      <td>0.000000</td>\n",
       "      <td>0.000000</td>\n",
       "      <td>0.00000</td>\n",
       "      <td>0.000000</td>\n",
       "      <td>0.00000</td>\n",
       "      <td>1.000000</td>\n",
       "    </tr>\n",
       "    <tr>\n",
       "      <th>3</th>\n",
       "      <td>Revolving loans</td>\n",
       "      <td>F</td>\n",
       "      <td>N</td>\n",
       "      <td>Y</td>\n",
       "      <td>2</td>\n",
       "      <td>144000.0</td>\n",
       "      <td>180000.0</td>\n",
       "      <td>9000.0</td>\n",
       "      <td>180000.0</td>\n",
       "      <td>Unaccompanied</td>\n",
       "      <td>...</td>\n",
       "      <td>0</td>\n",
       "      <td>0</td>\n",
       "      <td>0</td>\n",
       "      <td>0</td>\n",
       "      <td>0.000000</td>\n",
       "      <td>0.000000</td>\n",
       "      <td>0.00000</td>\n",
       "      <td>0.000000</td>\n",
       "      <td>1.00000</td>\n",
       "      <td>2.000000</td>\n",
       "    </tr>\n",
       "    <tr>\n",
       "      <th>4</th>\n",
       "      <td>Cash loans</td>\n",
       "      <td>F</td>\n",
       "      <td>N</td>\n",
       "      <td>Y</td>\n",
       "      <td>0</td>\n",
       "      <td>112500.0</td>\n",
       "      <td>729792.0</td>\n",
       "      <td>37390.5</td>\n",
       "      <td>630000.0</td>\n",
       "      <td>Unaccompanied</td>\n",
       "      <td>...</td>\n",
       "      <td>0</td>\n",
       "      <td>0</td>\n",
       "      <td>0</td>\n",
       "      <td>0</td>\n",
       "      <td>0.000000</td>\n",
       "      <td>0.000000</td>\n",
       "      <td>0.00000</td>\n",
       "      <td>0.000000</td>\n",
       "      <td>1.00000</td>\n",
       "      <td>0.000000</td>\n",
       "    </tr>\n",
       "    <tr>\n",
       "      <th>...</th>\n",
       "      <td>...</td>\n",
       "      <td>...</td>\n",
       "      <td>...</td>\n",
       "      <td>...</td>\n",
       "      <td>...</td>\n",
       "      <td>...</td>\n",
       "      <td>...</td>\n",
       "      <td>...</td>\n",
       "      <td>...</td>\n",
       "      <td>...</td>\n",
       "      <td>...</td>\n",
       "      <td>...</td>\n",
       "      <td>...</td>\n",
       "      <td>...</td>\n",
       "      <td>...</td>\n",
       "      <td>...</td>\n",
       "      <td>...</td>\n",
       "      <td>...</td>\n",
       "      <td>...</td>\n",
       "      <td>...</td>\n",
       "      <td>...</td>\n",
       "    </tr>\n",
       "    <tr>\n",
       "      <th>215252</th>\n",
       "      <td>Cash loans</td>\n",
       "      <td>F</td>\n",
       "      <td>N</td>\n",
       "      <td>Y</td>\n",
       "      <td>0</td>\n",
       "      <td>121500.0</td>\n",
       "      <td>675000.0</td>\n",
       "      <td>32602.5</td>\n",
       "      <td>675000.0</td>\n",
       "      <td>Unaccompanied</td>\n",
       "      <td>...</td>\n",
       "      <td>0</td>\n",
       "      <td>0</td>\n",
       "      <td>0</td>\n",
       "      <td>0</td>\n",
       "      <td>0.006416</td>\n",
       "      <td>0.006647</td>\n",
       "      <td>0.03426</td>\n",
       "      <td>0.267319</td>\n",
       "      <td>0.26603</td>\n",
       "      <td>1.899429</td>\n",
       "    </tr>\n",
       "    <tr>\n",
       "      <th>215253</th>\n",
       "      <td>Cash loans</td>\n",
       "      <td>F</td>\n",
       "      <td>N</td>\n",
       "      <td>N</td>\n",
       "      <td>2</td>\n",
       "      <td>225000.0</td>\n",
       "      <td>509922.0</td>\n",
       "      <td>40419.0</td>\n",
       "      <td>472500.0</td>\n",
       "      <td>Spouse, partner</td>\n",
       "      <td>...</td>\n",
       "      <td>0</td>\n",
       "      <td>0</td>\n",
       "      <td>0</td>\n",
       "      <td>0</td>\n",
       "      <td>0.000000</td>\n",
       "      <td>0.000000</td>\n",
       "      <td>0.00000</td>\n",
       "      <td>0.000000</td>\n",
       "      <td>1.00000</td>\n",
       "      <td>4.000000</td>\n",
       "    </tr>\n",
       "    <tr>\n",
       "      <th>215254</th>\n",
       "      <td>Cash loans</td>\n",
       "      <td>M</td>\n",
       "      <td>Y</td>\n",
       "      <td>Y</td>\n",
       "      <td>0</td>\n",
       "      <td>450000.0</td>\n",
       "      <td>1125000.0</td>\n",
       "      <td>33025.5</td>\n",
       "      <td>1125000.0</td>\n",
       "      <td>Unaccompanied</td>\n",
       "      <td>...</td>\n",
       "      <td>0</td>\n",
       "      <td>0</td>\n",
       "      <td>0</td>\n",
       "      <td>0</td>\n",
       "      <td>0.000000</td>\n",
       "      <td>0.000000</td>\n",
       "      <td>0.00000</td>\n",
       "      <td>2.000000</td>\n",
       "      <td>0.00000</td>\n",
       "      <td>3.000000</td>\n",
       "    </tr>\n",
       "    <tr>\n",
       "      <th>215255</th>\n",
       "      <td>Revolving loans</td>\n",
       "      <td>M</td>\n",
       "      <td>Y</td>\n",
       "      <td>Y</td>\n",
       "      <td>1</td>\n",
       "      <td>180000.0</td>\n",
       "      <td>270000.0</td>\n",
       "      <td>13500.0</td>\n",
       "      <td>270000.0</td>\n",
       "      <td>Unaccompanied</td>\n",
       "      <td>...</td>\n",
       "      <td>0</td>\n",
       "      <td>0</td>\n",
       "      <td>0</td>\n",
       "      <td>0</td>\n",
       "      <td>0.000000</td>\n",
       "      <td>0.000000</td>\n",
       "      <td>0.00000</td>\n",
       "      <td>0.000000</td>\n",
       "      <td>0.00000</td>\n",
       "      <td>1.000000</td>\n",
       "    </tr>\n",
       "    <tr>\n",
       "      <th>215256</th>\n",
       "      <td>Cash loans</td>\n",
       "      <td>M</td>\n",
       "      <td>Y</td>\n",
       "      <td>Y</td>\n",
       "      <td>0</td>\n",
       "      <td>157500.0</td>\n",
       "      <td>729792.0</td>\n",
       "      <td>35239.5</td>\n",
       "      <td>630000.0</td>\n",
       "      <td>Family</td>\n",
       "      <td>...</td>\n",
       "      <td>0</td>\n",
       "      <td>0</td>\n",
       "      <td>0</td>\n",
       "      <td>0</td>\n",
       "      <td>0.000000</td>\n",
       "      <td>0.000000</td>\n",
       "      <td>0.00000</td>\n",
       "      <td>1.000000</td>\n",
       "      <td>0.00000</td>\n",
       "      <td>0.000000</td>\n",
       "    </tr>\n",
       "  </tbody>\n",
       "</table>\n",
       "<p>215257 rows × 79 columns</p>\n",
       "</div>"
      ],
      "text/plain": [
       "       NAME_CONTRACT_TYPE CODE_GENDER FLAG_OWN_CAR FLAG_OWN_REALTY  \\\n",
       "0              Cash loans           F            N               N   \n",
       "1              Cash loans           F            Y               Y   \n",
       "2              Cash loans           M            Y               Y   \n",
       "3         Revolving loans           F            N               Y   \n",
       "4              Cash loans           F            N               Y   \n",
       "...                   ...         ...          ...             ...   \n",
       "215252         Cash loans           F            N               Y   \n",
       "215253         Cash loans           F            N               N   \n",
       "215254         Cash loans           M            Y               Y   \n",
       "215255    Revolving loans           M            Y               Y   \n",
       "215256         Cash loans           M            Y               Y   \n",
       "\n",
       "        CNT_CHILDREN  AMT_INCOME_TOTAL  AMT_CREDIT  AMT_ANNUITY  \\\n",
       "0                  0          157500.0    706410.0      67072.5   \n",
       "1                  1          121500.0    545040.0      25407.0   \n",
       "2                  1          225000.0    942300.0      27679.5   \n",
       "3                  2          144000.0    180000.0       9000.0   \n",
       "4                  0          112500.0    729792.0      37390.5   \n",
       "...              ...               ...         ...          ...   \n",
       "215252             0          121500.0    675000.0      32602.5   \n",
       "215253             2          225000.0    509922.0      40419.0   \n",
       "215254             0          450000.0   1125000.0      33025.5   \n",
       "215255             1          180000.0    270000.0      13500.0   \n",
       "215256             0          157500.0    729792.0      35239.5   \n",
       "\n",
       "        AMT_GOODS_PRICE  NAME_TYPE_SUITE  ... FLAG_DOCUMENT_18  \\\n",
       "0              679500.0    Unaccompanied  ...                0   \n",
       "1              450000.0    Unaccompanied  ...                0   \n",
       "2              675000.0    Unaccompanied  ...                0   \n",
       "3              180000.0    Unaccompanied  ...                0   \n",
       "4              630000.0    Unaccompanied  ...                0   \n",
       "...                 ...              ...  ...              ...   \n",
       "215252         675000.0    Unaccompanied  ...                0   \n",
       "215253         472500.0  Spouse, partner  ...                0   \n",
       "215254        1125000.0    Unaccompanied  ...                0   \n",
       "215255         270000.0    Unaccompanied  ...                0   \n",
       "215256         630000.0           Family  ...                0   \n",
       "\n",
       "       FLAG_DOCUMENT_19 FLAG_DOCUMENT_20 FLAG_DOCUMENT_21  \\\n",
       "0                     0                0                0   \n",
       "1                     0                0                0   \n",
       "2                     0                0                0   \n",
       "3                     0                0                0   \n",
       "4                     0                0                0   \n",
       "...                 ...              ...              ...   \n",
       "215252                0                0                0   \n",
       "215253                0                0                0   \n",
       "215254                0                0                0   \n",
       "215255                0                0                0   \n",
       "215256                0                0                0   \n",
       "\n",
       "        AMT_REQ_CREDIT_BUREAU_HOUR  AMT_REQ_CREDIT_BUREAU_DAY  \\\n",
       "0                         0.000000                   0.000000   \n",
       "1                         0.000000                   0.000000   \n",
       "2                         0.000000                   0.000000   \n",
       "3                         0.000000                   0.000000   \n",
       "4                         0.000000                   0.000000   \n",
       "...                            ...                        ...   \n",
       "215252                    0.006416                   0.006647   \n",
       "215253                    0.000000                   0.000000   \n",
       "215254                    0.000000                   0.000000   \n",
       "215255                    0.000000                   0.000000   \n",
       "215256                    0.000000                   0.000000   \n",
       "\n",
       "        AMT_REQ_CREDIT_BUREAU_WEEK  AMT_REQ_CREDIT_BUREAU_MON  \\\n",
       "0                          0.00000                   0.000000   \n",
       "1                          0.00000                   0.000000   \n",
       "2                          0.00000                   0.000000   \n",
       "3                          0.00000                   0.000000   \n",
       "4                          0.00000                   0.000000   \n",
       "...                            ...                        ...   \n",
       "215252                     0.03426                   0.267319   \n",
       "215253                     0.00000                   0.000000   \n",
       "215254                     0.00000                   2.000000   \n",
       "215255                     0.00000                   0.000000   \n",
       "215256                     0.00000                   1.000000   \n",
       "\n",
       "        AMT_REQ_CREDIT_BUREAU_QRT  AMT_REQ_CREDIT_BUREAU_YEAR  \n",
       "0                         0.00000                    1.000000  \n",
       "1                         0.00000                    0.000000  \n",
       "2                         0.00000                    1.000000  \n",
       "3                         1.00000                    2.000000  \n",
       "4                         1.00000                    0.000000  \n",
       "...                           ...                         ...  \n",
       "215252                    0.26603                    1.899429  \n",
       "215253                    1.00000                    4.000000  \n",
       "215254                    0.00000                    3.000000  \n",
       "215255                    0.00000                    1.000000  \n",
       "215256                    0.00000                    0.000000  \n",
       "\n",
       "[215257 rows x 79 columns]"
      ]
     },
     "execution_count": 139,
     "metadata": {},
     "output_type": "execute_result"
    }
   ],
   "source": [
    "data"
   ]
  },
  {
   "cell_type": "code",
   "execution_count": 140,
   "metadata": {},
   "outputs": [],
   "source": [
    "from sklearn.model_selection import train_test_split\n",
    "X_train, X_test, y_train, y_test = train_test_split(data, y, train_size=0.7, random_state=0)"
   ]
  },
  {
   "cell_type": "code",
   "execution_count": 145,
   "metadata": {},
   "outputs": [
    {
     "data": {
      "text/plain": [
       "((150679, 79), (64578, 79))"
      ]
     },
     "execution_count": 145,
     "metadata": {},
     "output_type": "execute_result"
    }
   ],
   "source": [
    "X_train.shape, X_test.shape"
   ]
  },
  {
   "cell_type": "code",
   "execution_count": 150,
   "metadata": {},
   "outputs": [
    {
     "name": "stdout",
     "output_type": "stream",
     "text": [
      "cat columns [0, 1, 2, 3, 9, 10, 11, 12, 13, 25, 29, 37, 47]\n"
     ]
    }
   ],
   "source": [
    "list_data_last = data.columns\n",
    "s = 0\n",
    "ll = []\n",
    "for i in list_data_last:\n",
    "    if data[i].dtype == 'O':\n",
    "        ll += [s]\n",
    "    s += 1\n",
    "print('cat columns', ll)"
   ]
  },
  {
   "cell_type": "code",
   "execution_count": 151,
   "metadata": {},
   "outputs": [
    {
     "name": "stdout",
     "output_type": "stream",
     "text": [
      "Cat_Boost no transform running time 171.65143585205078 seconds ---\n"
     ]
    }
   ],
   "source": [
    "from lightgbm import LGBMClassifier\n",
    "clf = CatBoostClassifier(logging_level='Silent')\n",
    "def time_fit_no_trans_Cat_Boost():\n",
    "    start_time = time.time()\n",
    "    clf.fit(X_train, y_train, cat_features = ll)\n",
    "    return (time.time() - start_time)\n",
    "print(\"Cat_Boost no transform running time %s seconds ---\" % time_fit_no_trans_Cat_Boost())"
   ]
  },
  {
   "cell_type": "markdown",
   "metadata": {},
   "source": [
    "**время работы в этом случае в три раза больше**\n",
    "\n",
    "Можно сделать вывод о том, что на время работы в большей степени влияет количество катериголиальных признаков. (чем их больше, тем время обучения больше), а не количество вещественных признаков."
   ]
  },
  {
   "cell_type": "markdown",
   "metadata": {},
   "source": [
    "**Бонус. (1 балл)**\n",
    "\n",
    "Подберите оптимальные параметры для LightGBM с вещественными и категориальными признаками (предварительно обработанные каким-нибудь способом). Подберите оптимальные параметры для CatBoost с вещественными и необработанными категориальными признаками. Сравните качество моделей на наилучших параметрах. Какой метод получился лучше с точки зрения качества? Совпадает ли результат с вашими ожиданиями?"
   ]
  },
  {
   "cell_type": "markdown",
   "metadata": {},
   "source": [
    "### LightGBM"
   ]
  },
  {
   "cell_type": "code",
   "execution_count": 157,
   "metadata": {},
   "outputs": [
    {
     "name": "stdout",
     "output_type": "stream",
     "text": [
      "i am working 1\n",
      "i am working 2\n",
      "i am working 3\n",
      "i am working 4\n",
      "i am working 5\n",
      "i am working 6\n",
      "i am working 7\n",
      "i am working 8\n",
      "i am working 9\n",
      "i am working 10\n"
     ]
    }
   ],
   "source": [
    "from lightgbm import LGBMClassifier\n",
    "list_time = []\n",
    "list_of_accur = []\n",
    "list_of_max_depth = [1, 2, 3, 4, 5, 6, 7, 8, 9, 10]\n",
    "for i in list_of_max_depth:\n",
    "    print('i am working', i)\n",
    "    start_time = time.time()\n",
    "    clf_param = LGBMClassifier(max_depth = i, num_leaves= 1024)\n",
    "    clf_param.fit(X_train_count, y_train)\n",
    "    t = time.time() - start_time\n",
    "    list_time += [t]\n",
    "    y_score_pr_param = clf_param.predict_proba(X_test_count)\n",
    "    precision, recall, third = precision_recall_curve(y_test, y_score_pr_param[:,1])\n",
    "    list_of_accur += [metrics.auc(recall, precision)]\n"
   ]
  },
  {
   "cell_type": "code",
   "execution_count": 158,
   "metadata": {},
   "outputs": [
    {
     "data": {
      "image/png": "[encoded data removed]",
      "text/plain": [
       "<Figure size 720x576 with 1 Axes>"
      ]
     },
     "metadata": {
      "needs_background": "light"
     },
     "output_type": "display_data"
    }
   ],
   "source": [
    "fig, ax = plt.subplots(figsize = (10, 8))\n",
    "\n",
    "ax.scatter(list_of_max_depth, list_of_accur, color = 'r')\n",
    "ax.set_ylabel('AUC-P-R', size = 16)\n",
    "ax.set_xlabel('max_depth', size = 16)\n",
    "ax.grid()\n",
    "ax.set_title('LGBM')\n",
    "plt.show()"
   ]
  },
  {
   "cell_type": "code",
   "execution_count": 159,
   "metadata": {},
   "outputs": [
    {
     "name": "stdout",
     "output_type": "stream",
     "text": [
      "i am working 1\n",
      "i am working 5\n",
      "i am working 10\n",
      "i am working 20\n",
      "i am working 50\n",
      "i am working 100\n",
      "i am working 200\n",
      "i am working 400\n",
      "i am working 600\n",
      "i am working 1000\n",
      "i am working 1300\n",
      "i am working 1700\n",
      "i am working 2200\n",
      "i am working 2500\n",
      "i am working 3000\n"
     ]
    }
   ],
   "source": [
    "from lightgbm import LGBMClassifier\n",
    "list_time = []\n",
    "list_of_accur = []\n",
    "list_of_trees = [1, 5, 10, 20, 50, 100, 200, 400, 600, 1000, 1300, 1700, 2200, 2500, 3000]\n",
    "for i in list_of_trees:\n",
    "    print('i am working', i)\n",
    "    start_time = time.time()\n",
    "    clf_param = LGBMClassifier(n_estimators  = i)\n",
    "    clf_param.fit(X_train_count, y_train)\n",
    "    t = time.time() - start_time\n",
    "    list_time += [t]\n",
    "    y_score_pr_param = clf_param.predict_proba(X_test_count)\n",
    "    precision, recall, third = precision_recall_curve(y_test, y_score_pr_param[:,1])\n",
    "    list_of_accur += [metrics.auc(recall, precision)]"
   ]
  },
  {
   "cell_type": "code",
   "execution_count": 162,
   "metadata": {},
   "outputs": [
    {
     "data": {
      "text/plain": [
       "[1, 5, 10, 20, 50, 100, 200, 400, 600, 1000, 1300, 1700, 2200, 2500, 3000]"
      ]
     },
     "execution_count": 162,
     "metadata": {},
     "output_type": "execute_result"
    }
   ],
   "source": [
    "list_of_trees"
   ]
  },
  {
   "cell_type": "code",
   "execution_count": 160,
   "metadata": {},
   "outputs": [
    {
     "data": {
      "image/png": "[encoded data removed]",
      "text/plain": [
       "<Figure size 720x576 with 1 Axes>"
      ]
     },
     "metadata": {
      "needs_background": "light"
     },
     "output_type": "display_data"
    }
   ],
   "source": [
    "fig, ax = plt.subplots(figsize = (10, 8))\n",
    "\n",
    "ax.scatter(list_of_trees, list_of_accur, color = 'r')\n",
    "ax.set_ylabel('AUC-P-R', size = 16)\n",
    "ax.set_xlabel('n_estimators', size = 16)\n",
    "ax.grid()\n",
    "plt.xscale(\"log\")\n",
    "ax.set_title('LGBM количество деревьев')\n",
    "plt.show()"
   ]
  },
  {
   "cell_type": "code",
   "execution_count": 167,
   "metadata": {},
   "outputs": [
    {
     "name": "stdout",
     "output_type": "stream",
     "text": [
      "i am working 0.01\n",
      "i am working 0.02\n",
      "i am working 0.03\n",
      "i am working 0.05\n",
      "i am working 0.08\n",
      "i am working 0.1\n",
      "i am working 0.15\n",
      "i am working 0.2\n",
      "i am working 0.3\n",
      "i am working 0.5\n",
      "i am working 0.7\n",
      "i am working 0.99\n"
     ]
    }
   ],
   "source": [
    "from lightgbm import LGBMClassifier\n",
    "list_time = []\n",
    "list_of_accur = []\n",
    "list_of_learning_rate  = [0.01, 0.02, 0.03, 0.05, 0.08, 0.1, 0.15, 0.2, 0.3, 0.5, 0.7, 0.99]\n",
    "for i in list_of_learning_rate:\n",
    "    print('i am working', i)\n",
    "    start_time = time.time()\n",
    "    clf_param = LGBMClassifier(learning_rate = i)\n",
    "    clf_param.fit(X_train_count, y_train)\n",
    "    t = time.time() - start_time\n",
    "    list_time += [t]\n",
    "    y_score_pr_param = clf_param.predict_proba(X_test_count)\n",
    "    precision, recall, third = precision_recall_curve(y_test, y_score_pr_param[:,1])\n",
    "    list_of_accur += [metrics.auc(recall, precision)]"
   ]
  },
  {
   "cell_type": "code",
   "execution_count": 168,
   "metadata": {},
   "outputs": [
    {
     "data": {
      "image/png": "[encoded data removed]",
      "text/plain": [
       "<Figure size 720x576 with 1 Axes>"
      ]
     },
     "metadata": {
      "needs_background": "light"
     },
     "output_type": "display_data"
    }
   ],
   "source": [
    "fig, ax = plt.subplots(figsize = (10, 8))\n",
    "\n",
    "ax.scatter(list_of_learning_rate, list_of_accur, color = 'r')\n",
    "ax.set_ylabel('AUC-P-R', size = 16)\n",
    "ax.set_xlabel('темп обучения', size = 16)\n",
    "ax.grid()\n",
    "plt.xscale(\"log\")\n",
    "ax.set_title('LGBM темп обучения')\n",
    "plt.show()"
   ]
  },
  {
   "cell_type": "markdown",
   "metadata": {},
   "source": [
    "### Теперь найдем параметры для Cat_Boost"
   ]
  },
  {
   "cell_type": "code",
   "execution_count": 165,
   "metadata": {},
   "outputs": [
    {
     "name": "stdout",
     "output_type": "stream",
     "text": [
      "i am working 1\n",
      "i am working 2\n",
      "i am working 3\n",
      "i am working 4\n",
      "i am working 5\n",
      "i am working 6\n"
     ]
    }
   ],
   "source": [
    "from catboost import CatBoostClassifier \n",
    "list_time = []\n",
    "list_of_accur = []\n",
    "list_of_max_depth = [1, 2, 3, 4, 5, 6]\n",
    "for i in list_of_max_depth:\n",
    "    print('i am working', i)\n",
    "    start_time = time.time()\n",
    "    clf_param = CatBoostClassifier(max_depth = i, logging_level='Silent')\n",
    "    clf_param.fit(X_train, y_train, cat_features = ll )\n",
    "    t = time.time() - start_time\n",
    "    list_time += [t]\n",
    "    y_score_pr_param = clf_param.predict_proba(X_test)\n",
    "    precision, recall, third = precision_recall_curve(y_test, y_score_pr_param[:,1])\n",
    "    list_of_accur += [metrics.auc(recall, precision)]"
   ]
  },
  {
   "cell_type": "code",
   "execution_count": 166,
   "metadata": {},
   "outputs": [
    {
     "data": {
      "image/png": "[encoded data removed]",
      "text/plain": [
       "<Figure size 720x576 with 1 Axes>"
      ]
     },
     "metadata": {
      "needs_background": "light"
     },
     "output_type": "display_data"
    }
   ],
   "source": [
    "fig, ax = plt.subplots(figsize = (10, 8))\n",
    "\n",
    "ax.scatter(list_of_max_depth, list_of_accur, color = 'r')\n",
    "ax.set_ylabel('AUC-P-R', size = 16)\n",
    "ax.set_xlabel('max_depth', size = 16)\n",
    "ax.grid()\n",
    "ax.set_title('Cat_Boost')\n",
    "plt.show()"
   ]
  },
  {
   "cell_type": "code",
   "execution_count": 169,
   "metadata": {},
   "outputs": [
    {
     "name": "stdout",
     "output_type": "stream",
     "text": [
      "i am working 5\n",
      "i am working 10\n",
      "i am working 20\n",
      "i am working 50\n",
      "i am working 100\n",
      "i am working 200\n",
      "i am working 400\n",
      "i am working 600\n",
      "i am working 1000\n"
     ]
    }
   ],
   "source": [
    "from lightgbm import LGBMClassifier\n",
    "list_time = []\n",
    "list_of_accur = []\n",
    "list_of_trees = [5, 10, 20, 50, 100, 200, 400, 600, 1000]\n",
    "for i in list_of_trees:\n",
    "    print('i am working', i)\n",
    "    start_time = time.time()\n",
    "    clf_param = CatBoostClassifier(n_estimators  = i, logging_level='Silent')\n",
    "    clf_param.fit(X_train, y_train, cat_features = ll)\n",
    "    t = time.time() - start_time\n",
    "    list_time += [t]\n",
    "    y_score_pr_param = clf_param.predict_proba(X_test)\n",
    "    precision, recall, third = precision_recall_curve(y_test, y_score_pr_param[:,1])\n",
    "    list_of_accur += [metrics.auc(recall, precision)]"
   ]
  },
  {
   "cell_type": "code",
   "execution_count": 170,
   "metadata": {},
   "outputs": [
    {
     "data": {
      "image/png": "[encoded data removed]",
      "text/plain": [
       "<Figure size 720x576 with 1 Axes>"
      ]
     },
     "metadata": {
      "needs_background": "light"
     },
     "output_type": "display_data"
    }
   ],
   "source": [
    "fig, ax = plt.subplots(figsize = (10, 8))\n",
    "\n",
    "ax.scatter(list_of_trees, list_of_accur, color = 'r')\n",
    "ax.set_ylabel('AUC-P-R', size = 16)\n",
    "ax.set_xlabel('n_estimators', size = 16)\n",
    "ax.grid()\n",
    "plt.xscale(\"log\")\n",
    "ax.set_title('Cat_Boost количество деревьев')\n",
    "plt.show()"
   ]
  },
  {
   "cell_type": "code",
   "execution_count": 172,
   "metadata": {},
   "outputs": [
    {
     "name": "stdout",
     "output_type": "stream",
     "text": [
      "i am working 0.02\n",
      "i am working 0.05\n",
      "i am working 0.08\n",
      "i am working 0.1\n",
      "i am working 0.15\n",
      "i am working 0.2\n"
     ]
    }
   ],
   "source": [
    "from lightgbm import LGBMClassifier\n",
    "list_time = []\n",
    "list_of_accur = []\n",
    "list_of_learning_rate  = [0.02, 0.05, 0.08, 0.1, 0.15, 0.2]\n",
    "for i in list_of_learning_rate:\n",
    "    print('i am working', i)\n",
    "    start_time = time.time()\n",
    "    clf_param = CatBoostClassifier(learning_rate = i, logging_level='Silent')\n",
    "    clf_param.fit(X_train, y_train,  cat_features = ll)\n",
    "    t = time.time() - start_time\n",
    "    list_time += [t]\n",
    "    y_score_pr_param = clf_param.predict_proba(X_test)\n",
    "    precision, recall, third = precision_recall_curve(y_test, y_score_pr_param[:,1])\n",
    "    list_of_accur += [metrics.auc(recall, precision)]"
   ]
  },
  {
   "cell_type": "code",
   "execution_count": 174,
   "metadata": {},
   "outputs": [
    {
     "data": {
      "image/png": "[encoded data removed]",
      "text/plain": [
       "<Figure size 720x576 with 1 Axes>"
      ]
     },
     "metadata": {
      "needs_background": "light"
     },
     "output_type": "display_data"
    }
   ],
   "source": [
    "fig, ax = plt.subplots(figsize = (10, 8))\n",
    "\n",
    "ax.scatter(list_of_learning_rate, list_of_accur, color = 'r')\n",
    "ax.set_ylabel('AUC-P-R', size = 16)\n",
    "ax.set_xlabel('темп обучения', size = 16)\n",
    "ax.grid()\n",
    "plt.xscale(\"log\")\n",
    "ax.set_title('Cat_Boost темп обучения')\n",
    "plt.show()"
   ]
  },
  {
   "cell_type": "markdown",
   "metadata": {},
   "source": [
    "посмотим на качество при лучших параметрах в обоих случаях"
   ]
  },
  {
   "cell_type": "code",
   "execution_count": 176,
   "metadata": {},
   "outputs": [
    {
     "name": "stdout",
     "output_type": "stream",
     "text": [
      "0.24275214215038782\n",
      "Cat_Boost finally running time 121.99077558517456 seconds ---\n"
     ]
    }
   ],
   "source": [
    "from lightgbm import LGBMClassifier\n",
    "def time_fit_Cat_Boost_fin():\n",
    "    start_time = time.time()\n",
    "    clf_param = CatBoostClassifier(max_depth = 3, learning_rate = 0.05, n_estimators  = 1000, logging_level='Silent')\n",
    "    clf_param.fit(X_train, y_train,  cat_features = ll)\n",
    "    y_score_pr_param = clf_param.predict_proba(X_test)\n",
    "    precision, recall, third = precision_recall_curve(y_test, y_score_pr_param[:,1])\n",
    "    print(metrics.auc(recall, precision))\n",
    "    return (time.time() - start_time)\n",
    "print(\"Cat_Boost finally running time %s seconds ---\" % time_fit_Cat_Boost_fin())"
   ]
  },
  {
   "cell_type": "markdown",
   "metadata": {},
   "source": [
    "**точость при наилучших значениях каждого параметра - 0.2427**"
   ]
  },
  {
   "cell_type": "code",
   "execution_count": 189,
   "metadata": {},
   "outputs": [
    {
     "name": "stdout",
     "output_type": "stream",
     "text": [
      "0.23922291244406646\n",
      "LGBM finally running time 3.852090835571289 seconds ---\n"
     ]
    }
   ],
   "source": [
    "from lightgbm import LGBMClassifier\n",
    "def time_fit_LGBM_fin():\n",
    "    start_time = time.time()\n",
    "    clf_param = LGBMClassifier(max_depth = 4, n_estimators  = 500, learning_rate = 0.08)\n",
    "    #clf_param = LGBMClassifier(n_estimators  = 100)\n",
    "    clf_param.fit(X_train_count, y_train)\n",
    "    y_score_pr_param = clf_param.predict_proba(X_test_count)\n",
    "    precision, recall, third = precision_recall_curve(y_test, y_score_pr_param[:,1])\n",
    "    print(metrics.auc(recall, precision))\n",
    "    return (time.time() - start_time)\n",
    "print(\"LGBM finally running time %s seconds ---\" % time_fit_LGBM_fin())"
   ]
  },
  {
   "cell_type": "markdown",
   "metadata": {},
   "source": [
    " n_estimators  = 500 с остальными параметрами"
   ]
  },
  {
   "cell_type": "code",
   "execution_count": 190,
   "metadata": {},
   "outputs": [
    {
     "name": "stdout",
     "output_type": "stream",
     "text": [
      "0.2354869686893707\n",
      "LGBM finally running time 2.19692063331604 seconds ---\n"
     ]
    }
   ],
   "source": [
    "from lightgbm import LGBMClassifier\n",
    "def time_fit_LGBM_fin():\n",
    "    start_time = time.time()\n",
    "    #clf_param = LGBMClassifier(max_depth = 4, n_estimators  = 500, learning_rate = 0.08)\n",
    "    clf_param = LGBMClassifier(n_estimators  = 100)\n",
    "    clf_param.fit(X_train_count, y_train)\n",
    "    y_score_pr_param = clf_param.predict_proba(X_test_count)\n",
    "    precision, recall, third = precision_recall_curve(y_test, y_score_pr_param[:,1])\n",
    "    print(metrics.auc(recall, precision))\n",
    "    return (time.time() - start_time)\n",
    "print(\"LGBM finally running time %s seconds ---\" % time_fit_LGBM_fin())"
   ]
  },
  {
   "cell_type": "markdown",
   "metadata": {},
   "source": [
    "n_estimators = 100 отдельно"
   ]
  },
  {
   "cell_type": "code",
   "execution_count": 192,
   "metadata": {},
   "outputs": [
    {
     "name": "stdout",
     "output_type": "stream",
     "text": [
      "0.22570863481562956\n",
      "LGBM finally running time 4.865719795227051 seconds ---\n"
     ]
    }
   ],
   "source": [
    "from lightgbm import LGBMClassifier\n",
    "def time_fit_LGBM_fin():\n",
    "    start_time = time.time()\n",
    "    #clf_param = LGBMClassifier(max_depth = 4, n_estimators  = 500, learning_rate = 0.08)\n",
    "    clf_param = LGBMClassifier(n_estimators  = 500)\n",
    "    clf_param.fit(X_train_count, y_train)\n",
    "    y_score_pr_param = clf_param.predict_proba(X_test_count)\n",
    "    precision, recall, third = precision_recall_curve(y_test, y_score_pr_param[:,1])\n",
    "    print(metrics.auc(recall, precision))\n",
    "    return (time.time() - start_time)\n",
    "print(\"LGBM finally running time %s seconds ---\" % time_fit_LGBM_fin())"
   ]
  },
  {
   "cell_type": "markdown",
   "metadata": {},
   "source": [
    "n_estimators = 500 отдельно"
   ]
  },
  {
   "cell_type": "code",
   "execution_count": 193,
   "metadata": {},
   "outputs": [
    {
     "name": "stdout",
     "output_type": "stream",
     "text": [
      "0.23559923413960696\n",
      "LGBM finally running time 1.4330494403839111 seconds ---\n"
     ]
    }
   ],
   "source": [
    "from lightgbm import LGBMClassifier\n",
    "def time_fit_LGBM_fin():\n",
    "    start_time = time.time()\n",
    "    clf_param = LGBMClassifier(max_depth = 4, n_estimators  = 100, learning_rate = 0.08)\n",
    "    #clf_param = LGBMClassifier(n_estimators  = 100)\n",
    "    clf_param.fit(X_train_count, y_train)\n",
    "    y_score_pr_param = clf_param.predict_proba(X_test_count)\n",
    "    precision, recall, third = precision_recall_curve(y_test, y_score_pr_param[:,1])\n",
    "    print(metrics.auc(recall, precision))\n",
    "    return (time.time() - start_time)\n",
    "print(\"LGBM finally running time %s seconds ---\" % time_fit_LGBM_fin())"
   ]
  },
  {
   "cell_type": "markdown",
   "metadata": {},
   "source": [
    "n_estimators = 100 с остальными параметрами"
   ]
  },
  {
   "cell_type": "markdown",
   "metadata": {},
   "source": [
    "**в ходе последнего эксперимента выяснилось, что параметры не являются независимыми, и если брать лучшие значения всех показателей, то точность не является самой лучшей. Как показано выше, при n_estimators = 100 точность выше чем при 500, но подставив остальные параметры точность при 500 уже лучше.**\n"
   ]
  },
  {
   "cell_type": "markdown",
   "metadata": {},
   "source": [
    "**на Cat_boost очень долго считаются значения, поэтому там подбирать лучшие значения мы не станем. Но даже не подбирая специально пареметры, чтобы точность их композиции была выше видно, что Cat_Boost показал лучшие значения. Однако время его работы в разы больше!**\n",
    "\n",
    "То что точность на Cat_Boost выше совпадает с ожиданиями, потому что если при таком времени работы еще и не получить выигрыш в точности, то непонятно зачем вообще такой алгоритм создали. А создали его неглупые люди из яндекса относительно недавно, так что все сходится с ожиданиями"
   ]
  },
  {
   "cell_type": "code",
   "execution_count": null,
   "metadata": {},
   "outputs": [],
   "source": []
  },
  {
   "cell_type": "markdown",
   "metadata": {},
   "source": [
    "\n",
    "**Бонус (0.2 балла)**\n",
    "\n",
    "Вставьте лучший мем 2020"
   ]
  },
  {
   "cell_type": "markdown",
   "metadata": {},
   "source": [
    "![alt text](memes.jpg \"Title\")"
   ]
  },
  {
   "cell_type": "markdown",
   "metadata": {},
   "source": [
    "## И адаптированная версия для взрослых\n",
    "\n",
    "\n",
    "\n"
   ]
  },
  {
   "cell_type": "code",
   "execution_count": null,
   "metadata": {},
   "outputs": [],
   "source": []
  },
  {
   "cell_type": "code",
   "execution_count": 2,
   "metadata": {},
   "outputs": [
    {
     "data": {
      "image/jpeg": "[encoded data removed]",
      "text/plain": [
       "<IPython.core.display.Image object>"
      ]
     },
     "execution_count": 2,
     "metadata": {},
     "output_type": "execute_result"
    }
   ],
   "source": [
    "from IPython.display import Image\n",
    "Image(\"memes_for_old.jpg\")"
   ]
  },
  {
   "cell_type": "code",
   "execution_count": null,
   "metadata": {},
   "outputs": [],
   "source": []
  },
  {
   "cell_type": "code",
   "execution_count": null,
   "metadata": {},
   "outputs": [],
   "source": []
  }
 ],
 "metadata": {
  "kernelspec": {
   "display_name": "Python 3",
   "language": "python",
   "name": "python3"
  },
  "language_info": {
   "codemirror_mode": {
    "name": "ipython",
    "version": 3
   },
   "file_extension": ".py",
   "mimetype": "text/x-python",
   "name": "python",
   "nbconvert_exporter": "python",
   "pygments_lexer": "ipython3",
   "version": "3.8.3"
  }
 },
 "nbformat": 4,
 "nbformat_minor": 4
}
